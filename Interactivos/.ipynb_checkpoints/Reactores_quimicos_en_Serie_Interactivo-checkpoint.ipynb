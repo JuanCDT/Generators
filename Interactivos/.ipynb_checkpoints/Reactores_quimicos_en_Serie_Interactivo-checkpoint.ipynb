{
 "cells": [
  {
   "cell_type": "markdown",
   "metadata": {},
   "source": [
    "# Reactores Químicos en Serie. \n",
    "## Determinación del volumen de n reactores Mezcla Perfecta en serie"
   ]
  },
  {
   "cell_type": "code",
   "execution_count": 1,
   "metadata": {},
   "outputs": [
    {
     "data": {
      "text/html": [
       "<script>\n",
       "  function code_toggle() {\n",
       "    if (code_shown){\n",
       "      $('div.input').hide('500');\n",
       "      $('#toggleButton').val('Mostrar código')\n",
       "    } else {\n",
       "      $('div.input').show('500');\n",
       "      $('#toggleButton').val('Esconder código')\n",
       "    }\n",
       "    code_shown = !code_shown\n",
       "  }\n",
       "\n",
       "  $( document ).ready(function(){\n",
       "    code_shown=false;\n",
       "    $('div.input').hide()\n",
       "  });\n",
       "</script>\n",
       "<form action=\"javascript:code_toggle()\"><input type=\"submit\" id=\"toggleButton\" value=\"Mostrar código\"></form>"
      ],
      "text/plain": [
       "<IPython.core.display.HTML object>"
      ]
     },
     "metadata": {},
     "output_type": "display_data"
    },
    {
     "data": {
      "text/html": [
       "<h1 style=\"color:#C30\"><strong>Avanzar para generar datos</strong></h1>"
      ],
      "text/plain": [
       "<IPython.core.display.HTML object>"
      ]
     },
     "metadata": {},
     "output_type": "display_data"
    },
    {
     "data": {
      "text/html": [
       "<p>Recuerda que una ecuación cinética de tipo potencial            tiene la forma:</br>  </p>"
      ],
      "text/plain": [
       "<IPython.core.display.HTML object>"
      ]
     },
     "metadata": {},
     "output_type": "display_data"
    },
    {
     "data": {
      "text/latex": [
       "$$r=k\\cdot C_A^n$$"
      ],
      "text/plain": [
       "<IPython.core.display.Math object>"
      ]
     },
     "metadata": {},
     "output_type": "display_data"
    }
   ],
   "source": [
    "#%matplotlib notebook\n",
    "import numpy as np\n",
    "from scipy import optimize\n",
    "from scipy.integrate import ode\n",
    "import matplotlib.pyplot as mpl\n",
    "import matplotlib.patches as patches\n",
    "import random\n",
    "import math\n",
    "import ipywidgets as widgets\n",
    "import IPython.core.display as di\n",
    "from ipywidgets import interact, IntSlider, FloatSlider,fixed\n",
    "import notebook\n",
    "from IPython.display import clear_output, display, HTML, Image,Math, Latex\n",
    "from IPython.external import mathjax\n",
    "\n",
    "FigureSize=(10,5)\n",
    "\n",
    "\n",
    "def generador_parametros(): #generación de parámetros de la ecuación cinética y Temperatura de trabajo\n",
    "    global k, Ea, Ln_K0,T,Qv,Ca0,Xas\n",
    "    \n",
    "    Ea=random.uniform(40.,80.0)\n",
    "    Ca0=round(random.uniform(5.,10.),1)\n",
    "    Xas=round(random.uniform(0.5,1.0),2)\n",
    "    Ln_K0 = random.uniform(15.,25.)\n",
    "    T= random.uniform(40., 80.) #Temperatura en ºC\n",
    "    T1=T+273.15 #Temperatura en K\n",
    "    k = math.exp(Ln_K0)*math.exp(Ea*(-1000.)/(8.31*(T1))) #Para este caso n=1\n",
    "    Qv=round(random.uniform(50,100),0) #Caudal volumétrico en L/min\n",
    "    \n",
    "    return k,T,Qv,Ca0,Xas\n",
    "\n",
    "\n",
    "def Reactor_MP(Qv,k,Ca0,V): #Cálculo del volumen del rtor MP\n",
    "    Cas=Ca0/(1+k*V/Qv)\n",
    "    return Cas\n",
    "\n",
    "\n",
    "def Bateria_Serie_EC_Diseno(V,Qv,k,Ca0,Xas,N):    \n",
    "    Ca_salida=Ca0*(1-Xas)\n",
    "    value=Ca_salida-Ca0/(1+k*V/Qv)**N \n",
    "    return value\n",
    "\n",
    "def Volumen_Rtor_Bateria(Qv,k,Ca0,Xas,N):\n",
    "    volumen=optimize.fsolve(Bateria_Serie_EC_Diseno, 1, args=(Qv,k,Ca0,Xas,N), xtol=1e-06, maxfev=500)\n",
    "    return volumen\n",
    "\n",
    "\n",
    "def Bateria_Serie_MP(V,N,Qv,k,Ca0):\n",
    "    Concentraciones = [Ca0]\n",
    "    Conversiones=[0]\n",
    "    for i in range(N):\n",
    "        Concentraciones.append(Reactor_MP(Qv, k, Concentraciones[i], V))\n",
    "        xa=(Concentraciones[0]-Concentraciones[-1])/Concentraciones[0]\n",
    "        Conversiones.append(xa)\n",
    "    return Concentraciones,Conversiones\n",
    "            \n",
    "\n",
    "def f(Xa,V,n,k,Ca0,Qv): #ecuación cinética\n",
    "\n",
    "    t_residencia=(Qv)/(k*(Ca0**(n-1))*(1-Xa)**n)\n",
    "    return t_residencia\n",
    "\n",
    "\n",
    "def Reactor_MP_Volumen(Qv,n,k,Ca0,Xas): #Cálculo del volumen del rtor MP\n",
    "\n",
    "    Volumen=Qv*(Ca0*Xas/(((Ca0*(1-Xas))**n)*k))\n",
    "    return Volumen\n",
    "\n",
    "\n",
    "def Reactor_FP(Qv,n,k,Ca0,Xas):\n",
    "       \n",
    "    incr_Xa=0.005\n",
    "\n",
    "    V = []\n",
    "    Xa = []\n",
    "\n",
    "    Xa0=0.\n",
    "    V_inicial=0.\n",
    "    \n",
    "    V.append(0.)\n",
    "    Xa.append(0.)\n",
    "\n",
    "    r = ode(f).set_integrator('vode', method='bdf', nsteps=1000, atol = 1.0e-05, rtol = 1.0e-05)\n",
    "    r.set_initial_value(V_inicial,Xa0).set_f_params(n,k,Ca0,Qv)\n",
    "    #print(t[0], Ca[0])\n",
    "    #print ('r_t: ',r.t,'Ca0: ',r.y)\n",
    "\n",
    "    while r.successful() and Xa[-1]<=Xas:\n",
    "        r.integrate(r.t + incr_Xa)\n",
    "        #Ca[k1]=r.y\n",
    "        V.append(r.y)\n",
    "        Xa.append(r.t)\n",
    "        #print ('tiempo:', '%.2f' % t[k], 'Ca:','%.4f'%Ca[k])\n",
    "        XaFP=Xa\n",
    "\n",
    "    return V[-1],XaFP\n",
    "\n",
    "\n",
    "display(HTML('''<script>\n",
    "  function code_toggle() {\n",
    "    if (code_shown){\n",
    "      $('div.input').hide('500');\n",
    "      $('#toggleButton').val('Mostrar código')\n",
    "    } else {\n",
    "      $('div.input').show('500');\n",
    "      $('#toggleButton').val('Esconder código')\n",
    "    }\n",
    "    code_shown = !code_shown\n",
    "  }\n",
    "\n",
    "  $( document ).ready(function(){\n",
    "    code_shown=false;\n",
    "    $('div.input').hide()\n",
    "  });\n",
    "</script>\n",
    "<form action=\"javascript:code_toggle()\"><input type=\"submit\" id=\"toggleButton\" value=\"Mostrar código\"></form>'''))\n",
    "\n",
    "display(HTML('<h1 style=\"color:#C30\"><strong>Avanzar para generar datos</strong></h1>'))\n",
    "display(HTML('<p>Recuerda que una ecuación cinética de tipo potencial\\\n",
    "            tiene la forma:</br>  </p>' ))\n",
    "display(Math(r'r=k\\cdot C_A^n'))\n",
    "\n"
   ]
  },
  {
   "cell_type": "code",
   "execution_count": 2,
   "metadata": {},
   "outputs": [
    {
     "data": {
      "text/html": [
       "<h1 style=\"color:#C30\"><strong>Los datos del sistema son:</strong></h1>"
      ],
      "text/plain": [
       "<IPython.core.display.HTML object>"
      ]
     },
     "metadata": {},
     "output_type": "display_data"
    },
    {
     "name": "stdout",
     "output_type": "stream",
     "text": [
      "Ln k:  -10.637 ; T (ºC):  40.7 ; Qv (L/min):  77.0 ; Ca0 (mol/L):  9.50 ; Xas:  0.50\n"
     ]
    }
   ],
   "source": [
    "display(HTML('<h1 style=\"color:#C30\"><strong>Los datos del sistema son:</strong></h1>'))\n",
    "\n",
    "k,T,Qv,Ca0,Xas=generador_parametros()\n",
    "\n",
    "print (\"Ln k: \",'%.3f' % math.log(k),  '; T (ºC): ','%.1f' % T, '; Qv (L/min): ','%.1f' % Qv,\n",
    "       '; Ca0 (mol/L): ','%.2f' % Ca0,  '; Xas: ','%.2f' % Xas)"
   ]
  },
  {
   "cell_type": "code",
   "execution_count": 3,
   "metadata": {},
   "outputs": [
    {
     "data": {
      "text/html": [
       "<h1 style=\"color:#C30\"><strong>Bateria de Reactores Mezcla Perfecta - CSTR (continuous flow stirred-tank reactor) en sus siglas en inglés -. </strong></h1>"
      ],
      "text/plain": [
       "<IPython.core.display.HTML object>"
      ]
     },
     "metadata": {},
     "output_type": "display_data"
    },
    {
     "ename": "FileNotFoundError",
     "evalue": "[Errno 2] No such file or directory: './Imagenes/Rtor Mezcla Completa en serie.jpeg'",
     "output_type": "error",
     "traceback": [
      "\u001b[0;31m---------------------------------------------------------------------------\u001b[0m",
      "\u001b[0;31mFileNotFoundError\u001b[0m                         Traceback (most recent call last)",
      "\u001b[0;32m<ipython-input-3-88869ff150fa>\u001b[0m in \u001b[0;36m<module>\u001b[0;34m()\u001b[0m\n\u001b[1;32m      1\u001b[0m \u001b[0mdisplay\u001b[0m\u001b[0;34m(\u001b[0m\u001b[0mHTML\u001b[0m\u001b[0;34m(\u001b[0m\u001b[0;34m'<h1 style=\"color:#C30\"><strong>Bateria de Reactores Mezcla Perfecta - CSTR (continuous flow stirred-tank reactor) en sus siglas en inglés -. </strong></h1>'\u001b[0m \u001b[0;34m)\u001b[0m\u001b[0;34m)\u001b[0m\u001b[0;34m\u001b[0m\u001b[0m\n\u001b[0;32m----> 2\u001b[0;31m \u001b[0mImage\u001b[0m\u001b[0;34m(\u001b[0m\u001b[0mfilename\u001b[0m\u001b[0;34m=\u001b[0m\u001b[0;34m'./Imagenes/Rtor Mezcla Completa en serie.jpeg'\u001b[0m\u001b[0;34m)\u001b[0m\u001b[0;34m\u001b[0m\u001b[0m\n\u001b[0m\u001b[1;32m      3\u001b[0m \u001b[0;34m\u001b[0m\u001b[0m\n",
      "\u001b[0;32m~/anaconda3/lib/python3.6/site-packages/IPython/core/display.py\u001b[0m in \u001b[0;36m__init__\u001b[0;34m(self, data, url, filename, format, embed, width, height, retina, unconfined, metadata)\u001b[0m\n\u001b[1;32m   1132\u001b[0m         \u001b[0mself\u001b[0m\u001b[0;34m.\u001b[0m\u001b[0munconfined\u001b[0m \u001b[0;34m=\u001b[0m \u001b[0munconfined\u001b[0m\u001b[0;34m\u001b[0m\u001b[0m\n\u001b[1;32m   1133\u001b[0m         super(Image, self).__init__(data=data, url=url, filename=filename, \n\u001b[0;32m-> 1134\u001b[0;31m                 metadata=metadata)\n\u001b[0m\u001b[1;32m   1135\u001b[0m \u001b[0;34m\u001b[0m\u001b[0m\n\u001b[1;32m   1136\u001b[0m         \u001b[0;32mif\u001b[0m \u001b[0mself\u001b[0m\u001b[0;34m.\u001b[0m\u001b[0mwidth\u001b[0m \u001b[0;32mis\u001b[0m \u001b[0;32mNone\u001b[0m \u001b[0;32mand\u001b[0m \u001b[0mself\u001b[0m\u001b[0;34m.\u001b[0m\u001b[0mmetadata\u001b[0m\u001b[0;34m.\u001b[0m\u001b[0mget\u001b[0m\u001b[0;34m(\u001b[0m\u001b[0;34m'width'\u001b[0m\u001b[0;34m,\u001b[0m \u001b[0;34m{\u001b[0m\u001b[0;34m}\u001b[0m\u001b[0;34m)\u001b[0m\u001b[0;34m:\u001b[0m\u001b[0;34m\u001b[0m\u001b[0m\n",
      "\u001b[0;32m~/anaconda3/lib/python3.6/site-packages/IPython/core/display.py\u001b[0m in \u001b[0;36m__init__\u001b[0;34m(self, data, url, filename, metadata)\u001b[0m\n\u001b[1;32m    606\u001b[0m             \u001b[0mself\u001b[0m\u001b[0;34m.\u001b[0m\u001b[0mmetadata\u001b[0m \u001b[0;34m=\u001b[0m \u001b[0;34m{\u001b[0m\u001b[0;34m}\u001b[0m\u001b[0;34m\u001b[0m\u001b[0m\n\u001b[1;32m    607\u001b[0m \u001b[0;34m\u001b[0m\u001b[0m\n\u001b[0;32m--> 608\u001b[0;31m         \u001b[0mself\u001b[0m\u001b[0;34m.\u001b[0m\u001b[0mreload\u001b[0m\u001b[0;34m(\u001b[0m\u001b[0;34m)\u001b[0m\u001b[0;34m\u001b[0m\u001b[0m\n\u001b[0m\u001b[1;32m    609\u001b[0m         \u001b[0mself\u001b[0m\u001b[0;34m.\u001b[0m\u001b[0m_check_data\u001b[0m\u001b[0;34m(\u001b[0m\u001b[0;34m)\u001b[0m\u001b[0;34m\u001b[0m\u001b[0m\n\u001b[1;32m    610\u001b[0m \u001b[0;34m\u001b[0m\u001b[0m\n",
      "\u001b[0;32m~/anaconda3/lib/python3.6/site-packages/IPython/core/display.py\u001b[0m in \u001b[0;36mreload\u001b[0;34m(self)\u001b[0m\n\u001b[1;32m   1163\u001b[0m         \u001b[0;34m\"\"\"Reload the raw data from file or URL.\"\"\"\u001b[0m\u001b[0;34m\u001b[0m\u001b[0m\n\u001b[1;32m   1164\u001b[0m         \u001b[0;32mif\u001b[0m \u001b[0mself\u001b[0m\u001b[0;34m.\u001b[0m\u001b[0membed\u001b[0m\u001b[0;34m:\u001b[0m\u001b[0;34m\u001b[0m\u001b[0m\n\u001b[0;32m-> 1165\u001b[0;31m             \u001b[0msuper\u001b[0m\u001b[0;34m(\u001b[0m\u001b[0mImage\u001b[0m\u001b[0;34m,\u001b[0m\u001b[0mself\u001b[0m\u001b[0;34m)\u001b[0m\u001b[0;34m.\u001b[0m\u001b[0mreload\u001b[0m\u001b[0;34m(\u001b[0m\u001b[0;34m)\u001b[0m\u001b[0;34m\u001b[0m\u001b[0m\n\u001b[0m\u001b[1;32m   1166\u001b[0m             \u001b[0;32mif\u001b[0m \u001b[0mself\u001b[0m\u001b[0;34m.\u001b[0m\u001b[0mretina\u001b[0m\u001b[0;34m:\u001b[0m\u001b[0;34m\u001b[0m\u001b[0m\n\u001b[1;32m   1167\u001b[0m                 \u001b[0mself\u001b[0m\u001b[0;34m.\u001b[0m\u001b[0m_retina_shape\u001b[0m\u001b[0;34m(\u001b[0m\u001b[0;34m)\u001b[0m\u001b[0;34m\u001b[0m\u001b[0m\n",
      "\u001b[0;32m~/anaconda3/lib/python3.6/site-packages/IPython/core/display.py\u001b[0m in \u001b[0;36mreload\u001b[0;34m(self)\u001b[0m\n\u001b[1;32m    631\u001b[0m         \u001b[0;34m\"\"\"Reload the raw data from file or URL.\"\"\"\u001b[0m\u001b[0;34m\u001b[0m\u001b[0m\n\u001b[1;32m    632\u001b[0m         \u001b[0;32mif\u001b[0m \u001b[0mself\u001b[0m\u001b[0;34m.\u001b[0m\u001b[0mfilename\u001b[0m \u001b[0;32mis\u001b[0m \u001b[0;32mnot\u001b[0m \u001b[0;32mNone\u001b[0m\u001b[0;34m:\u001b[0m\u001b[0;34m\u001b[0m\u001b[0m\n\u001b[0;32m--> 633\u001b[0;31m             \u001b[0;32mwith\u001b[0m \u001b[0mopen\u001b[0m\u001b[0;34m(\u001b[0m\u001b[0mself\u001b[0m\u001b[0;34m.\u001b[0m\u001b[0mfilename\u001b[0m\u001b[0;34m,\u001b[0m \u001b[0mself\u001b[0m\u001b[0;34m.\u001b[0m\u001b[0m_read_flags\u001b[0m\u001b[0;34m)\u001b[0m \u001b[0;32mas\u001b[0m \u001b[0mf\u001b[0m\u001b[0;34m:\u001b[0m\u001b[0;34m\u001b[0m\u001b[0m\n\u001b[0m\u001b[1;32m    634\u001b[0m                 \u001b[0mself\u001b[0m\u001b[0;34m.\u001b[0m\u001b[0mdata\u001b[0m \u001b[0;34m=\u001b[0m \u001b[0mf\u001b[0m\u001b[0;34m.\u001b[0m\u001b[0mread\u001b[0m\u001b[0;34m(\u001b[0m\u001b[0;34m)\u001b[0m\u001b[0;34m\u001b[0m\u001b[0m\n\u001b[1;32m    635\u001b[0m         \u001b[0;32melif\u001b[0m \u001b[0mself\u001b[0m\u001b[0;34m.\u001b[0m\u001b[0murl\u001b[0m \u001b[0;32mis\u001b[0m \u001b[0;32mnot\u001b[0m \u001b[0;32mNone\u001b[0m\u001b[0;34m:\u001b[0m\u001b[0;34m\u001b[0m\u001b[0m\n",
      "\u001b[0;31mFileNotFoundError\u001b[0m: [Errno 2] No such file or directory: './Imagenes/Rtor Mezcla Completa en serie.jpeg'"
     ]
    }
   ],
   "source": [
    "display(HTML('<h1 style=\"color:#C30\"><strong>Bateria de Reactores Mezcla Perfecta - CSTR (continuous flow stirred-tank reactor) en sus siglas en inglés -. </strong></h1>' ))\n",
    "Image(filename='./Imagenes/Rtor Mezcla Completa en serie.jpeg')\n",
    "\n"
   ]
  },
  {
   "cell_type": "code",
   "execution_count": null,
   "metadata": {},
   "outputs": [],
   "source": [
    "display(HTML('<h1 style=\"color:#C30\"><strong>La ecuación de diseño de un reactor Mezcla Perfecta es:</br> </strong></h1>' ))\n",
    "display(Math(r'\\frac{V}{Q_V}=\\frac{C_A^{entrada} \\cdot X_A}{(-R_A)}'))\n",
    "display(HTML('<h1 style=\"color:#C30\"><strong>La ecuación de diseño de una bateria de reactores Mezcla Perfecta es:</br> </strong></h1>' ))\n",
    "display(Math(r'C_{A_{salida}}^{reactor\\ N}=\\frac{C_{A_{entrada}}^{reactor\\ 1}}{\\left (  1 + k \\frac{V}{Q_V} \\right )^N }'))"
   ]
  },
  {
   "cell_type": "code",
   "execution_count": null,
   "metadata": {},
   "outputs": [],
   "source": [
    "parametros=[Qv,k,Ca0,Xas]\n",
    "\n",
    "\n",
    "def Graficas(N,p):\n",
    "    \n",
    "    Qv,k,Ca0,Xas=p\n",
    "    Volumen_Rtor_MP=Volumen_Rtor_Bateria(Qv,k,Ca0,Xas,N)\n",
    "    V_FP,Xa_FP=Reactor_FP(Qv,1,k,Ca0,Xas)\n",
    "    \n",
    "    \n",
    "    Concentraciones,Conversiones=Bateria_Serie_MP(Volumen_Rtor_MP,N,Qv,k,Ca0)\n",
    "\n",
    "    Oscuridad=np.arange(1/N, 1+1/N, 1/N)\n",
    "\n",
    "\n",
    "    fig1 = mpl.figure(figsize=FigureSize)\n",
    "    #mpl.clf()\n",
    "    ax1 = fig1.add_subplot(121)\n",
    "    height=[]\n",
    "    for i in range(N):\n",
    "        width=(Conversiones[i+1]-Conversiones[i])\n",
    "        height.append(1/(k*Concentraciones[i+1]))\n",
    "        ax1.add_patch(\n",
    "        patches.Rectangle(\n",
    "                    (Conversiones[i], 0.0),   # (xa_entrada, y=o)\n",
    "                    width,          # width - (xa_salida-xa_entrada)\n",
    "                    height[i],          # height - (1/-Ra)\n",
    "                    alpha=Oscuridad[i]\n",
    "                )\n",
    "            )\n",
    "\n",
    "    x_FP=np.asarray(Xa_FP)\n",
    "    y_FP=1/(k*Ca0*(1-x_FP))\n",
    "    mpl.plot(x_FP,y_FP,'k-', linewidth = 2)\n",
    "\n",
    "    mpl.ylim((0, 1.05*max(height)))\n",
    "    mpl.ylabel('1/-Ra')\n",
    "    mpl.xlabel('Xa')\n",
    "\n",
    "    Concentracion_inverso=sorted(Concentraciones,reverse=True)\n",
    "\n",
    "    ax2 = fig1.add_subplot(122)\n",
    "    for i in range(N):\n",
    "        width=(Concentracion_inverso[i+1]-Concentracion_inverso[i])\n",
    "        ax2.add_patch(\n",
    "        patches.Rectangle(\n",
    "                    (Concentracion_inverso[i], 0.0),   # (xa_entrada, y=o)\n",
    "                    width,          # width - (xa_salida-xa_entrada)\n",
    "                    height[i],          # height - (1/-Ra)\n",
    "                    alpha=Oscuridad[i]\n",
    "                )\n",
    "            )\n",
    "\n",
    "    Ca_FP=Ca0*(1-x_FP)\n",
    "    mpl.plot(Ca_FP,y_FP,'k-', linewidth = 2)\n",
    "\n",
    "    mpl.xlim((min(Concentracion_inverso)-0.5, 0.5+max(Concentracion_inverso)))\n",
    "    mpl.ylim((0, 1.05*max(height)))\n",
    "\n",
    "    mpl.ylabel('1/-Ra')\n",
    "    mpl.xlabel('Ca')\n",
    "    #mpl.rcParams['figure.figsize'] = (4., 2.)\n",
    "    #mpl.rcParams['axes.titlesize'] ='large'\n",
    "    #mpl.rcParams['axes.labelsize']= 'medium' \n",
    "    #mpl.rcParams['figure.dpi']= 600 \n",
    "    mpl.tight_layout()    \n",
    "    mpl.show()\n",
    "    \n",
    "    print ('El volumen de cada reactor es: ','%.1f' % Volumen_Rtor_MP,' L')    \n",
    "    print ('El volumen total de la bateria de reactores es: ','%.1f' % (Volumen_Rtor_MP*N),' L \\n')\n",
    "    \n",
    "    print ('El volumen del un único reactor Mezcla Perfecta sería: ','%.1f' % Reactor_MP_Volumen(Qv,1,k,Ca0,Xas),' L')\n",
    "    print ('El volumen del reactor Flujo Pistón sería: ','%.1f' % V_FP,' L')\n",
    "    \n",
    "s1=widgets.IntSlider(\n",
    "    value=5.0,\n",
    "    min=1.0,\n",
    "    max=20.0,\n",
    "    step=1,\n",
    "    description='Nº Reactores:',\n",
    "    disabled=False,\n",
    "    continuous_update=False,\n",
    "    orientation='horizontal',\n",
    "    readout=True,\n",
    "    readout_format='i',\n",
    "    slider_color='lightblue')\n",
    "\n",
    "interact(Graficas,N=s1,p=fixed([Qv,k,Ca0,Xas]))\n",
    "\n"
   ]
  },
  {
   "cell_type": "code",
   "execution_count": null,
   "metadata": {},
   "outputs": [],
   "source": [
    "display(HTML('''\n",
    "\n",
    "<footer id=\"attribution\" style=\"float:right; color:#999; background:#fff;\">\n",
    "Programado con Jupyter. </footer>'''))"
   ]
  },
  {
   "cell_type": "code",
   "execution_count": null,
   "metadata": {},
   "outputs": [],
   "source": []
  },
  {
   "cell_type": "code",
   "execution_count": null,
   "metadata": {},
   "outputs": [],
   "source": []
  }
 ],
 "metadata": {
  "anaconda-cloud": {},
  "kernelspec": {
   "display_name": "Python 3",
   "language": "python",
   "name": "python3"
  },
  "language_info": {
   "codemirror_mode": {
    "name": "ipython",
    "version": 3
   },
   "file_extension": ".py",
   "mimetype": "text/x-python",
   "name": "python",
   "nbconvert_exporter": "python",
   "pygments_lexer": "ipython3",
   "version": "3.6.4"
  }
 },
 "nbformat": 4,
 "nbformat_minor": 1
}
