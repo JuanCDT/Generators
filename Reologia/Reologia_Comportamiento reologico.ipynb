{
 "cells": [
  {
   "cell_type": "markdown",
   "metadata": {},
   "source": [
    "# *Reología.*\n",
    "## Determinación del tipo de comportamiento reológico y de los parámetros del modelo potencial"
   ]
  },
  {
   "cell_type": "code",
   "execution_count": 1,
   "metadata": {},
   "outputs": [
    {
     "data": {
      "text/html": [
       "<script>\n",
       "  function code_toggle() {\n",
       "    if (code_shown){\n",
       "      $('div.input').hide('500');\n",
       "      $('#toggleButton').val('Mostrar código')\n",
       "    } else {\n",
       "      $('div.input').show('500');\n",
       "      $('#toggleButton').val('Esconder código')\n",
       "    }\n",
       "    code_shown = !code_shown\n",
       "  }\n",
       "\n",
       "  $( document ).ready(function(){\n",
       "    code_shown=false;\n",
       "    $('div.input').hide()\n",
       "  });\n",
       "</script>\n",
       "<form action=\"javascript:code_toggle()\"><input type=\"submit\" id=\"toggleButton\" value=\"Mostrar código\"></form>"
      ],
      "text/plain": [
       "<IPython.core.display.HTML object>"
      ]
     },
     "metadata": {},
     "output_type": "display_data"
    },
    {
     "data": {
      "text/html": [
       "<h1 style=\"color:#000000\"><strong>Avanzar para generar datos</strong></h1>"
      ],
      "text/plain": [
       "<IPython.core.display.HTML object>"
      ]
     },
     "metadata": {},
     "output_type": "display_data"
    },
    {
     "data": {
      "text/html": [
       "<p>Recuerda cómo es el modelo reológico potencial:</br>  </p>"
      ],
      "text/plain": [
       "<IPython.core.display.HTML object>"
      ]
     },
     "metadata": {},
     "output_type": "display_data"
    },
    {
     "data": {
      "text/latex": [
       "$\\displaystyle \\tau=m\\cdot \\gamma^n$"
      ],
      "text/plain": [
       "<IPython.core.display.Math object>"
      ]
     },
     "metadata": {},
     "output_type": "display_data"
    },
    {
     "data": {
      "text/html": [
       "<p>donde $n$ es el índice de comportamiento y $m$ es el índice de consistencia. </br>  </p>"
      ],
      "text/plain": [
       "<IPython.core.display.HTML object>"
      ]
     },
     "metadata": {},
     "output_type": "display_data"
    }
   ],
   "source": [
    "\n",
    "#%matplotlib notebook\n",
    "\n",
    "%matplotlib inline\n",
    "import seaborn\n",
    "import numpy as np\n",
    "import matplotlib.pyplot as mpl\n",
    "from scipy.optimize import curve_fit\n",
    "import random\n",
    "import math\n",
    "import pandas as pd\n",
    "import IPython.core.display as di\n",
    "pd.set_option('display.notebook_repr_html', True)\n",
    "import notebook\n",
    "from IPython.display import clear_output, display, HTML, Image,Math, Latex\n",
    "from IPython.external import mathjax\n",
    "FigureSize=(15,5)\n",
    "\n",
    "\n",
    "\n",
    "\n",
    "def ModeloPotencia(x, m,n):\n",
    "    return m*x**n\n",
    "\n",
    "\n",
    "\n",
    "def polyfit(x, y, degree):\n",
    "    results = {}\n",
    "\n",
    "    coeffs = np.polyfit(x, y, degree)\n",
    "     # Polynomial Coefficients\n",
    "    results['polynomial'] = coeffs.tolist()\n",
    "\n",
    "    correlation = np.corrcoef(x, y)[0,1]\n",
    "\n",
    "\n",
    "    results['correlation'] = correlation\n",
    "    r_squared=correlation**2\n",
    "    results['determination'] = correlation**2\n",
    "\n",
    "    return r_squared,coeffs\n",
    "\n",
    "\n",
    "def generador_parametros():  # generarción de parámetros del modelo potencial: m y n\n",
    "    global m, n\n",
    "    m = round(random.uniform(10., 1000.), 1)\n",
    "    n = round(random.uniform(0.2, 1.4), 3)\n",
    "\n",
    "    return m, n\n",
    "\n",
    "\n",
    "\n",
    "def generador_valores(n_ptos):\n",
    "    global m, n, tau, gamma\n",
    "    m, n = generador_parametros()\n",
    "\n",
    "    gamma0 = round(random.uniform(1., 10.))\n",
    "    gamma_final = round(random.uniform(100., 1000.))\n",
    "\n",
    "    gamma = np.linspace(gamma0, gamma_final, n_ptos)\n",
    "    tau = (m+random.uniform(-0.02,0.02)*m)*gamma**(n+random.uniform(-0.02,0.02)*n)\n",
    "\n",
    "    return tau, gamma,m,n\n",
    "\n",
    "\n",
    "display(HTML('''<script>\n",
    "  function code_toggle() {\n",
    "    if (code_shown){\n",
    "      $('div.input').hide('500');\n",
    "      $('#toggleButton').val('Mostrar código')\n",
    "    } else {\n",
    "      $('div.input').show('500');\n",
    "      $('#toggleButton').val('Esconder código')\n",
    "    }\n",
    "    code_shown = !code_shown\n",
    "  }\n",
    "\n",
    "  $( document ).ready(function(){\n",
    "    code_shown=false;\n",
    "    $('div.input').hide()\n",
    "  });\n",
    "</script>\n",
    "<form action=\"javascript:code_toggle()\"><input type=\"submit\" id=\"toggleButton\" value=\"Mostrar código\"></form>'''))\n",
    "\n",
    "\n",
    "display(HTML('<h1 style=\"color:#000000\"><strong>Avanzar para generar datos</strong></h1>'))\n",
    "display(HTML('<p>Recuerda cómo es el modelo reológico potencial:</br>  </p>' ))\n",
    "display(Math(r'\\tau=m\\cdot \\gamma^n'))\n",
    "display(HTML('<p>donde $n$ es el índice de comportamiento y $m$ es el índice de consistencia. </br>  </p>' ))"
   ]
  },
  {
   "cell_type": "code",
   "execution_count": 2,
   "metadata": {},
   "outputs": [
    {
     "name": "stdout",
     "output_type": "stream",
     "text": [
      "Nº de puntos: 10\n"
     ]
    },
    {
     "data": {
      "text/html": [
       "<div>\n",
       "<style scoped>\n",
       "    .dataframe tbody tr th:only-of-type {\n",
       "        vertical-align: middle;\n",
       "    }\n",
       "\n",
       "    .dataframe tbody tr th {\n",
       "        vertical-align: top;\n",
       "    }\n",
       "\n",
       "    .dataframe thead th {\n",
       "        text-align: right;\n",
       "    }\n",
       "</style>\n",
       "<table border=\"1\" class=\"dataframe\">\n",
       "  <thead>\n",
       "    <tr style=\"text-align: right;\">\n",
       "      <th></th>\n",
       "      <th>Velocidad de deformación (1/s)</th>\n",
       "    </tr>\n",
       "    <tr>\n",
       "      <th>Tensión (N·m2)</th>\n",
       "      <th></th>\n",
       "    </tr>\n",
       "  </thead>\n",
       "  <tbody>\n",
       "    <tr>\n",
       "      <th>885.9</th>\n",
       "      <td>5.0</td>\n",
       "    </tr>\n",
       "    <tr>\n",
       "      <th>13685.3</th>\n",
       "      <td>85.8</td>\n",
       "    </tr>\n",
       "    <tr>\n",
       "      <th>25929.9</th>\n",
       "      <td>166.6</td>\n",
       "    </tr>\n",
       "    <tr>\n",
       "      <th>37947.8</th>\n",
       "      <td>247.3</td>\n",
       "    </tr>\n",
       "    <tr>\n",
       "      <th>49818.9</th>\n",
       "      <td>328.1</td>\n",
       "    </tr>\n",
       "    <tr>\n",
       "      <th>61581.6</th>\n",
       "      <td>408.9</td>\n",
       "    </tr>\n",
       "    <tr>\n",
       "      <th>73258.2</th>\n",
       "      <td>489.7</td>\n",
       "    </tr>\n",
       "    <tr>\n",
       "      <th>84863.7</th>\n",
       "      <td>570.4</td>\n",
       "    </tr>\n",
       "    <tr>\n",
       "      <th>96408.4</th>\n",
       "      <td>651.2</td>\n",
       "    </tr>\n",
       "    <tr>\n",
       "      <th>107900.2</th>\n",
       "      <td>732.0</td>\n",
       "    </tr>\n",
       "  </tbody>\n",
       "</table>\n",
       "</div>"
      ],
      "text/plain": [
       "                Velocidad de deformación (1/s)\n",
       "Tensión (N·m2)                                \n",
       "885.9                                      5.0\n",
       "13685.3                                   85.8\n",
       "25929.9                                  166.6\n",
       "37947.8                                  247.3\n",
       "49818.9                                  328.1\n",
       "61581.6                                  408.9\n",
       "73258.2                                  489.7\n",
       "84863.7                                  570.4\n",
       "96408.4                                  651.2\n",
       "107900.2                                 732.0"
      ]
     },
     "metadata": {},
     "output_type": "display_data"
    },
    {
     "data": {
      "text/html": [
       "<h1 style=\"color:#000000\"\"><strong>Avanzar para mostrar representación gráfica</strong></h1>"
      ],
      "text/plain": [
       "<IPython.core.display.HTML object>"
      ]
     },
     "metadata": {},
     "output_type": "display_data"
    }
   ],
   "source": [
    "n_ptos=int(input(\"Nº de puntos: \"))\n",
    "\n",
    "tau, gamma,m,n=generador_valores(n_ptos)\n",
    "\n",
    "        \n",
    "    \n",
    "eta=m*gamma**(n-1)\n",
    "\n",
    "tau1=np.copy(tau)\n",
    "tau1= np.round(tau1,1)\n",
    "\n",
    "gamma1=np.round(gamma,1)\n",
    "\n",
    "\n",
    "data=dict()\n",
    "data['Tensión (N·m2)']=tau1.tolist()\n",
    "data['Velocidad de deformación (1/s)']=gamma1.tolist()\n",
    "\n",
    "\n",
    "values = pd.DataFrame(data, columns=['Tensión (N·m2)', 'Velocidad de deformación (1/s)'])\n",
    "#values.style.set_properties(**{'text-align': 'center'})\n",
    "values.set_index('Tensión (N·m2)',inplace=True)\n",
    "display(values)\n",
    "\n",
    "\n",
    "display(HTML('<h1 style=\"color:#000000\"\"><strong>Avanzar para mostrar representación gráfica</strong></h1>'))"
   ]
  },
  {
   "cell_type": "code",
   "execution_count": 3,
   "metadata": {
    "scrolled": false
   },
   "outputs": [
    {
     "data": {
      "image/png": "[encoded data removed]",
      "text/plain": [
       "<Figure size 1080x360 with 2 Axes>"
      ]
     },
     "metadata": {
      "needs_background": "light"
     },
     "output_type": "display_data"
    },
    {
     "data": {
      "text/html": [
       "<h1 style=\"color:#000000\"><strong>Avanzar para mostrar representación en escala logarítmica </strong></h1>"
      ],
      "text/plain": [
       "<IPython.core.display.HTML object>"
      ]
     },
     "metadata": {},
     "output_type": "display_data"
    }
   ],
   "source": [
    "\n",
    "fig1=mpl.figure(figsize=FigureSize);\n",
    "\n",
    "ax1 = fig1.add_subplot(121);\n",
    "mpl.plot(gamma,tau, 'ro',label = 'Datos Experimentales')\n",
    "mpl.xlabel('Velocidad de deformación, (1/s)')\n",
    "mpl.ylabel('Tensión (N·m2)')\n",
    "mpl.legend(loc = 'best')\n",
    "\n",
    "\n",
    "ax2 = fig1.add_subplot(122);\n",
    "\n",
    "mpl.plot(tau,eta, 'ro',label = 'Datos Experimentales')\n",
    "mpl.xlabel('Velocidad de deformación, (1/s)')\n",
    "mpl.ylabel('Viscosidad (Pa·s)')\n",
    "mpl.legend(loc = 'best')\n",
    "   \n",
    "mpl.show()\n",
    "\n",
    "display(HTML('<h1 style=\"color:#000000\"><strong>Avanzar para mostrar representación en escala logarítmica </strong></h1>'))"
   ]
  },
  {
   "cell_type": "code",
   "execution_count": 4,
   "metadata": {},
   "outputs": [
    {
     "data": {
      "image/png": "[encoded data removed]",
      "text/plain": [
       "<Figure size 1080x360 with 2 Axes>"
      ]
     },
     "metadata": {
      "needs_background": "light"
     },
     "output_type": "display_data"
    },
    {
     "data": {
      "text/html": [
       "<h1 style=\"color:#000000\"><strong>Avanzar para mostrar ajuste del modelo potencial: parámetros reológicos </strong></h1>"
      ],
      "text/plain": [
       "<IPython.core.display.HTML object>"
      ]
     },
     "metadata": {},
     "output_type": "display_data"
    }
   ],
   "source": [
    "\n",
    "\n",
    "fig2=mpl.figure(figsize=FigureSize);\n",
    "\n",
    "ax1 = fig2.add_subplot(121);\n",
    "mpl.plot(gamma,tau, 'bo',label = 'Datos Experimentales')\n",
    "mpl.xlabel('Velocidad de deformación, (1/s)')\n",
    "mpl.ylabel('Tensión (N·m2)')\n",
    "mpl.legend(loc = 'best')\n",
    "\n",
    "mpl.yscale('log')\n",
    "mpl.xscale('log')\n",
    "\n",
    "\n",
    "\n",
    "ax2 = fig2.add_subplot(122);\n",
    "\n",
    "mpl.plot(gamma, eta,'bo',label = 'Datos Experimentales')\n",
    "mpl.xlabel('Velocidad de deformación, (1/s)')\n",
    "mpl.ylabel('Viscosidad (Pa·s)')\n",
    "mpl.legend(loc = 'best')\n",
    "mpl.yscale('log')\n",
    "mpl.xscale('log')\n",
    "\n",
    "\n",
    "mpl.show()\n",
    "\n",
    "display(HTML('<h1 style=\"color:#000000\"><strong>Avanzar para mostrar ajuste del modelo potencial: parámetros reológicos </strong></h1>'))"
   ]
  },
  {
   "cell_type": "code",
   "execution_count": 5,
   "metadata": {},
   "outputs": [
    {
     "data": {
      "image/png": "[encoded data removed]",
      "text/plain": [
       "<Figure size 1080x360 with 2 Axes>"
      ]
     },
     "metadata": {
      "needs_background": "light"
     },
     "output_type": "display_data"
    },
    {
     "data": {
      "text/html": [
       "<div>\n",
       "<style scoped>\n",
       "    .dataframe tbody tr th:only-of-type {\n",
       "        vertical-align: middle;\n",
       "    }\n",
       "\n",
       "    .dataframe tbody tr th {\n",
       "        vertical-align: top;\n",
       "    }\n",
       "\n",
       "    .dataframe thead th {\n",
       "        text-align: right;\n",
       "    }\n",
       "</style>\n",
       "<table border=\"1\" class=\"dataframe\">\n",
       "  <thead>\n",
       "    <tr style=\"text-align: right;\">\n",
       "      <th></th>\n",
       "      <th>m calculado</th>\n",
       "      <th>m generado</th>\n",
       "      <th>n calculado</th>\n",
       "      <th>n generado</th>\n",
       "    </tr>\n",
       "  </thead>\n",
       "  <tbody>\n",
       "    <tr>\n",
       "      <th>Resultados</th>\n",
       "      <td>188.0</td>\n",
       "      <td>186.4</td>\n",
       "      <td>0.963</td>\n",
       "      <td>0.963</td>\n",
       "    </tr>\n",
       "  </tbody>\n",
       "</table>\n",
       "</div>"
      ],
      "text/plain": [
       "            m calculado  m generado  n calculado  n generado\n",
       "Resultados        188.0       186.4        0.963       0.963"
      ]
     },
     "metadata": {},
     "output_type": "display_data"
    }
   ],
   "source": [
    "\n",
    "popt, pcov = curve_fit(ModeloPotencia, gamma, tau)\n",
    "m_experimental=popt[0]\n",
    "n_experimental=popt[1]\n",
    "Predichos=ModeloPotencia(gamma, m_experimental,n_experimental) # Valores predichos por el modelo\n",
    "\n",
    "\n",
    "perr = np.sqrt(np.diag(pcov)) #Error de cada uno de los parámetros del modelo: m y n\n",
    "residuals = tau- Predichos # Residuo: Experimentales menos predichos\n",
    "ss_res = np.sum(residuals**2) #SSresiduo: Suma del cuadrado de los residuos\n",
    "ss_tot = np.sum((tau-np.mean(tau))**2) # Suma de cuadrados total\n",
    "r_squared = 1 - (ss_res / ss_tot) # Cálculo de R2\n",
    "\n",
    "#Representación Experimentales y predichos\n",
    "\n",
    "gamma_100 = np.linspace(gamma[0], gamma[-1], 100)\n",
    "tau_Predichos=ModeloPotencia(gamma_100, m_experimental,n_experimental) # Valores predichos  para 100 valores\n",
    "Viscosidad_predicha=m_experimental*gamma_100**(n_experimental-1)\n",
    "\n",
    "fig3=mpl.figure(figsize=FigureSize);\n",
    "\n",
    "ax1 = fig3.add_subplot(121);\n",
    "mpl.plot(gamma,tau, 'ro',label = 'Datos Experimentales')\n",
    "mpl.plot(gamma_100,tau_Predichos, 'k-', linewidth = 1,label = '$\\mathrm{R^2}$ = ' + str(round(r_squared, 3)))\n",
    "\n",
    "mpl.xlabel('Velocidad de deformación, (1/s)')\n",
    "mpl.ylabel('Tensión (N·m2)')\n",
    "mpl.legend(loc = 'best')\n",
    "\n",
    "\n",
    "ax2 = fig3.add_subplot(122);\n",
    "mpl.plot(gamma,eta, 'ro',label = 'Datos Experimentales')\n",
    "mpl.plot(gamma_100,Viscosidad_predicha, 'k-', linewidth = 1,label = 'Viscosidad predicha')\n",
    "mpl.xlabel('Velocidad de deformación, (1/s)')\n",
    "mpl.ylabel('Viscosidad (Pa·s)')\n",
    "mpl.legend(loc = 'best')\n",
    "   \n",
    "mpl.show()\n",
    "\n",
    "ResultadosNombres=['m calculado','m generado','n calculado','n generado']\n",
    "ResultadosValores=[round(m_experimental, 1),round(m, 1),round(n_experimental, 3),round(n, 3)]\n",
    "\n",
    "data1 = dict(zip(ResultadosNombres, ResultadosValores))\n",
    "values1 = pd.DataFrame(data1,index=['Resultados'], columns=ResultadosNombres)\n",
    "#values2.set_index('tiempo (min)',inplace=True)\n",
    "display(values1)\n"
   ]
  },
  {
   "cell_type": "code",
   "execution_count": 6,
   "metadata": {},
   "outputs": [
    {
     "data": {
      "text/html": [
       "\n",
       "\n",
       "<footer id=\"attribution\" style=\"float:right; color:#999; background:#fff;\">\n",
       "Programado con Jupyter Notebook en Python 3.6. </footer>"
      ],
      "text/plain": [
       "<IPython.core.display.HTML object>"
      ]
     },
     "metadata": {},
     "output_type": "display_data"
    }
   ],
   "source": [
    "display(HTML('''\n",
    "\n",
    "<footer id=\"attribution\" style=\"float:right; color:#999; background:#fff;\">\n",
    "Programado con Jupyter Notebook en Python 3.6. </footer>'''))"
   ]
  }
 ],
 "metadata": {
  "anaconda-cloud": {},
  "celltoolbar": "Raw Cell Format",
  "kernelspec": {
   "display_name": "Python 3",
   "language": "python",
   "name": "python3"
  },
  "language_info": {
   "codemirror_mode": {
    "name": "ipython",
    "version": 3
   },
   "file_extension": ".py",
   "mimetype": "text/x-python",
   "name": "python",
   "nbconvert_exporter": "python",
   "pygments_lexer": "ipython3",
   "version": "3.7.6"
  },
  "toc": {
   "colors": {
    "hover_highlight": "#DAA520",
    "navigate_num": "#000000",
    "navigate_text": "#333333",
    "running_highlight": "#FF0000",
    "selected_highlight": "#FFD700",
    "sidebar_border": "#EEEEEE",
    "wrapper_background": "#FFFFFF"
   },
   "moveMenuLeft": true,
   "nav_menu": {
    "height": "81px",
    "width": "252px"
   },
   "navigate_menu": true,
   "number_sections": true,
   "sideBar": true,
   "threshold": 4,
   "toc_cell": false,
   "toc_section_display": "block",
   "toc_window_display": false,
   "widenNotebook": false
  }
 },
 "nbformat": 4,
 "nbformat_minor": 1
}
