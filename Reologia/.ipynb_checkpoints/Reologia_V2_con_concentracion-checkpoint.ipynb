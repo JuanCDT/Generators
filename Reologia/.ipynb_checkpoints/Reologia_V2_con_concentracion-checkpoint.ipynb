{
 "cells": [
  {
   "cell_type": "markdown",
   "metadata": {},
   "source": [
    "# *Reología.*\n",
    "## Determinación del tipo de comportamiento reológico y de los parámetros del modelo potencial"
   ]
  },
  {
   "cell_type": "code",
   "execution_count": 9,
   "metadata": {},
   "outputs": [
    {
     "data": {
      "text/html": [
       "<script>\n",
       "  function code_toggle() {\n",
       "    if (code_shown){\n",
       "      $('div.input').hide('500');\n",
       "      $('#toggleButton').val('Mostrar código')\n",
       "    } else {\n",
       "      $('div.input').show('500');\n",
       "      $('#toggleButton').val('Esconder código')\n",
       "    }\n",
       "    code_shown = !code_shown\n",
       "  }\n",
       "\n",
       "  $( document ).ready(function(){\n",
       "    code_shown=false;\n",
       "    $('div.input').hide()\n",
       "  });\n",
       "</script>\n",
       "<form action=\"javascript:code_toggle()\"><input type=\"submit\" id=\"toggleButton\" value=\"Mostrar código\"></form>"
      ],
      "text/plain": [
       "<IPython.core.display.HTML object>"
      ]
     },
     "metadata": {},
     "output_type": "display_data"
    },
    {
     "data": {
      "text/html": [
       "<h1 style=\"color:#C30\"><strong>Avanzar para generar datos</strong></h1>"
      ],
      "text/plain": [
       "<IPython.core.display.HTML object>"
      ]
     },
     "metadata": {},
     "output_type": "display_data"
    },
    {
     "data": {
      "text/html": [
       "<p>Recuerda cómo es el modelo reológico potencial:</br>  </p>"
      ],
      "text/plain": [
       "<IPython.core.display.HTML object>"
      ]
     },
     "metadata": {},
     "output_type": "display_data"
    },
    {
     "data": {
      "text/latex": [
       "$$\\tau=m\\cdot \\dot{\\gamma}^n$$"
      ],
      "text/plain": [
       "<IPython.core.display.Math object>"
      ]
     },
     "metadata": {},
     "output_type": "display_data"
    },
    {
     "data": {
      "text/latex": [
       "$$\\eta=m\\cdot \\dot{\\gamma}^\\left( n-1 \\right)$$"
      ],
      "text/plain": [
       "<IPython.core.display.Math object>"
      ]
     },
     "metadata": {},
     "output_type": "display_data"
    },
    {
     "data": {
      "text/html": [
       "<p>donde $\\tau$ es la tensión, $\\dot{\\gamma}$ es la velocidad de deformación,    $\\eta$ es la viscosidad aparente, $n$ es el índice de comportamiento y $m$ es el índice de consistencia. </br>  </p>"
      ],
      "text/plain": [
       "<IPython.core.display.HTML object>"
      ]
     },
     "metadata": {},
     "output_type": "display_data"
    },
    {
     "data": {
      "text/html": [
       "<p>Y cómo se puede aproximar a una función pontecial la dependencia de m y n con la concentración:</br>  </p>"
      ],
      "text/plain": [
       "<IPython.core.display.HTML object>"
      ]
     },
     "metadata": {},
     "output_type": "display_data"
    },
    {
     "data": {
      "text/latex": [
       "$$m,n=A\\cdot X^n$$"
      ],
      "text/plain": [
       "<IPython.core.display.Math object>"
      ]
     },
     "metadata": {},
     "output_type": "display_data"
    }
   ],
   "source": [
    "\n",
    "#%matplotlib notebook\n",
    "\n",
    "%matplotlib inline\n",
    "import seaborn\n",
    "import numpy as np\n",
    "import matplotlib.pyplot as mpl\n",
    "from scipy.optimize import curve_fit\n",
    "import random\n",
    "import math\n",
    "import pandas as pd\n",
    "import IPython.core.display as di\n",
    "pd.set_option('display.notebook_repr_html', True)\n",
    "import notebook\n",
    "from IPython.display import clear_output, display, HTML, Image,Math, Latex\n",
    "from IPython.external import mathjax\n",
    "FigureSize=(15,5) # Para matplotlib inline\n",
    "#FigureSize=(10.5,4.5) # Para matplotlib notebook\n",
    "\n",
    "\n",
    "\n",
    "def generador_intervaloGamma():\n",
    "    gamma0 = round(random.uniform(1., 10.))\n",
    "    gamma_final = round(random.uniform(100., 1000.))\n",
    "\n",
    "    return gamma0,gamma_final \n",
    "\n",
    "def generador_concentraciones(n_conc):\n",
    "    concentraciones=[]\n",
    "    for i in range(n_conc):\n",
    "        concentraciones.append(round(random.uniform(4, 20), 1))#concentración en g/L\n",
    "        \n",
    "    Concentraciones_array = np.asarray(concentraciones)\n",
    "    return np.sort(Concentraciones_array)\n",
    "\n",
    "def ModeloPotencia(x, m,n):\n",
    "    return m*x**n\n",
    "\n",
    "def generador_concentracion():\n",
    "    A_m= round(random.uniform(0.1, 1.0), 4)\n",
    "    A_n= round(random.uniform(0.1, 0.95), 3)\n",
    "    B_m= round(random.uniform(1.,3.0), 2)\n",
    "    B_n= round(random.uniform(0.05, 0.2), 2)\n",
    "    parametros=[A_m,A_n,B_m,B_n]\n",
    "\n",
    "    return parametros\n",
    "\n",
    "\n",
    "def Calculo_R2( y, yteorica):\n",
    "    residuals = y - yteorica  # Residuo: Experimentales menos predichos\n",
    "    ss_res = np.sum(residuals ** 2)  # SSresiduo: Suma del cuadrado de los residuos\n",
    "    ss_tot = np.sum((y - np.mean(y)) ** 2)  # Suma de cuadrados total\n",
    "    r_squared = 1 - (ss_res / ss_tot)  # Cálculo de R2\n",
    "\n",
    "    return r_squared\n",
    "\n",
    "\n",
    "def parametros_Concentracion(C,A_m,A_n,B_m,B_n):  # Obtención de parámetros del modelo potencial: m y n, para una concentración\n",
    "    global m, n\n",
    "    m = round(A_m*C**B_m,2)\n",
    "    n = round(A_n*C**B_n,3)\n",
    "\n",
    "    return m, n\n",
    "\n",
    "\n",
    "def generador_valores(n_ptos,C,parametros,gamma0,gamma_final):\n",
    "    global m, n, tau, gamma\n",
    "\n",
    "    A_m, A_n, B_m, B_n=parametros\n",
    "    \n",
    "    m, n = parametros_Concentracion(C,A_m,A_n,B_m,B_n)\n",
    "\n",
    "    gamma0 = round(random.uniform(1., 10.))\n",
    "    gamma_final = round(random.uniform(100., 1000.))\n",
    "\n",
    "    gamma = np.linspace(gamma0, gamma_final, n_ptos)\n",
    "    tau = (m+random.uniform(-0.05,0.05)*m)*gamma**(n+random.uniform(-0.05,0.05)*n)\n",
    "\n",
    "    return np.round(tau,1), np.round(gamma,1),m,n\n",
    "\n",
    "\n",
    "display(HTML('''<script>\n",
    "  function code_toggle() {\n",
    "    if (code_shown){\n",
    "      $('div.input').hide('500');\n",
    "      $('#toggleButton').val('Mostrar código')\n",
    "    } else {\n",
    "      $('div.input').show('500');\n",
    "      $('#toggleButton').val('Esconder código')\n",
    "    }\n",
    "    code_shown = !code_shown\n",
    "  }\n",
    "\n",
    "  $( document ).ready(function(){\n",
    "    code_shown=false;\n",
    "    $('div.input').hide()\n",
    "  });\n",
    "</script>\n",
    "<form action=\"javascript:code_toggle()\"><input type=\"submit\" id=\"toggleButton\" value=\"Mostrar código\"></form>'''))\n",
    "\n",
    "\n",
    "display(HTML('<h1 style=\"color:#C30\"><strong>Avanzar para generar datos</strong></h1>'))\n",
    "display(HTML('<p>Recuerda cómo es el modelo reológico potencial:</br>  </p>' ))\n",
    "display(Math(r'\\tau=m\\cdot \\dot{\\gamma}^n'))\n",
    "display(Math(r'\\eta=m\\cdot \\dot{\\gamma}^\\left( n-1 \\right)'))\n",
    "display(HTML(r'<p>donde $\\tau$ es la tensión, $\\dot{\\gamma}$ es la velocidad de deformación, \\\n",
    "   $\\eta$ es la viscosidad aparente, $n$ es el índice de comportamiento y $m$ es el índice de consistencia. </br>  </p>' ))\n",
    "\n",
    "display(HTML('<p>Y cómo se puede aproximar a una función pontecial la dependencia de m y n con la concentración:</br>  </p>' ))\n",
    "display(Math(r'm,n=A\\cdot X^n'))"
   ]
  },
  {
   "cell_type": "code",
   "execution_count": 2,
   "metadata": {},
   "outputs": [
    {
     "name": "stdout",
     "output_type": "stream",
     "text": [
      "Nº de concentraciones (máx. 5): 3\n"
     ]
    },
    {
     "data": {
      "text/html": [
       "<div>\n",
       "<style scoped>\n",
       "    .dataframe tbody tr th:only-of-type {\n",
       "        vertical-align: middle;\n",
       "    }\n",
       "\n",
       "    .dataframe tbody tr th {\n",
       "        vertical-align: top;\n",
       "    }\n",
       "\n",
       "    .dataframe thead th {\n",
       "        text-align: right;\n",
       "    }\n",
       "</style>\n",
       "<table border=\"1\" class=\"dataframe\">\n",
       "  <thead>\n",
       "    <tr style=\"text-align: right;\">\n",
       "      <th></th>\n",
       "    </tr>\n",
       "    <tr>\n",
       "      <th>Concentración (g/L)</th>\n",
       "    </tr>\n",
       "  </thead>\n",
       "  <tbody>\n",
       "    <tr>\n",
       "      <th>6.8</th>\n",
       "    </tr>\n",
       "    <tr>\n",
       "      <th>15.1</th>\n",
       "    </tr>\n",
       "    <tr>\n",
       "      <th>18.1</th>\n",
       "    </tr>\n",
       "  </tbody>\n",
       "</table>\n",
       "</div>"
      ],
      "text/plain": [
       "Empty DataFrame\n",
       "Columns: []\n",
       "Index: [6.8, 15.1, 18.1]"
      ]
     },
     "metadata": {},
     "output_type": "display_data"
    },
    {
     "data": {
      "text/html": [
       "<h1 style=\"color:#C30\"><strong>Avanzar para generar datos</strong></h1>"
      ],
      "text/plain": [
       "<IPython.core.display.HTML object>"
      ]
     },
     "metadata": {},
     "output_type": "display_data"
    }
   ],
   "source": [
    "n_conc=int(input(\"Nº de concentraciones (máx. 5): \"))\n",
    "\n",
    "concentraciones=generador_concentraciones(n_conc) #concentraciones es un array\n",
    "concentraciones_lista=concentraciones.tolist()\n",
    "conc=dict()\n",
    "conc['Concentración (g/L)']=concentraciones.tolist()\n",
    "valores_concentracion = pd.DataFrame(conc, columns=['Concentración (g/L)'])\n",
    "valores_concentracion.set_index('Concentración (g/L)',inplace=True)\n",
    "\n",
    "display(valores_concentracion)\n",
    "display(HTML('<h1 style=\"color:#C30\"><strong>Avanzar para generar datos</strong></h1>'))\n"
   ]
  },
  {
   "cell_type": "code",
   "execution_count": 15,
   "metadata": {},
   "outputs": [
    {
     "name": "stdout",
     "output_type": "stream",
     "text": [
      "Nº de puntos para cada concentración: 4\n"
     ]
    },
    {
     "data": {
      "text/html": [
       "<div>\n",
       "<style scoped>\n",
       "    .dataframe tbody tr th:only-of-type {\n",
       "        vertical-align: middle;\n",
       "    }\n",
       "\n",
       "    .dataframe tbody tr th {\n",
       "        vertical-align: top;\n",
       "    }\n",
       "\n",
       "    .dataframe thead th {\n",
       "        text-align: right;\n",
       "    }\n",
       "</style>\n",
       "<table border=\"1\" class=\"dataframe\">\n",
       "  <thead>\n",
       "    <tr style=\"text-align: right;\">\n",
       "      <th></th>\n",
       "      <th>Am</th>\n",
       "      <th>An</th>\n",
       "      <th>Bm</th>\n",
       "      <th>Bn</th>\n",
       "    </tr>\n",
       "  </thead>\n",
       "  <tbody>\n",
       "    <tr>\n",
       "      <th>0</th>\n",
       "      <td>0.1693</td>\n",
       "      <td>0.643</td>\n",
       "      <td>2.22</td>\n",
       "      <td>0.1</td>\n",
       "    </tr>\n",
       "  </tbody>\n",
       "</table>\n",
       "</div>"
      ],
      "text/plain": [
       "       Am     An    Bm   Bn\n",
       "0  0.1693  0.643  2.22  0.1"
      ]
     },
     "metadata": {},
     "output_type": "display_data"
    },
    {
     "data": {
      "text/html": [
       "<div>\n",
       "<style scoped>\n",
       "    .dataframe tbody tr th:only-of-type {\n",
       "        vertical-align: middle;\n",
       "    }\n",
       "\n",
       "    .dataframe tbody tr th {\n",
       "        vertical-align: top;\n",
       "    }\n",
       "\n",
       "    .dataframe thead th {\n",
       "        text-align: right;\n",
       "    }\n",
       "</style>\n",
       "<table border=\"1\" class=\"dataframe\">\n",
       "  <thead>\n",
       "    <tr style=\"text-align: right;\">\n",
       "      <th></th>\n",
       "      <th>m</th>\n",
       "      <th>n</th>\n",
       "    </tr>\n",
       "    <tr>\n",
       "      <th>Concentración (g/L)</th>\n",
       "      <th></th>\n",
       "      <th></th>\n",
       "    </tr>\n",
       "  </thead>\n",
       "  <tbody>\n",
       "    <tr>\n",
       "      <th>6.8</th>\n",
       "      <td>11.94</td>\n",
       "      <td>0.779</td>\n",
       "    </tr>\n",
       "    <tr>\n",
       "      <th>15.1</th>\n",
       "      <td>70.14</td>\n",
       "      <td>0.844</td>\n",
       "    </tr>\n",
       "    <tr>\n",
       "      <th>18.1</th>\n",
       "      <td>104.88</td>\n",
       "      <td>0.859</td>\n",
       "    </tr>\n",
       "  </tbody>\n",
       "</table>\n",
       "</div>"
      ],
      "text/plain": [
       "                          m      n\n",
       "Concentración (g/L)               \n",
       "6.8                   11.94  0.779\n",
       "15.1                  70.14  0.844\n",
       "18.1                 104.88  0.859"
      ]
     },
     "metadata": {},
     "output_type": "display_data"
    },
    {
     "data": {
      "text/html": [
       "<div>\n",
       "<style scoped>\n",
       "    .dataframe tbody tr th:only-of-type {\n",
       "        vertical-align: middle;\n",
       "    }\n",
       "\n",
       "    .dataframe tbody tr th {\n",
       "        vertical-align: top;\n",
       "    }\n",
       "\n",
       "    .dataframe thead th {\n",
       "        text-align: right;\n",
       "    }\n",
       "</style>\n",
       "<table border=\"1\" class=\"dataframe\">\n",
       "  <thead>\n",
       "    <tr style=\"text-align: right;\">\n",
       "      <th></th>\n",
       "      <th>Tensión (N/m2)</th>\n",
       "      <th>Velocidad de deformación, (1/s)</th>\n",
       "    </tr>\n",
       "    <tr>\n",
       "      <th>Concentración (g/L)</th>\n",
       "      <th></th>\n",
       "      <th></th>\n",
       "    </tr>\n",
       "  </thead>\n",
       "  <tbody>\n",
       "    <tr>\n",
       "      <th>6.8</th>\n",
       "      <td>44.4</td>\n",
       "      <td>6.0</td>\n",
       "    </tr>\n",
       "    <tr>\n",
       "      <th>6.8</th>\n",
       "      <td>456.0</td>\n",
       "      <td>134.7</td>\n",
       "    </tr>\n",
       "    <tr>\n",
       "      <th>6.8</th>\n",
       "      <td>753.5</td>\n",
       "      <td>263.3</td>\n",
       "    </tr>\n",
       "    <tr>\n",
       "      <th>6.8</th>\n",
       "      <td>1014.9</td>\n",
       "      <td>392.0</td>\n",
       "    </tr>\n",
       "    <tr>\n",
       "      <th>15.1</th>\n",
       "      <td>393.5</td>\n",
       "      <td>7.0</td>\n",
       "    </tr>\n",
       "    <tr>\n",
       "      <th>15.1</th>\n",
       "      <td>7497.3</td>\n",
       "      <td>195.0</td>\n",
       "    </tr>\n",
       "    <tr>\n",
       "      <th>15.1</th>\n",
       "      <td>13633.2</td>\n",
       "      <td>383.0</td>\n",
       "    </tr>\n",
       "    <tr>\n",
       "      <th>15.1</th>\n",
       "      <td>19419.3</td>\n",
       "      <td>571.0</td>\n",
       "    </tr>\n",
       "    <tr>\n",
       "      <th>18.1</th>\n",
       "      <td>721.7</td>\n",
       "      <td>9.0</td>\n",
       "    </tr>\n",
       "    <tr>\n",
       "      <th>18.1</th>\n",
       "      <td>3987.2</td>\n",
       "      <td>62.3</td>\n",
       "    </tr>\n",
       "    <tr>\n",
       "      <th>18.1</th>\n",
       "      <td>6883.2</td>\n",
       "      <td>115.7</td>\n",
       "    </tr>\n",
       "    <tr>\n",
       "      <th>18.1</th>\n",
       "      <td>9621.3</td>\n",
       "      <td>169.0</td>\n",
       "    </tr>\n",
       "  </tbody>\n",
       "</table>\n",
       "</div>"
      ],
      "text/plain": [
       "                     Tensión (N/m2)  Velocidad de deformación, (1/s)\n",
       "Concentración (g/L)                                                 \n",
       "6.8                            44.4                              6.0\n",
       "6.8                           456.0                            134.7\n",
       "6.8                           753.5                            263.3\n",
       "6.8                          1014.9                            392.0\n",
       "15.1                          393.5                              7.0\n",
       "15.1                         7497.3                            195.0\n",
       "15.1                        13633.2                            383.0\n",
       "15.1                        19419.3                            571.0\n",
       "18.1                          721.7                              9.0\n",
       "18.1                         3987.2                             62.3\n",
       "18.1                         6883.2                            115.7\n",
       "18.1                         9621.3                            169.0"
      ]
     },
     "metadata": {},
     "output_type": "display_data"
    }
   ],
   "source": [
    "n_ptos=int(input(\"Nº de puntos para cada concentración: \"))\n",
    "\n",
    "valores_reograma=dict()\n",
    "Datos_problema=dict()\n",
    "m_concentraciones=[]\n",
    "n_concentraciones=[]\n",
    "\n",
    "\n",
    "Concentraciones_Todas=[]\n",
    "Tau_Todas=[]\n",
    "Gamma_Todas=[]\n",
    "\n",
    "\n",
    "\n",
    "\n",
    "parametros=generador_concentracion()\n",
    "gamma0,gamma_final=generador_intervaloGamma()\n",
    "\n",
    "#tau, gamma,m,n=generador_valores(n_ptos,concentraciones_lista[0],parametros,gamma0,gamma_final)\n",
    "#print (tau, gamma, m, n,'\\n',parametros)\n",
    "\n",
    "for i in concentraciones_lista:\n",
    "        tau, gamma,m,n=generador_valores(n_ptos,i,parametros,gamma0,gamma_final)\n",
    "        for r in range(len(tau)):\n",
    "            Concentraciones_Todas.append(i)\n",
    "        Tau_Todas=Tau_Todas+tau.tolist()\n",
    "        Gamma_Todas=Gamma_Todas+gamma.tolist()     \n",
    "        valores_reograma[str(i)]=[tau,gamma]\n",
    "        m_concentraciones.append(m)\n",
    "        n_concentraciones.append(n)\n",
    "\n",
    "        \n",
    "valores_parametros=dict()\n",
    "valores_parametros['Am']=parametros[0]\n",
    "valores_parametros['An']=parametros[1]\n",
    "valores_parametros['Bm']=parametros[2]\n",
    "valores_parametros['Bn']=parametros[3]\n",
    "valores_parametros_concentracion = pd.DataFrame(valores_parametros, columns=['Am','An','Bm','Bn'],index=[0])\n",
    "display(valores_parametros_concentracion)    \n",
    "        \n",
    "        \n",
    "conc_parametros=dict()\n",
    "conc_parametros['Concentración (g/L)']=concentraciones.tolist()\n",
    "conc_parametros['m']=m_concentraciones\n",
    "conc_parametros['n']=n_concentraciones\n",
    "\n",
    "valores_concentracionParametros = pd.DataFrame(conc_parametros, columns=['Concentración (g/L)','m','n'])\n",
    "\n",
    "valores_concentracionParametros.set_index('Concentración (g/L)',inplace=True)\n",
    "display(valores_concentracionParametros)    \n",
    "        \n",
    "\n",
    "Datos_problema['Concentración (g/L)']=Concentraciones_Todas\n",
    "Datos_problema['Tensión (N/m2)']=Tau_Todas\n",
    "Datos_problema['Velocidad de deformación, (1/s)']=Gamma_Todas\n",
    "\n",
    "\n",
    "Tabla_Datos_problema = pd.DataFrame(Datos_problema, columns=['Concentración (g/L)','Tensión (N/m2)',\\\n",
    "                            'Velocidad de deformación, (1/s)'])\n",
    "\n",
    "Tabla_Datos_problema.set_index('Concentración (g/L)',inplace=True)\n",
    "Tabla_Datos_problema.groupby(['Concentración (g/L)'])\n",
    "\n",
    "display(Tabla_Datos_problema)    \n",
    "    "
   ]
  },
  {
   "cell_type": "code",
   "execution_count": 16,
   "metadata": {},
   "outputs": [
    {
     "data": {
      "text/html": [
       "\n",
       "\n",
       "<footer id=\"attribution\" style=\"float:right; color:#999; background:#fff;\">\n",
       "Programado con Jupyter. </footer>"
      ],
      "text/plain": [
       "<IPython.core.display.HTML object>"
      ]
     },
     "metadata": {},
     "output_type": "display_data"
    }
   ],
   "source": [
    "display(HTML('''\n",
    "\n",
    "<footer id=\"attribution\" style=\"float:right; color:#999; background:#fff;\">\n",
    "Programado con Jupyter. </footer>'''))"
   ]
  }
 ],
 "metadata": {
  "anaconda-cloud": {},
  "celltoolbar": "Raw Cell Format",
  "kernelspec": {
   "display_name": "Python 3",
   "language": "python",
   "name": "python3"
  },
  "language_info": {
   "codemirror_mode": {
    "name": "ipython",
    "version": 3
   },
   "file_extension": ".py",
   "mimetype": "text/x-python",
   "name": "python",
   "nbconvert_exporter": "python",
   "pygments_lexer": "ipython3",
   "version": "3.6.3"
  },
  "toc": {
   "colors": {
    "hover_highlight": "#DAA520",
    "navigate_num": "#000000",
    "navigate_text": "#333333",
    "running_highlight": "#FF0000",
    "selected_highlight": "#FFD700",
    "sidebar_border": "#EEEEEE",
    "wrapper_background": "#FFFFFF"
   },
   "moveMenuLeft": true,
   "nav_menu": {
    "height": "81px",
    "width": "252px"
   },
   "navigate_menu": true,
   "number_sections": true,
   "sideBar": true,
   "threshold": 4,
   "toc_cell": false,
   "toc_section_display": "block",
   "toc_window_display": false,
   "widenNotebook": false
  }
 },
 "nbformat": 4,
 "nbformat_minor": 1
}
