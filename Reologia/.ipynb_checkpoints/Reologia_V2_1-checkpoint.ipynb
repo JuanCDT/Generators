{
 "cells": [
  {
   "cell_type": "markdown",
   "metadata": {},
   "source": [
    "# *Reología.*\n",
    "## Determinación del tipo de comportamiento reológico y de los parámetros del modelo potencial"
   ]
  },
  {
   "cell_type": "code",
   "execution_count": 1,
   "metadata": {},
   "outputs": [
    {
     "data": {
      "text/html": [
       "<script>\n",
       "  function code_toggle() {\n",
       "    if (code_shown){\n",
       "      $('div.input').hide('500');\n",
       "      $('#toggleButton').val('Mostrar código')\n",
       "    } else {\n",
       "      $('div.input').show('500');\n",
       "      $('#toggleButton').val('Esconder código')\n",
       "    }\n",
       "    code_shown = !code_shown\n",
       "  }\n",
       "\n",
       "  $( document ).ready(function(){\n",
       "    code_shown=false;\n",
       "    $('div.input').hide()\n",
       "  });\n",
       "</script>\n",
       "<form action=\"javascript:code_toggle()\"><input type=\"submit\" id=\"toggleButton\" value=\"Mostrar código\"></form>"
      ],
      "text/plain": [
       "<IPython.core.display.HTML object>"
      ]
     },
     "metadata": {},
     "output_type": "display_data"
    },
    {
     "data": {
      "text/html": [
       "<h1 style=\"color:#C30\"><strong>Avanzar para generar datos</strong></h1>"
      ],
      "text/plain": [
       "<IPython.core.display.HTML object>"
      ]
     },
     "metadata": {},
     "output_type": "display_data"
    },
    {
     "data": {
      "text/html": [
       "<p>Recuerda cómo es el modelo reológico potencial:</br>  </p>"
      ],
      "text/plain": [
       "<IPython.core.display.HTML object>"
      ]
     },
     "metadata": {},
     "output_type": "display_data"
    },
    {
     "data": {
      "text/latex": [
       "$$\\tau=m\\cdot \\dot{\\gamma}^n$$"
      ],
      "text/plain": [
       "<IPython.core.display.Math object>"
      ]
     },
     "metadata": {},
     "output_type": "display_data"
    },
    {
     "data": {
      "text/latex": [
       "$$\\eta=m\\cdot \\dot{\\gamma}^\\left( n-1 \\right)$$"
      ],
      "text/plain": [
       "<IPython.core.display.Math object>"
      ]
     },
     "metadata": {},
     "output_type": "display_data"
    },
    {
     "data": {
      "text/html": [
       "<p>donde $\\tau$ es la tensión, $\\dot{\\gamma}$ es la velocidad de deformación,    $\\eta$ es la viscosidad aparente, $n$ es el índice de comportamiento y $m$ es el índice de consistencia. </br>  </p>"
      ],
      "text/plain": [
       "<IPython.core.display.HTML object>"
      ]
     },
     "metadata": {},
     "output_type": "display_data"
    }
   ],
   "source": [
    "\n",
    "#%matplotlib notebook\n",
    "\n",
    "%matplotlib inline\n",
    "import seaborn\n",
    "import numpy as np\n",
    "import matplotlib.pyplot as mpl\n",
    "from scipy.optimize import curve_fit\n",
    "import random\n",
    "import math\n",
    "import pandas as pd\n",
    "import IPython.core.display as di\n",
    "pd.set_option('display.notebook_repr_html', True)\n",
    "import notebook\n",
    "from IPython.display import clear_output, display, HTML, Image,Math, Latex\n",
    "from IPython.external import mathjax\n",
    "FigureSize=(15,5) # Para matplotlib inline\n",
    "#FigureSize=(10.5,4.5) # Para matplotlib notebook\n",
    "\n",
    "\n",
    "\n",
    "\n",
    "def ModeloPotencia(x, m,n):\n",
    "    return m*x**n\n",
    "\n",
    "\n",
    "def Calculo_R2( y, yteorica):\n",
    "    residuals = y - yteorica  # Residuo: Experimentales menos predichos\n",
    "    ss_res = np.sum(residuals ** 2)  # SSresiduo: Suma del cuadrado de los residuos\n",
    "    ss_tot = np.sum((y - np.mean(y)) ** 2)  # Suma de cuadrados total\n",
    "    r_squared = 1 - (ss_res / ss_tot)  # Cálculo de R2\n",
    "\n",
    "    return r_squared\n",
    "\n",
    "\n",
    "\n",
    "def generador_parametros():  # generarción de parámetros del modelo potencial: m y n\n",
    "    global m, n\n",
    "    m = round(random.uniform(10., 1000.), 1)\n",
    "    n = round(random.uniform(0.2, 1.4), 3)\n",
    "\n",
    "    return m, n\n",
    "\n",
    "\n",
    "\n",
    "def generador_valores(n_ptos):\n",
    "    global m, n, tau, gamma\n",
    "    m, n = generador_parametros()\n",
    "\n",
    "    gamma0 = round(random.uniform(1., 10.))\n",
    "    gamma_final = round(random.uniform(100., 1000.))\n",
    "\n",
    "    gamma = np.linspace(gamma0, gamma_final, n_ptos)\n",
    "    tau = (m+random.uniform(-0.05,0.05)*m)*gamma**(n+random.uniform(-0.05,0.05)*n)\n",
    "\n",
    "    return tau, gamma,m,n\n",
    "\n",
    "\n",
    "display(HTML('''<script>\n",
    "  function code_toggle() {\n",
    "    if (code_shown){\n",
    "      $('div.input').hide('500');\n",
    "      $('#toggleButton').val('Mostrar código')\n",
    "    } else {\n",
    "      $('div.input').show('500');\n",
    "      $('#toggleButton').val('Esconder código')\n",
    "    }\n",
    "    code_shown = !code_shown\n",
    "  }\n",
    "\n",
    "  $( document ).ready(function(){\n",
    "    code_shown=false;\n",
    "    $('div.input').hide()\n",
    "  });\n",
    "</script>\n",
    "<form action=\"javascript:code_toggle()\"><input type=\"submit\" id=\"toggleButton\" value=\"Mostrar código\"></form>'''))\n",
    "\n",
    "\n",
    "display(HTML('<h1 style=\"color:#C30\"><strong>Avanzar para generar datos</strong></h1>'))\n",
    "display(HTML('<p>Recuerda cómo es el modelo reológico potencial:</br>  </p>' ))\n",
    "display(Math(r'\\tau=m\\cdot \\dot{\\gamma}^n'))\n",
    "display(Math(r'\\eta=m\\cdot \\dot{\\gamma}^\\left( n-1 \\right)'))\n",
    "display(HTML(r'<p>donde $\\tau$ es la tensión, $\\dot{\\gamma}$ es la velocidad de deformación, \\\n",
    "   $\\eta$ es la viscosidad aparente, $n$ es el índice de comportamiento y $m$ es el índice de consistencia. </br>  </p>' ))"
   ]
  },
  {
   "cell_type": "code",
   "execution_count": 2,
   "metadata": {},
   "outputs": [
    {
     "name": "stdout",
     "output_type": "stream",
     "text": [
      "Nº de puntos: 10\n"
     ]
    },
    {
     "data": {
      "text/html": [
       "<div>\n",
       "<style scoped>\n",
       "    .dataframe tbody tr th:only-of-type {\n",
       "        vertical-align: middle;\n",
       "    }\n",
       "\n",
       "    .dataframe tbody tr th {\n",
       "        vertical-align: top;\n",
       "    }\n",
       "\n",
       "    .dataframe thead th {\n",
       "        text-align: right;\n",
       "    }\n",
       "</style>\n",
       "<table border=\"1\" class=\"dataframe\">\n",
       "  <thead>\n",
       "    <tr style=\"text-align: right;\">\n",
       "      <th></th>\n",
       "      <th>Tensión (N/m2)</th>\n",
       "      <th>Velocidad de deformación (1/s)</th>\n",
       "    </tr>\n",
       "  </thead>\n",
       "  <tbody>\n",
       "    <tr>\n",
       "      <th>0</th>\n",
       "      <td>600.9</td>\n",
       "      <td>5.0</td>\n",
       "    </tr>\n",
       "    <tr>\n",
       "      <th>1</th>\n",
       "      <td>7827.6</td>\n",
       "      <td>33.4</td>\n",
       "    </tr>\n",
       "    <tr>\n",
       "      <th>2</th>\n",
       "      <td>17974.2</td>\n",
       "      <td>61.9</td>\n",
       "    </tr>\n",
       "    <tr>\n",
       "      <th>3</th>\n",
       "      <td>29955.8</td>\n",
       "      <td>90.3</td>\n",
       "    </tr>\n",
       "    <tr>\n",
       "      <th>4</th>\n",
       "      <td>43357.2</td>\n",
       "      <td>118.8</td>\n",
       "    </tr>\n",
       "    <tr>\n",
       "      <th>5</th>\n",
       "      <td>57942.5</td>\n",
       "      <td>147.2</td>\n",
       "    </tr>\n",
       "    <tr>\n",
       "      <th>6</th>\n",
       "      <td>73555.7</td>\n",
       "      <td>175.7</td>\n",
       "    </tr>\n",
       "    <tr>\n",
       "      <th>7</th>\n",
       "      <td>90084.6</td>\n",
       "      <td>204.1</td>\n",
       "    </tr>\n",
       "    <tr>\n",
       "      <th>8</th>\n",
       "      <td>107443.7</td>\n",
       "      <td>232.6</td>\n",
       "    </tr>\n",
       "    <tr>\n",
       "      <th>9</th>\n",
       "      <td>125565.1</td>\n",
       "      <td>261.0</td>\n",
       "    </tr>\n",
       "  </tbody>\n",
       "</table>\n",
       "</div>"
      ],
      "text/plain": [
       "   Tensión (N/m2)  Velocidad de deformación (1/s)\n",
       "0           600.9                             5.0\n",
       "1          7827.6                            33.4\n",
       "2         17974.2                            61.9\n",
       "3         29955.8                            90.3\n",
       "4         43357.2                           118.8\n",
       "5         57942.5                           147.2\n",
       "6         73555.7                           175.7\n",
       "7         90084.6                           204.1\n",
       "8        107443.7                           232.6\n",
       "9        125565.1                           261.0"
      ]
     },
     "metadata": {},
     "output_type": "display_data"
    },
    {
     "data": {
      "text/html": [
       "<h1 style=\"color:#6CF\"\"><strong>Avanzar para mostrar representación gráfica</strong></h1>"
      ],
      "text/plain": [
       "<IPython.core.display.HTML object>"
      ]
     },
     "metadata": {},
     "output_type": "display_data"
    }
   ],
   "source": [
    "n_ptos=int(input(\"Nº de puntos: \"))\n",
    "\n",
    "tau, gamma,m,n=generador_valores(n_ptos)\n",
    "\n",
    "        \n",
    "    \n",
    "eta=m*gamma**(n-1)\n",
    "\n",
    "tau1=np.copy(tau)\n",
    "tau1= np.round(tau1,1)\n",
    "\n",
    "gamma1=np.round(gamma,1)\n",
    "\n",
    "\n",
    "data=dict()\n",
    "data['Tensión (N/m2)']=tau1.tolist()\n",
    "data['Velocidad de deformación (1/s)']=gamma1.tolist()\n",
    "\n",
    "\n",
    "values = pd.DataFrame(data, columns=['Tensión (N/m2)', 'Velocidad de deformación (1/s)'])\n",
    "#values.style.set_properties(**{'text-align': 'center'})\n",
    "\n",
    "display(values)\n",
    "\n",
    "\n",
    "display(HTML('<h1 style=\"color:#6CF\"\"><strong>Avanzar para mostrar representación gráfica</strong></h1>'))"
   ]
  },
  {
   "cell_type": "code",
   "execution_count": 3,
   "metadata": {
    "scrolled": false
   },
   "outputs": [
    {
     "data": {
      "image/png": "[encoded data removed]",
      "text/plain": [
       "<matplotlib.figure.Figure at 0x11ec4c780>"
      ]
     },
     "metadata": {},
     "output_type": "display_data"
    },
    {
     "data": {
      "text/html": [
       "<h1 style=\"color:#3C9\"><strong>Avanzar para mostrar representación en escala logarítmica </strong></h1>"
      ],
      "text/plain": [
       "<IPython.core.display.HTML object>"
      ]
     },
     "metadata": {},
     "output_type": "display_data"
    }
   ],
   "source": [
    "\n",
    "fig1=mpl.figure(figsize=FigureSize);\n",
    "\n",
    "ax1 = fig1.add_subplot(121);\n",
    "mpl.plot(gamma,tau, 'ro',label = 'Datos Experimentales')\n",
    "mpl.xlabel('Velocidad de deformación, (1/s)')\n",
    "mpl.ylabel('Tensión (N/m2)')\n",
    "mpl.legend(loc = 'best')\n",
    "\n",
    "\n",
    "ax2 = fig1.add_subplot(122);\n",
    "\n",
    "mpl.plot(gamma,eta, 'ro',label = 'Datos Experimentales')\n",
    "mpl.xlabel('Velocidad de deformación, (1/s)')\n",
    "mpl.ylabel('Viscosidad (Pa·s)')\n",
    "mpl.legend(loc = 'best')\n",
    "   \n",
    "mpl.show()\n",
    "\n",
    "display(HTML('<h1 style=\"color:#3C9\"><strong>Avanzar para mostrar representación en escala logarítmica </strong></h1>'))"
   ]
  },
  {
   "cell_type": "code",
   "execution_count": 4,
   "metadata": {
    "scrolled": false
   },
   "outputs": [
    {
     "data": {
      "image/png": "[encoded data removed]",
      "text/plain": [
       "<matplotlib.figure.Figure at 0x120f1cc50>"
      ]
     },
     "metadata": {},
     "output_type": "display_data"
    },
    {
     "data": {
      "text/html": [
       "<h1 style=\"color:#AC58FA\"><strong>Avanzar para mostrar ajuste del modelo potencial: parámetros reológicos </strong></h1>"
      ],
      "text/plain": [
       "<IPython.core.display.HTML object>"
      ]
     },
     "metadata": {},
     "output_type": "display_data"
    }
   ],
   "source": [
    "\n",
    "\n",
    "fig2=mpl.figure(figsize=FigureSize);\n",
    "\n",
    "ax1 = fig2.add_subplot(121);\n",
    "mpl.plot(gamma,tau, 'bo',label = 'Datos Experimentales')\n",
    "mpl.xlabel('Velocidad de deformación, (1/s)')\n",
    "mpl.ylabel('Tensión ((N/m2)')\n",
    "mpl.legend(loc = 'best')\n",
    "\n",
    "mpl.yscale('log')\n",
    "mpl.xscale('log')\n",
    "\n",
    "\n",
    "\n",
    "ax2 = fig2.add_subplot(122);\n",
    "\n",
    "mpl.plot(gamma, eta,'bo',label = 'Datos Experimentales')\n",
    "mpl.xlabel('Velocidad de deformación, (1/s)')\n",
    "mpl.ylabel('Viscosidad (Pa·s)')\n",
    "mpl.legend(loc = 'best')\n",
    "mpl.yscale('log')\n",
    "mpl.xscale('log')\n",
    "\n",
    "\n",
    "mpl.show()\n",
    "\n",
    "display(HTML('<h1 style=\"color:#AC58FA\"><strong>Avanzar para mostrar ajuste del modelo potencial: parámetros reológicos </strong></h1>'))"
   ]
  },
  {
   "cell_type": "code",
   "execution_count": 5,
   "metadata": {},
   "outputs": [
    {
     "data": {
      "image/png": "[encoded data removed]",
      "text/plain": [
       "<matplotlib.figure.Figure at 0x12100d6d8>"
      ]
     },
     "metadata": {},
     "output_type": "display_data"
    },
    {
     "name": "stdout",
     "output_type": "stream",
     "text": [
      "m calculado: 68.3 N·s^1.351/m2; n calculado: 1.351\n",
      "m generado:  66.6 N·s^1.323/m2 ; n generado: 1.323\n",
      "El comportamiento reológico es el de un fluido dilatante\n"
     ]
    }
   ],
   "source": [
    "\n",
    "popt, pcov = curve_fit(ModeloPotencia, gamma, tau)\n",
    "m_experimental=popt[0]\n",
    "n_experimental=popt[1]\n",
    "Predichos=ModeloPotencia(gamma, m_experimental,n_experimental) # Valores predichos por el modelo\n",
    "\n",
    "r_squared = Calculo_R2(tau, Predichos)\n",
    "perr = np.sqrt(np.diag(pcov)) #Error de cada uno de los parámetros del modelo: m y n\n",
    "\n",
    "\n",
    "#Representación Experimentales y predichos\n",
    "\n",
    "\n",
    "gamma_100 = np.linspace(gamma[0], gamma[-1], 100)\n",
    "tau_Predichos = ModeloPotencia(gamma_100, m_experimental, n_experimental)  # Valores predichos  para 100 valores\n",
    "Viscosidad_predicha = m_experimental * gamma ** (n_experimental - 1)\n",
    "Viscosidad_predicha100 = m_experimental * gamma_100 ** (n_experimental - 1)\n",
    "\n",
    "r_squared_visco = Calculo_R2( eta, Viscosidad_predicha)\n",
    "\n",
    "\n",
    "fig3=mpl.figure(figsize=FigureSize);\n",
    "\n",
    "ax1 = fig3.add_subplot(121);\n",
    "mpl.plot(gamma,tau, 'ro',label = 'Datos Experimentales')\n",
    "mpl.plot(gamma_100,tau_Predichos, 'k-', linewidth = 1,label = '$\\mathrm{R^2}$ = ' + str(round(r_squared, 3)))\n",
    "\n",
    "mpl.xlabel('Velocidad de deformación, (1/s)')\n",
    "mpl.ylabel('Tensión (N/m2)')\n",
    "mpl.legend(loc = 'best')\n",
    "\n",
    "\n",
    "ax2 = fig3.add_subplot(122);\n",
    "mpl.plot(gamma,eta, 'ro',label = 'Datos Experimentales')\n",
    "mpl.plot(gamma_100,Viscosidad_predicha100, 'k-', linewidth = 1,\\\n",
    "         label = '$\\mathrm{R^2}$ = ' + str(round(r_squared_visco, 3)))\n",
    "mpl.xlabel('Velocidad de deformación, (1/s)')\n",
    "mpl.ylabel('Viscosidad (Pa·s)')\n",
    "mpl.legend(loc = 'best')\n",
    "   \n",
    "mpl.show()\n",
    "\n",
    "\n",
    "#print('m calculado: ' + str(round(m_experimental, 3)) +'$\\pm $'+ str(round(perr[0], 3)) \\\n",
    " #    + '; n calculado: ' + str(round(n_experimental, 3)) +'$\\pm $'+ str(round(perr[1], 3)))\n",
    "\n",
    "print('m calculado: ' + str(round(m_experimental, 1))+ ' N·s^'+str(round(n_experimental, 3))+'/m2; n calculado: '\\\n",
    "      + str(round(n_experimental, 3)) )\n",
    "\n",
    "\n",
    "#print (perr)\n",
    "print ('m generado: ',m,'N·s^'+str(round(n, 3))+'/m2 ; n generado:',n)\n",
    "\n",
    "                                                                          \n",
    "if n<1:                                                                   \n",
    "    tipo='pseudoplástico'                                                 \n",
    "elif n==1:                                                                \n",
    "        tipo='newtoniano'                                                 \n",
    "else:                                                                     \n",
    "        tipo='dilatante'                                                  \n",
    "                                                                          \n",
    "print ('El comportamiento reológico es el de un fluido '+str(tipo))       \n"
   ]
  },
  {
   "cell_type": "code",
   "execution_count": 6,
   "metadata": {},
   "outputs": [
    {
     "data": {
      "text/html": [
       "\n",
       "\n",
       "<footer id=\"attribution\" style=\"float:right; color:#999; background:#fff;\">\n",
       "Programado con Jupyter. </footer>"
      ],
      "text/plain": [
       "<IPython.core.display.HTML object>"
      ]
     },
     "metadata": {},
     "output_type": "display_data"
    }
   ],
   "source": [
    "display(HTML('''\n",
    "\n",
    "<footer id=\"attribution\" style=\"float:right; color:#999; background:#fff;\">\n",
    "Programado con Jupyter. </footer>'''))"
   ]
  },
  {
   "cell_type": "code",
   "execution_count": null,
   "metadata": {},
   "outputs": [],
   "source": []
  }
 ],
 "metadata": {
  "anaconda-cloud": {},
  "celltoolbar": "Raw Cell Format",
  "kernelspec": {
   "display_name": "Python 3",
   "language": "python",
   "name": "python3"
  },
  "language_info": {
   "codemirror_mode": {
    "name": "ipython",
    "version": 3
   },
   "file_extension": ".py",
   "mimetype": "text/x-python",
   "name": "python",
   "nbconvert_exporter": "python",
   "pygments_lexer": "ipython3",
   "version": "3.6.3"
  },
  "toc": {
   "colors": {
    "hover_highlight": "#DAA520",
    "navigate_num": "#000000",
    "navigate_text": "#333333",
    "running_highlight": "#FF0000",
    "selected_highlight": "#FFD700",
    "sidebar_border": "#EEEEEE",
    "wrapper_background": "#FFFFFF"
   },
   "moveMenuLeft": true,
   "nav_menu": {
    "height": "81px",
    "width": "252px"
   },
   "navigate_menu": true,
   "number_sections": true,
   "sideBar": true,
   "threshold": 4,
   "toc_cell": false,
   "toc_section_display": "block",
   "toc_window_display": false,
   "widenNotebook": false
  }
 },
 "nbformat": 4,
 "nbformat_minor": 1
}
