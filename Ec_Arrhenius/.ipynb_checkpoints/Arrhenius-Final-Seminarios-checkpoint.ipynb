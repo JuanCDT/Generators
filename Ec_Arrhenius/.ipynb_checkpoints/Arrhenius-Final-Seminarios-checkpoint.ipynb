{
 "cells": [
  {
   "cell_type": "markdown",
   "metadata": {},
   "source": [
    "# Problema tipo 1. \n",
    "## Dependencia de k (constante cinética) con la temperatura: Ecuación de Arrhenius."
   ]
  },
  {
   "cell_type": "code",
   "execution_count": 2,
   "metadata": {},
   "outputs": [
    {
     "data": {
      "text/html": [
       "<script>\n",
       "  function code_toggle() {\n",
       "    if (code_shown){\n",
       "      $('div.input').hide('500');\n",
       "      $('#toggleButton').val('Mostrar código')\n",
       "    } else {\n",
       "      $('div.input').show('500');\n",
       "      $('#toggleButton').val('Esconder código')\n",
       "    }\n",
       "    code_shown = !code_shown\n",
       "  }\n",
       "\n",
       "  $( document ).ready(function(){\n",
       "    code_shown=false;\n",
       "    $('div.input').hide()\n",
       "  });\n",
       "</script>\n",
       "<form action=\"javascript:code_toggle()\"><input type=\"submit\" id=\"toggleButton\" value=\"Mostrar código\"></form>"
      ],
      "text/plain": [
       "<IPython.core.display.HTML object>"
      ]
     },
     "metadata": {},
     "output_type": "display_data"
    },
    {
     "data": {
      "text/html": [
       "<h1 style=\"color:#C30\"><strong>Avanzar para generar datos</strong></h1>"
      ],
      "text/plain": [
       "<IPython.core.display.HTML object>"
      ]
     },
     "metadata": {},
     "output_type": "display_data"
    }
   ],
   "source": [
    "%matplotlib inline\n",
    "\n",
    "from sympy import pretty_print as pp, latex\n",
    "import numpy as np\n",
    "import IPython.core.display as di\n",
    "import matplotlib.pyplot as mpl\n",
    "import random\n",
    "import math\n",
    "import pandas as pd\n",
    "pd.set_option('display.notebook_repr_html', True)\n",
    "from ipywidgets import interact\n",
    "import notebook\n",
    "from IPython.display import clear_output, display, HTML, Image,Math, Latex\n",
    "from IPython.external import mathjax\n",
    "#import Pint\n",
    "\n",
    "\n",
    "\n",
    "\n",
    "display(HTML('''<script>\n",
    "  function code_toggle() {\n",
    "    if (code_shown){\n",
    "      $('div.input').hide('500');\n",
    "      $('#toggleButton').val('Mostrar código')\n",
    "    } else {\n",
    "      $('div.input').show('500');\n",
    "      $('#toggleButton').val('Esconder código')\n",
    "    }\n",
    "    code_shown = !code_shown\n",
    "  }\n",
    "\n",
    "  $( document ).ready(function(){\n",
    "    code_shown=false;\n",
    "    $('div.input').hide()\n",
    "  });\n",
    "</script>\n",
    "<form action=\"javascript:code_toggle()\"><input type=\"submit\" id=\"toggleButton\" value=\"Mostrar código\"></form>'''))\n",
    "\n",
    "display(HTML('<h1 style=\"color:#C30\"><strong>Avanzar para generar datos</strong></h1>'))\n"
   ]
  },
  {
   "cell_type": "code",
   "execution_count": 3,
   "metadata": {},
   "outputs": [
    {
     "name": "stdout",
     "output_type": "stream",
     "text": [
      "Nº de puntos: 10\n"
     ]
    },
    {
     "data": {
      "text/html": [
       "<div>\n",
       "<table border=\"1\" class=\"dataframe\">\n",
       "  <thead>\n",
       "    <tr style=\"text-align: right;\">\n",
       "      <th></th>\n",
       "      <th>k (L/mol·min)·1E5</th>\n",
       "      <th>Temperatura (ºC)</th>\n",
       "    </tr>\n",
       "  </thead>\n",
       "  <tbody>\n",
       "    <tr>\n",
       "      <th>0</th>\n",
       "      <td>0.2</td>\n",
       "      <td>41.3</td>\n",
       "    </tr>\n",
       "    <tr>\n",
       "      <th>1</th>\n",
       "      <td>0.3</td>\n",
       "      <td>46.0</td>\n",
       "    </tr>\n",
       "    <tr>\n",
       "      <th>2</th>\n",
       "      <td>0.5</td>\n",
       "      <td>50.8</td>\n",
       "    </tr>\n",
       "    <tr>\n",
       "      <th>3</th>\n",
       "      <td>0.6</td>\n",
       "      <td>55.5</td>\n",
       "    </tr>\n",
       "    <tr>\n",
       "      <th>4</th>\n",
       "      <td>0.8</td>\n",
       "      <td>60.3</td>\n",
       "    </tr>\n",
       "    <tr>\n",
       "      <th>5</th>\n",
       "      <td>1.1</td>\n",
       "      <td>65.0</td>\n",
       "    </tr>\n",
       "    <tr>\n",
       "      <th>6</th>\n",
       "      <td>1.5</td>\n",
       "      <td>69.8</td>\n",
       "    </tr>\n",
       "    <tr>\n",
       "      <th>7</th>\n",
       "      <td>1.9</td>\n",
       "      <td>74.6</td>\n",
       "    </tr>\n",
       "    <tr>\n",
       "      <th>8</th>\n",
       "      <td>2.4</td>\n",
       "      <td>79.3</td>\n",
       "    </tr>\n",
       "    <tr>\n",
       "      <th>9</th>\n",
       "      <td>3.2</td>\n",
       "      <td>84.1</td>\n",
       "    </tr>\n",
       "  </tbody>\n",
       "</table>\n",
       "</div>"
      ],
      "text/plain": [
       "   k (L/mol·min)·1E5  Temperatura (ºC)\n",
       "0                0.2              41.3\n",
       "1                0.3              46.0\n",
       "2                0.5              50.8\n",
       "3                0.6              55.5\n",
       "4                0.8              60.3\n",
       "5                1.1              65.0\n",
       "6                1.5              69.8\n",
       "7                1.9              74.6\n",
       "8                2.4              79.3\n",
       "9                3.2              84.1"
      ]
     },
     "metadata": {},
     "output_type": "display_data"
    },
    {
     "data": {
      "text/html": [
       "<h1 style=\"color:#6CF\"\"><strong>Avanzar para mostrar representación gráfica</strong></h1>"
      ],
      "text/plain": [
       "<IPython.core.display.HTML object>"
      ]
     },
     "metadata": {},
     "output_type": "display_data"
    }
   ],
   "source": [
    "n=int(input(\"Nº de puntos: \"))\n",
    "\n",
    "#Generación de valores aleatorios de K\n",
    "\n",
    "def generador_parametros(): #generarción de parámetros de la ecuación y sus intervalos de confianza\n",
    "\n",
    "    Ea=random.uniform(30.0,150.0)\n",
    "    Ln_K = random.uniform(1.0, 20)\n",
    "    inter_Ea=random.uniform(-1.,1.0)\n",
    "    inter_Ln = random.uniform(-0.01, 0.01)\n",
    "\n",
    "    return Ea,Ln_K,inter_Ea,inter_Ln\n",
    "\n",
    "\n",
    "\n",
    "def generador_Valores(n):\n",
    "    k=np.array([])\n",
    "    T = np.array([])\n",
    "    Ea, Ln_K, inter_Ea, inter_Ln=generador_parametros()\n",
    "    #x = [random.uniform(0., 100.), random.uniform(0., 100.)]\n",
    "    x=[random.uniform(0., 100.),random.uniform(20., 50.)]\n",
    "\n",
    "    # T =np.linspace(min(x), max(x), n)\n",
    "    T = np.linspace(x[0], sum(x), n)\n",
    "    for i in T:\n",
    "        k=np.append(k,(math.exp(random.random()*inter_Ln+Ln_K)*math.exp((random.random()*inter_Ea+Ea)*(-1000.)/(8.31*(i+273.)))))\n",
    "    #print (\"k0: \",(math.exp(random.random()*inter_Ln+Ln_K)),' Ln k0: ',random.random()*inter_Ln+Ln_K)\n",
    "    #print ('Termino Exponencial: ',math.exp((random.random()*inter_Ea+Ea)*(-1000.)/(8.31*(i+273.))),\"\\n\")\n",
    "\n",
    "    #return T,k,Ea,Ln_K\n",
    "\n",
    "    return T,k\n",
    "\n",
    "def generador_Valores1(Ea,Ln_K):\n",
    "    k=np.array([])\n",
    "    T = np.array([])\n",
    "    inter_Ea=random.uniform(-1.,1.0)\n",
    "    inter_Ln = random.uniform(-0.01, 0.01)\n",
    "    #Ea, Ln_K, inter_Ea, inter_Ln=generador_parametros()\n",
    "    \n",
    "    #x = [random.uniform(0., 100.), random.uniform(0., 100.)]\n",
    "    x=[random.uniform(0., 100.),random.uniform(20., 50.)]\n",
    "\n",
    "    # T =np.linspace(min(x), max(x), n)\n",
    "    T = np.linspace(x[0], sum(x), n)\n",
    "    for i in T:\n",
    "        k=np.append(k,(math.exp(random.random()*inter_Ln+Ln_K)*math.exp((random.random()*inter_Ea+Ea)*(-1000.)/(8.31*(i+273.)))))\n",
    "    #print (\"k0: \",(math.exp(random.random()*inter_Ln+Ln_K)),' Ln k0: ',random.random()*inter_Ln+Ln_K)\n",
    "    #print ('Termino Exponencial: ',math.exp((random.random()*inter_Ea+Ea)*(-1000.)/(8.31*(i+273.))),\"\\n\")\n",
    "\n",
    "    #return T,k,Ea,Ln_K\n",
    "\n",
    "    return T,k\n",
    "\n",
    "#while True:\n",
    "    #T,k=generador_Valores(n)\n",
    " #   if k[-1]>10**-5 and k[0]<10**-3:\n",
    "  #      break\n",
    "\n",
    "data=dict()\n",
    "#data['k (L/mol·min)']=valores_k.tolist()\n",
    "\n",
    "\n",
    "T,k=generador_Valores1(68.4,20.935)\n",
    "\n",
    "\n",
    "valores_T=np.round(T,1)\n",
    "k1=np.round(k*10**5,1)\n",
    "valores=[valores_T,k1]\n",
    "\n",
    "data['k (L/mol·min)·1E5']=k1.tolist()\n",
    "data['Temperatura (ºC)']=valores_T.tolist()\n",
    "\n",
    "\n",
    "values = pd.DataFrame(data, columns=['k (L/mol·min)·1E5', 'Temperatura (ºC)'])\n",
    "values.style.set_properties(align=\"right\")\n",
    "\n",
    "display(values)\n",
    "\n",
    "\n",
    "display(HTML('<h1 style=\"color:#6CF\"\"><strong>Avanzar para mostrar representación gráfica</strong></h1>'))"
   ]
  },
  {
   "cell_type": "code",
   "execution_count": 4,
   "metadata": {},
   "outputs": [
    {
     "data": {
      "image/png": "[encoded data removed]",
      "text/plain": [
       "<matplotlib.figure.Figure at 0x11a9ddc88>"
      ]
     },
     "metadata": {},
     "output_type": "display_data"
    },
    {
     "data": {
      "text/html": [
       "<h1 style=\"color:#3C9\"><strong>Avanzar para mostrar resultado</strong></h1>"
      ],
      "text/plain": [
       "<IPython.core.display.HTML object>"
      ]
     },
     "metadata": {},
     "output_type": "display_data"
    }
   ],
   "source": [
    "mpl.figure('figure1')\n",
    "\n",
    "\n",
    "mpl.plot(T,k, 'ro',label = 'Datos Experimentales')\n",
    "mpl.xlabel('T,  [ºC]')\n",
    "mpl.ylabel('k, [L/mol·min] ')\n",
    "mpl.legend(loc = 'best')\n",
    "mpl.show()\n",
    "display(HTML('<h1 style=\"color:#3C9\"><strong>Avanzar para mostrar resultado</strong></h1>'))"
   ]
  },
  {
   "cell_type": "code",
   "execution_count": 5,
   "metadata": {},
   "outputs": [
    {
     "data": {
      "image/png": "[encoded data removed]",
      "text/plain": [
       "<matplotlib.figure.Figure at 0x116fc0cf8>"
      ]
     },
     "metadata": {},
     "output_type": "display_data"
    },
    {
     "name": "stdout",
     "output_type": "stream",
     "text": [
      "Pendiente:  -6770.19 \n",
      "Ordenada:  8.6041\n",
      "\n",
      "Ea (kJ/mol):  56.3  k0 (L/mol·min):  5.454e+03\n"
     ]
    }
   ],
   "source": [
    "def polyfit(x, y, degree):\n",
    "    results = {}\n",
    "\n",
    "    coeffs = np.polyfit(x, y, degree)\n",
    "     # Polynomial Coefficients\n",
    "    results['polynomial'] = coeffs.tolist()\n",
    "\n",
    "    correlation = np.corrcoef(x, y)[0,1]\n",
    "\n",
    "     # r\n",
    "    results['correlation'] = correlation\n",
    "    r_squared=correlation**2\n",
    "    results['determination'] = correlation**2\n",
    "\n",
    "    return r_squared,coeffs\n",
    "\n",
    "\n",
    "T1=1/(T+273)\n",
    "Ln_K=np.log(k)\n",
    "r_squared,coeffs=polyfit(T1, Ln_K,1)\n",
    "\n",
    "estYVals = np.polyval(coeffs, T1)\n",
    "\n",
    "mpl.figure('figure2')\n",
    "\n",
    "YVals=np.exp(estYVals)\n",
    "mpl.semilogy(T1,YVals, 'k-', linewidth = 1,label = 'Ajuste lineal' + ', R2 = ' + str(round(r_squared, 3)))\n",
    "mpl.semilogy(T1,k, 'bo',label = 'Datos Experimentales')\n",
    "mpl.xlabel('1/T,  [1/K]')\n",
    "mpl.ylabel('k, [L/mol·min] ')\n",
    "mpl.legend(loc = 'best')\n",
    "\n",
    "mpl.show()\n",
    "\n",
    "def formatE_decimal(x, prec=2):\n",
    "    \"\"\" Examples:\n",
    "    >>> formatE_decimal('0.1613965',10)\n",
    "    '1.6139650000E-01'\n",
    "    >>> formatE_decimal('0.1613965',5)\n",
    "    '1.61397E-01'\n",
    "    >>> formatE_decimal('0.9995',2)\n",
    "    '1.00E+00'\n",
    "    \"\"\"\n",
    "    xx=decimal.Decimal(x) if type(x)==type(\"\") else x \n",
    "    tup = xx.as_tuple()\n",
    "    xx=xx.quantize( decimal.Decimal(\"1E{0}\".format(len(tup[1])+tup[2]-prec-1)), decimal.ROUND_HALF_UP )\n",
    "    tup = xx.as_tuple()\n",
    "    exp = xx.adjusted()\n",
    "    sign = '-' if tup.sign else ''\n",
    "    dec = ''.join(str(i) for i in tup[1][1:prec+1])   \n",
    "    if prec>0:\n",
    "        return '{sign}{int}.{dec}E{exp:+03d}'.format(sign=sign, int=tup[1][0], dec=dec, exp=exp)\n",
    "    elif prec==0:\n",
    "        return '{sign}{int}E{exp:+03d}'.format(sign=sign, int=tup[1][0], exp=exp)\n",
    "    else:\n",
    "        return None\n",
    "\n",
    "\n",
    "def format_e(n):\n",
    "    a = '%E' % n\n",
    "    return a.split('E')[0].rstrip('0').rstrip('.') + 'E' + a.split('E')[1]\n",
    "\n",
    "print (\"Pendiente: \",'%.6g' % coeffs[0], \"\\nOrdenada: \",'%.5g' % coeffs[1] )\n",
    "\n",
    "\n",
    "Ea_estimado=-coeffs[0]*8.314/1000\n",
    "k_estimado=np.exp(coeffs[1])\n",
    "\n",
    "print (\"\\nEa (kJ/mol): \",round(Ea_estimado,1), \" k0 (L/mol·min): \", '%.3e' % k_estimado)"
   ]
  },
  {
   "cell_type": "code",
   "execution_count": 6,
   "metadata": {},
   "outputs": [
    {
     "data": {
      "text/html": [
       "\n",
       "\n",
       "<footer id=\"attribution\" style=\"float:right; color:#999; background:#fff;\">\n",
       "Programado con Jupyter. </footer>"
      ],
      "text/plain": [
       "<IPython.core.display.HTML object>"
      ]
     },
     "metadata": {},
     "output_type": "display_data"
    }
   ],
   "source": [
    "display(HTML('''\n",
    "\n",
    "<footer id=\"attribution\" style=\"float:right; color:#999; background:#fff;\">\n",
    "Programado con Jupyter. </footer>'''))"
   ]
  },
  {
   "cell_type": "code",
   "execution_count": 8,
   "metadata": {},
   "outputs": [
    {
     "name": "stdout",
     "output_type": "stream",
     "text": [
      "1/K (K-1): [ 0.00318213  0.00313467  0.0030886   0.00304387  0.00300041  0.00295818\n",
      "  0.00291712  0.00287718  0.00283832  0.0028005 ]\n",
      "Ln(k): [-12.9249982  -12.66092269 -12.2975389  -11.95918615 -11.7205761\n",
      " -11.45292657 -11.12957689 -10.85534383 -10.63519686 -10.35122821]\n"
     ]
    }
   ],
   "source": [
    "print ('1/K (K-1):',T1)\n",
    "print ('Ln(k):',Ln_K)\n"
   ]
  },
  {
   "cell_type": "code",
   "execution_count": null,
   "metadata": {
    "collapsed": true
   },
   "outputs": [],
   "source": []
  }
 ],
 "metadata": {
  "anaconda-cloud": {},
  "kernelspec": {
   "display_name": "Python 3",
   "language": "python",
   "name": "python3"
  },
  "language_info": {
   "codemirror_mode": {
    "name": "ipython",
    "version": 3
   },
   "file_extension": ".py",
   "mimetype": "text/x-python",
   "name": "python",
   "nbconvert_exporter": "python",
   "pygments_lexer": "ipython3",
   "version": "3.6.1"
  }
 },
 "nbformat": 4,
 "nbformat_minor": 1
}
