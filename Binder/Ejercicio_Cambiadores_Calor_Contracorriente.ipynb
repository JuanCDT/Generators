{
 "cells": [
  {
   "cell_type": "markdown",
   "metadata": {},
   "source": [
    "# *Transmisión de Calor.*\n",
    "## Determinación del área de transmisión de calor: flujo en contracorriente\n",
    "\n",
    "\n",
    "Recuerda las ecuaciones empleadas en el diseño de un cambiador de calor: <br>\n",
    "$$Q={m}'\\cdot {C_p}'\\cdot \\Delta {T}'$$\n",
    "$$Q={m}''\\cdot {C_p}''\\cdot \\Delta {T}''$$\n",
    "$$Q=U\\cdot A \\cdot \\Delta {T}_{ml}$$\n",
    "donde $Q$ es el caudal de calor, ${m}'$ y ${m}''$ son los caudales másicos de los fluidos caliente y frío, respectivamente, ${C_p}'$ y ${C_p}''$ son los calores específicos de los fluidos caliente y frío, respectivamente, $\\Delta {T}'$ y $\\Delta {T}''$ son los incrementos de temperatura experimentados por los fluidos caliente y frío, respectivamente, y $\\Delta {T}_{ml}$ es el incremento de temperatura media logarítmica. Se supone que no hay pérdidas de calor, de forma que el calor cedido por el fluido caliente es igual al ganado por el frío. </br> \n",
    "\n",
    "Para caudales y temperaturas se emplea la notación: 1-Fluido caliente; 2-Fluido frío, subíndice e-valor a la entrada, subíndice s-valor a la salida. De este modo, para flujo en contracorriente:</br>\n",
    "\n",
    "$m1={m}'$: Caudal másico de fluido caliente (agua)<br>\n",
    "$m2={m}''$: Caudal másico de fluido frío (agua)<br>\n",
    "<br>\n",
    "$T1e={T}'_e$: Temperatura de entrada del fluido caliente <br>\n",
    "$T1s={T}'_s$: Temperatura de salida del fluido caliente <br>\n",
    "<br>\n",
    "$T2e={T}''_e$: Temperatura de entrada del fluido frío <br>\n",
    "$T2s={T}''_s$: Temperatura de salida del fluido frío \n",
    "\n",
    "Recuerda que para flujo en contracorriente el incremento de temperatura media logarítmica se calcula como:\n",
    "\n",
    "$$\\Delta {T}_{ml}=\\frac{\\left( {T}'_s- {T}''_e \\right) - \\left( {T}'_e- {T}''_s \\right) }{ln \\left( \\frac{ {T}'_s- {T}''_e }{{T}'_e- {T}''_s }   \\right)  }  $$\n",
    "\n"
   ]
  },
  {
   "cell_type": "code",
   "execution_count": 1,
   "metadata": {},
   "outputs": [
    {
     "data": {
      "text/html": [
       "<script>\n",
       "  function code_toggle() {\n",
       "    if (code_shown){\n",
       "      $('div.input').hide('500');\n",
       "      $('#toggleButton').val('Mostrar código')\n",
       "    } else {\n",
       "      $('div.input').show('500');\n",
       "      $('#toggleButton').val('Esconder código')\n",
       "    }\n",
       "    code_shown = !code_shown\n",
       "  }\n",
       "\n",
       "  $( document ).ready(function(){\n",
       "    code_shown=false;\n",
       "    $('div.input').hide()\n",
       "  });\n",
       "</script>\n",
       "<form action=\"javascript:code_toggle()\"><input type=\"submit\" id=\"toggleButton\" value=\"Mostrar código\"></form>"
      ],
      "text/plain": [
       "<IPython.core.display.HTML object>"
      ]
     },
     "metadata": {},
     "output_type": "display_data"
    }
   ],
   "source": [
    "%matplotlib inline\n",
    "import numpy as np\n",
    "from scipy import optimize\n",
    "from scipy.integrate import ode\n",
    "import matplotlib.pyplot as mpl\n",
    "import matplotlib.patches as patches\n",
    "import random\n",
    "import math\n",
    "import pandas as pd\n",
    "import IPython.core.display as di\n",
    "from ipywidgets import interact\n",
    "import notebook\n",
    "from IPython.display import clear_output, display, HTML, Image,Math, Latex\n",
    "# from IPython.external import mathjax\n",
    "\n",
    "def Calculo_incr_Tml(T1e, T1s, T2e,T2s):  # T1e,T1s,T2e,T2s: Temperaturas de entrada(e) y salida(s) de los fluidos caliente(1)\n",
    "    # y frío(2). Sólo para flujo en contracorriente.\n",
    "\n",
    "    incr_1 = T1s - T2e\n",
    "    incr_2 = T1e - T2s\n",
    "    if incr_1 == incr_2:\n",
    "        incr_Tml = incr_1\n",
    "    else:\n",
    "        incr_Tml = (incr_1 - incr_2) / np.log(incr_1 / incr_2)\n",
    "\n",
    "    return incr_Tml\n",
    "\n",
    "\n",
    "def Cp_AguaLiquida(T):\n",
    "\n",
    "    T_Kelvin=(T+273.15)/1000\n",
    "    A = -203.6060\n",
    "    B = 1523.290\n",
    "    C = -3196.413\n",
    "    D = 2474.455\n",
    "    E = 3.855326\n",
    "    Cp = A + B * T_Kelvin + C * T_Kelvin ** 2. + D * T_Kelvin ** 3. + E / (T_Kelvin ** 2.)  # En J/mol·K\n",
    "    Cp_Masa = Cp / 18  # En kJ/kg·K\n",
    "    return Cp_Masa\n",
    "\n",
    "\n",
    "def generador_parametros():  # generación de parámetros del problema\n",
    "\n",
    "    m1= random.randint(10., 100.) ; m2= random.randint(10., 100.) # Caudal másico kg/h\n",
    "\n",
    "\n",
    "    while True:  # Generador T fluido caliente\n",
    "        T1e = random.uniform(0, 100.)\n",
    "        T1s = random.uniform(0, 100.)\n",
    "        if T1e > T1s:\n",
    "            break\n",
    "\n",
    "    while True:  # Generador T fluido frío\n",
    "        T2e = random.uniform(0, 100.)\n",
    "        T2s = random.uniform(0, 100.)\n",
    "        if T2e < T2s and T1e>T2s and T1s>T2e:\n",
    "            break\n",
    "\n",
    "    U = random.uniform(0.9, 1.5)  # Coeff. Global kW/m2·K\n",
    "\n",
    "\n",
    "\n",
    "    ValoresInicialesTodos = np.array([10., 10., 50., 25., 25., 40.]) # Valores iniciales para caudales y Ts\n",
    "\n",
    "    ValoresIniciales = np.array([10])  # Valor inicial para el Área de intercambio\n",
    "\n",
    "    Area = float()\n",
    "    incognitas = [Area]\n",
    "    incognitasNombres = ['Area (m2)']\n",
    "\n",
    "    variables = [m1, m2, T1e, T1s, T2e, T2s]\n",
    "    variablesNombres = ['m1 (kg/s)', 'm2 (kg/s)', 'T1e (ºC)', 'T1s (ºC)', 'T2e (ºC)', 'T2s (ºC)']\n",
    "    variablesConocidas = variables.copy()\n",
    "    variablesConocidasNombres = variablesNombres.copy()\n",
    "\n",
    "    variableDesconocida = random.randint(0, len(variables))\n",
    "\n",
    "    incognitasNombres.append(variablesConocidasNombres[variableDesconocida])\n",
    "    incognitas.append(variables[variableDesconocida])\n",
    "    incognitasNombres.append('Q (kW)')\n",
    "\n",
    "    del variablesConocidas[variableDesconocida]\n",
    "    del variablesConocidasNombres[variableDesconocida]\n",
    "\n",
    "\n",
    "    variables.append(U)\n",
    "    variablesConocidasNombres.append('U (kW/m2·ºC)')\n",
    "\n",
    "    ValoresIniciales = np.insert(ValoresIniciales, 1, ValoresInicialesTodos[variableDesconocida])\n",
    "    ValoresIniciales = np.insert(ValoresIniciales, 2, 10)\n",
    "\n",
    "    m1, m2, T1e, T1s, T2e, T2s,U=variables\n",
    "    valoresVariables = [m1, m2, T1e, T1s, T2e, T2s,U,variableDesconocida]\n",
    "\n",
    "    del variables[variableDesconocida]\n",
    "\n",
    "    valoresVariables=tuple(valoresVariables)\n",
    "\n",
    "    return variablesConocidasNombres,variables,incognitasNombres,incognitas,ValoresIniciales, variableDesconocida,valoresVariables\n",
    "\n",
    "\n",
    "\n",
    "def Sistema_Ecuaciones(incognitas, m1, m2, T1e, T1s, T2e, T2s, U, index):\n",
    "\n",
    "    variables= [m1, m2, T1e, T1s, T2e, T2s, U]\n",
    "    Area, variables[index],Q = incognitas\n",
    "    m1, m2, T1e, T1s, T2e, T2s,U=variables\n",
    "\n",
    "    T1Media=np.average(np.array([T1e, T1s]))\n",
    "    T2Media = np.average(np.array([T2e, T2s]))\n",
    "\n",
    "    Cp1=Cp_AguaLiquida(T1Media)\n",
    "    Cp2 = Cp_AguaLiquida(T2Media)\n",
    "\n",
    "\n",
    "    incr_Tfrio = T2s - T2e\n",
    "    incr_Tcaliente = T1e - T1s\n",
    "    incr_Tml = Calculo_incr_Tml(T1e, T1s, T2e, T2s)\n",
    "\n",
    "    values=[Q-m1 * Cp1 * incr_Tcaliente]  # Ec. 1\n",
    "    values.append(Q - m2 * Cp2 * incr_Tfrio)  # Ec. 2\n",
    "    values.append(Q - U * Area * incr_Tml)  # Ec. 1\n",
    "\n",
    "    return values\n",
    "\n",
    "\n",
    "\n",
    "\n",
    "display(HTML('''<script>\n",
    "  function code_toggle() {\n",
    "    if (code_shown){\n",
    "      $('div.input').hide('500');\n",
    "      $('#toggleButton').val('Mostrar código')\n",
    "    } else {\n",
    "      $('div.input').show('500');\n",
    "      $('#toggleButton').val('Esconder código')\n",
    "    }\n",
    "    code_shown = !code_shown\n",
    "  }\n",
    "\n",
    "  $( document ).ready(function(){\n",
    "    code_shown=false;\n",
    "    $('div.input').hide()\n",
    "  });\n",
    "</script>\n",
    "<form action=\"javascript:code_toggle()\"><input type=\"submit\" id=\"toggleButton\" value=\"Mostrar código\"></form>'''))\n",
    "\n",
    "#display(HTML('<h1 style=\"color:#C30\"><strong>Avanzar para generar datos</strong></h1>'))"
   ]
  },
  {
   "cell_type": "code",
   "execution_count": 2,
   "metadata": {},
   "outputs": [
    {
     "data": {
      "text/html": [
       "<h1 style=\"color:#000000\"><strong>Los datos del problema son:</strong></h1>"
      ],
      "text/plain": [
       "<IPython.core.display.HTML object>"
      ]
     },
     "metadata": {},
     "output_type": "display_data"
    },
    {
     "data": {
      "text/html": [
       "<div>\n",
       "<style scoped>\n",
       "    .dataframe tbody tr th:only-of-type {\n",
       "        vertical-align: middle;\n",
       "    }\n",
       "\n",
       "    .dataframe tbody tr th {\n",
       "        vertical-align: top;\n",
       "    }\n",
       "\n",
       "    .dataframe thead th {\n",
       "        text-align: right;\n",
       "    }\n",
       "</style>\n",
       "<table border=\"1\" class=\"dataframe\">\n",
       "  <thead>\n",
       "    <tr style=\"text-align: right;\">\n",
       "      <th></th>\n",
       "      <th>m1 (kg/s)</th>\n",
       "      <th>m2 (kg/s)</th>\n",
       "      <th>T1e (ºC)</th>\n",
       "      <th>T1s (ºC)</th>\n",
       "      <th>T2s (ºC)</th>\n",
       "      <th>U (kW/m2·ºC)</th>\n",
       "    </tr>\n",
       "  </thead>\n",
       "  <tbody>\n",
       "    <tr>\n",
       "      <th>Datos</th>\n",
       "      <td>67</td>\n",
       "      <td>31</td>\n",
       "      <td>49.8</td>\n",
       "      <td>41.7</td>\n",
       "      <td>36.2</td>\n",
       "      <td>1.182</td>\n",
       "    </tr>\n",
       "  </tbody>\n",
       "</table>\n",
       "</div>"
      ],
      "text/plain": [
       "       m1 (kg/s)  m2 (kg/s)  T1e (ºC)  T1s (ºC)  T2s (ºC)  U (kW/m2·ºC)\n",
       "Datos         67         31      49.8      41.7      36.2         1.182"
      ]
     },
     "metadata": {},
     "output_type": "display_data"
    },
    {
     "data": {
      "text/html": [
       "<h1 style=\"color:#000000\"><strong>Las incognitas del problema son:</strong></h1>"
      ],
      "text/plain": [
       "<IPython.core.display.HTML object>"
      ]
     },
     "metadata": {},
     "output_type": "display_data"
    },
    {
     "data": {
      "text/html": [
       "<div>\n",
       "<style scoped>\n",
       "    .dataframe tbody tr th:only-of-type {\n",
       "        vertical-align: middle;\n",
       "    }\n",
       "\n",
       "    .dataframe tbody tr th {\n",
       "        vertical-align: top;\n",
       "    }\n",
       "\n",
       "    .dataframe thead th {\n",
       "        text-align: right;\n",
       "    }\n",
       "</style>\n",
       "<table border=\"1\" class=\"dataframe\">\n",
       "  <thead>\n",
       "    <tr style=\"text-align: right;\">\n",
       "      <th></th>\n",
       "      <th>Incognita 1</th>\n",
       "      <th>Incognita 2</th>\n",
       "      <th>Incognita 3</th>\n",
       "    </tr>\n",
       "  </thead>\n",
       "  <tbody>\n",
       "    <tr>\n",
       "      <th></th>\n",
       "      <td>Area (m2)</td>\n",
       "      <td>T2e (ºC)</td>\n",
       "      <td>Q (kW)</td>\n",
       "    </tr>\n",
       "  </tbody>\n",
       "</table>\n",
       "</div>"
      ],
      "text/plain": [
       "  Incognita 1 Incognita 2 Incognita 3\n",
       "    Area (m2)    T2e (ºC)      Q (kW)"
      ]
     },
     "metadata": {},
     "output_type": "display_data"
    }
   ],
   "source": [
    "display(HTML('<h1 style=\"color:#000000\"><strong>Los datos del problema son:</strong></h1>'))\n",
    "\n",
    "variablesConocidasNombres,variables,incognitasNombres,incognitas,ValoresIniciales, variableDesconocida,valoresVariables= generador_parametros() \n",
    "m1, m2, T1e, T1s, T2e, T2s, U, index=valoresVariables\n",
    "\n",
    "ValoresMostrados=[]\n",
    "\n",
    "for i in range(len(variables)):\n",
    "    if variableDesconocida>1:\n",
    "        if i>1 and i<(len(variables)-1):\n",
    "            ValoresMostrados.append(np.round(variables[i],1))\n",
    "        elif i==(len(variables)-1):\n",
    "                 ValoresMostrados.append(np.round(variables[i],3))\n",
    "        else:\n",
    "            ValoresMostrados.append(variables[i])\n",
    "    else:\n",
    "        if i>0 and i<(len(variables)-1):\n",
    "            ValoresMostrados.append(np.round(variables[i],1))\n",
    "        elif i==(len(variables)-1):\n",
    "                 ValoresMostrados.append(np.round(variables[i],3))\n",
    "        else:\n",
    "            ValoresMostrados.append(variables[i])\n",
    "\n",
    "data = dict(zip(variablesConocidasNombres, ValoresMostrados))\n",
    "\n",
    "values = pd.DataFrame(data,index=['Datos'], columns=variablesConocidasNombres)\n",
    "\n",
    "\n",
    "display(values)\n",
    "\n",
    "\n",
    "display(HTML('<h1 style=\"color:#000000\"><strong>Las incognitas del problema son:</strong></h1>'))\n",
    "\n",
    "titulos=['Incognita 1', 'Incognita 2','Incognita 3' ]\n",
    "\n",
    "\n",
    "data1 = dict(zip(titulos,incognitasNombres))\n",
    "\n",
    "values1 = pd.DataFrame(data1,index=[' '], columns=titulos)\n",
    "\n",
    "\n",
    "display(values1)\n",
    "\n"
   ]
  },
  {
   "cell_type": "code",
   "execution_count": 3,
   "metadata": {
    "scrolled": false
   },
   "outputs": [
    {
     "data": {
      "text/html": [
       "<h1 style=\"color:#000000\"><strong>Esquema del cambiador de calor y perfiles de temperatura.</strong></h1>"
      ],
      "text/plain": [
       "<IPython.core.display.HTML object>"
      ]
     },
     "metadata": {},
     "output_type": "display_data"
    },
    {
     "data": {
      "image/png": "[encoded data removed]",
      "text/plain": [
       "<IPython.core.display.Image object>"
      ]
     },
     "metadata": {
      "image/png": {
       "height": "400",
       "width": "400"
      }
     },
     "output_type": "display_data"
    }
   ],
   "source": [
    "display(HTML('<h1 style=\"color:#000000\"><strong>Esquema del cambiador de calor y perfiles de temperatura.</strong></h1>' ))\n",
    "display(Image(filename='./Imagenes/Flujo en contracorriente.png',height=\"400\" ,width=\"400\"));"
   ]
  },
  {
   "cell_type": "code",
   "execution_count": 4,
   "metadata": {},
   "outputs": [
    {
     "data": {
      "text/html": [
       "<h1 style=\"color:#000000\"><strong>Los parámetros calculados para la resolución son:</strong></h1>"
      ],
      "text/plain": [
       "<IPython.core.display.HTML object>"
      ]
     },
     "metadata": {},
     "output_type": "display_data"
    },
    {
     "data": {
      "text/html": [
       "<div>\n",
       "<style scoped>\n",
       "    .dataframe tbody tr th:only-of-type {\n",
       "        vertical-align: middle;\n",
       "    }\n",
       "\n",
       "    .dataframe tbody tr th {\n",
       "        vertical-align: top;\n",
       "    }\n",
       "\n",
       "    .dataframe thead th {\n",
       "        text-align: right;\n",
       "    }\n",
       "</style>\n",
       "<table border=\"1\" class=\"dataframe\">\n",
       "  <thead>\n",
       "    <tr style=\"text-align: right;\">\n",
       "      <th></th>\n",
       "      <th>Cp1 (kJ/kg·ºC)</th>\n",
       "      <th>Cp2 (kJ/kg·ºC)</th>\n",
       "      <th>Incr. Temp. Media log. (ºC)</th>\n",
       "    </tr>\n",
       "  </thead>\n",
       "  <tbody>\n",
       "    <tr>\n",
       "      <th>Parámetros</th>\n",
       "      <td>4.181</td>\n",
       "      <td>4.186</td>\n",
       "      <td>17.92</td>\n",
       "    </tr>\n",
       "  </tbody>\n",
       "</table>\n",
       "</div>"
      ],
      "text/plain": [
       "            Cp1 (kJ/kg·ºC)  Cp2 (kJ/kg·ºC)  Incr. Temp. Media log. (ºC)\n",
       "Parámetros           4.181           4.186                        17.92"
      ]
     },
     "metadata": {},
     "output_type": "display_data"
    },
    {
     "data": {
      "text/html": [
       "<h1 style=\"color:#000000\"><strong>El resultado de las corrientes del sistema y del área del intercambiador es:</strong></h1>"
      ],
      "text/plain": [
       "<IPython.core.display.HTML object>"
      ]
     },
     "metadata": {},
     "output_type": "display_data"
    },
    {
     "data": {
      "text/html": [
       "<div>\n",
       "<style scoped>\n",
       "    .dataframe tbody tr th:only-of-type {\n",
       "        vertical-align: middle;\n",
       "    }\n",
       "\n",
       "    .dataframe tbody tr th {\n",
       "        vertical-align: top;\n",
       "    }\n",
       "\n",
       "    .dataframe thead th {\n",
       "        text-align: right;\n",
       "    }\n",
       "</style>\n",
       "<table border=\"1\" class=\"dataframe\">\n",
       "  <thead>\n",
       "    <tr style=\"text-align: right;\">\n",
       "      <th></th>\n",
       "      <th>Area (m2)</th>\n",
       "      <th>T2e (ºC)</th>\n",
       "      <th>Q (kW)</th>\n",
       "    </tr>\n",
       "  </thead>\n",
       "  <tbody>\n",
       "    <tr>\n",
       "      <th>Resultados</th>\n",
       "      <td>107</td>\n",
       "      <td>18.6</td>\n",
       "      <td>2275</td>\n",
       "    </tr>\n",
       "  </tbody>\n",
       "</table>\n",
       "</div>"
      ],
      "text/plain": [
       "            Area (m2)  T2e (ºC)  Q (kW)\n",
       "Resultados        107      18.6    2275"
      ]
     },
     "metadata": {},
     "output_type": "display_data"
    }
   ],
   "source": [
    "display(HTML('<h1 style=\"color:#000000\"><strong>Los parámetros calculados para la resolución son:</strong></h1>' ))\n",
    "\n",
    "Resultado = optimize.fsolve(Sistema_Ecuaciones, ValoresIniciales,args=valoresVariables, xtol=1e-06, maxfev=500)\n",
    "\n",
    "Area,valorVariableDesconocida,Calor=Resultado\n",
    "\n",
    "ValoresMostrar=[m1, m2, T1e, T1s, T2e, T2s]\n",
    "ValoresMostrar[variableDesconocida]=valorVariableDesconocida\n",
    "m1, m2, T1e, T1s, T2e, T2s=ValoresMostrar\n",
    "\n",
    "\n",
    "incr_Tml=Calculo_incr_Tml(T1e, T1s, T2e,T2s)\n",
    "T1Media=(T1e+T1s)/2\n",
    "T2Media = (T2e+T2s)/2\n",
    "Cp1=Cp_AguaLiquida(T1Media)\n",
    "Cp2 = Cp_AguaLiquida(T2Media)\n",
    "parametrosValores=[np.round(Cp1,3),np.round(Cp2,3),np.round(incr_Tml,2)]\n",
    "\n",
    "    \n",
    "valores_resultado=[int(np.round(Area))]\n",
    "\n",
    "if variableDesconocida<=1:\n",
    "    valores_resultado.append(int(np.round(valorVariableDesconocida)))\n",
    "else:\n",
    "    valores_resultado.append(float(np.round(valorVariableDesconocida,1)))\n",
    "                                   \n",
    "valores_resultado.append(int(np.round(Calor)))                              \n",
    "\n",
    "\n",
    "parametrosNombres=['Cp1 (kJ/kg·ºC)','Cp2 (kJ/kg·ºC)','Incr. Temp. Media log. (ºC)']\n",
    "\n",
    "data_parametros = dict(zip(parametrosNombres,parametrosValores))\n",
    "values_parametros = pd.DataFrame(data_parametros ,index=['Parámetros'], columns=parametrosNombres)\n",
    "display(values_parametros )\n",
    "\n",
    "\n",
    "\n",
    "display(HTML('<h1 style=\"color:#000000\"><strong>El resultado de las corrientes del sistema y del área del intercambiador es:</strong></h1>' ))\n",
    "\n",
    "data_resultado = dict(zip(incognitasNombres,valores_resultado))\n",
    "values_resultado = pd.DataFrame(data_resultado ,index=['Resultados'], columns=incognitasNombres)\n",
    "display(values_resultado)\n",
    "\n",
    "\n"
   ]
  },
  {
   "cell_type": "code",
   "execution_count": 5,
   "metadata": {},
   "outputs": [
    {
     "data": {
      "text/html": [
       "\n",
       "\n",
       "<footer id=\"attribution\" style=\"float:right; color:#999; background:#fff;\">\n",
       "Programado con Jupyter Notebook en Python 3.6. </footer>"
      ],
      "text/plain": [
       "<IPython.core.display.HTML object>"
      ]
     },
     "metadata": {},
     "output_type": "display_data"
    }
   ],
   "source": [
    "display(HTML('''\n",
    "\n",
    "<footer id=\"attribution\" style=\"float:right; color:#999; background:#fff;\">\n",
    "Programado con Jupyter Notebook en Python 3.6. </footer>'''))"
   ]
  }
 ],
 "metadata": {
  "kernelspec": {
   "display_name": "Python 3 (ipykernel)",
   "language": "python",
   "name": "python3"
  },
  "language_info": {
   "codemirror_mode": {
    "name": "ipython",
    "version": 3
   },
   "file_extension": ".py",
   "mimetype": "text/x-python",
   "name": "python",
   "nbconvert_exporter": "python",
   "pygments_lexer": "ipython3",
   "version": "3.9.4"
  }
 },
 "nbformat": 4,
 "nbformat_minor": 1
}
