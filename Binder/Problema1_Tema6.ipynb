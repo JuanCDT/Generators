{
 "cells": [
  {
   "cell_type": "markdown",
   "metadata": {},
   "source": [
    "### Problema 1\n",
    "En una instalación de elevación de agua, la tubería de aspiración de 45 mm de diámetro interno consta de un tramo vertical que toma el agua de un pozo, de 3 m de altura sobre el nivel del agua y de un tramo horizontal de 15 m, al final del cual se sitúa la bomba. La tubería de impulsión, del mismo diámetro, consta de un tramo vertical de 25 m de altura y otro horizontal de 5 m. En el extremo de la conducción hay una válvula de compuerta medio abierta. El caudal de agua ha de ser de 200 L/min. El pozo y la tubería de descarga están abiertos a la atmósfera. Calcular:\n",
    "\n",
    "a) Presión del agua a la entrada y a la salida de la bomba. \n",
    "\n",
    "b) Potencia de la bomba, si esta tiene un rendimiento del 60 %. \n",
    "\n",
    "***Datos:*** \n",
    "\n",
    "Rugosidad de la conducción: = 0,00005 m \n",
    "\n",
    "Viscosidad del agua a la temperatura de operación: 10-3 Pa.s \n",
    "\n",
    "Longitud equivalente de un codo de 90º en tubería de 45 mm: 1,2 m \n",
    "\n",
    "Longitud equivalente de una válvula de compuerta medio abierta: 8 m\n",
    "\n",
    "<img title=\"Diagrama\" alt=\"Alt text\" src=\"Problema1_Fluidos.jpg\">\n",
    "\n",
    "$\\frac{1}{\\rho}\\cdot \\left( P_2-P_1 \\right) + g\\cdot  \\left( Z_2-Z_1 \\right) + \\left( \\frac{V_2^2}{2\\cdot \\alpha_2} -\\frac{V_1^2}{2\\cdot \\alpha_1} \\right) + \\sum{F} = w$\n",
    "\n",
    "Cálculo de la presión a la entrada de la bomba\n",
    "\n",
    "$\\frac{1}{\\rho}\\cdot \\left( P_2-P_1 \\right) + g\\cdot  \\left( Z_2-Z_1 \\right) + \\left( \\frac{V_2^2}{2\\cdot \\alpha_2} \\right) + \\sum{F} = 0$\n",
    "\n",
    "\n"
   ]
  },
  {
   "cell_type": "code",
   "execution_count": 1,
   "metadata": {},
   "outputs": [],
   "source": [
    "import numpy as np\n",
    "from IPython.core.interactiveshell import InteractiveShell\n",
    "InteractiveShell.ast_node_interactivity = \"all\"\n",
    "\n",
    "def Moody(Re, E, D):\n",
    "    f_Darcy=0.0055*(1+(2E4*(E/D)+(1E6/Re))**(1/3))\n",
    "    f=f_Darcy/4\n",
    "    return f\n",
    "    \n",
    "def Reynolds(V, D, mu, rho):\n",
    "    Re=(V*D*rho)/mu\n",
    "    return Re"
   ]
  },
  {
   "cell_type": "code",
   "execution_count": 2,
   "metadata": {},
   "outputs": [
    {
     "data": {
      "text/plain": [
       "101330"
      ]
     },
     "execution_count": 2,
     "metadata": {},
     "output_type": "execute_result"
    }
   ],
   "source": [
    "P1=101330 #Pa\n",
    "P1"
   ]
  },
  {
   "cell_type": "code",
   "execution_count": 3,
   "metadata": {},
   "outputs": [
    {
     "data": {
      "text/plain": [
       "3"
      ]
     },
     "execution_count": 3,
     "metadata": {},
     "output_type": "execute_result"
    }
   ],
   "source": [
    "inc_Z=3 #3 m de incremento de cota entre la bomba y el depósito\n",
    "inc_Z"
   ]
  },
  {
   "cell_type": "code",
   "execution_count": 4,
   "metadata": {},
   "outputs": [
    {
     "data": {
      "text/plain": [
       "0"
      ]
     },
     "execution_count": 4,
     "metadata": {},
     "output_type": "execute_result"
    }
   ],
   "source": [
    "# No hay bomba, por lo que w=0. No lo incluimos.\n",
    "V1=0 # Suponemos el agua en reposo en la superficie del depósito\n",
    "V1"
   ]
  },
  {
   "cell_type": "code",
   "execution_count": 5,
   "metadata": {},
   "outputs": [
    {
     "data": {
      "text/plain": [
       "0.0033333333333333335"
      ]
     },
     "execution_count": 5,
     "metadata": {},
     "output_type": "execute_result"
    }
   ],
   "source": [
    "Q=200*1E-3/60 # Caudal en SI m3/s\n",
    "Q"
   ]
  },
  {
   "cell_type": "code",
   "execution_count": 6,
   "metadata": {},
   "outputs": [
    {
     "data": {
      "text/plain": [
       "0.045"
      ]
     },
     "execution_count": 6,
     "metadata": {},
     "output_type": "execute_result"
    }
   ],
   "source": [
    "D=45*1E-3 # Diámetro en m\n",
    "D"
   ]
  },
  {
   "cell_type": "code",
   "execution_count": 7,
   "metadata": {},
   "outputs": [
    {
     "data": {
      "text/plain": [
       "0.0015904312808798326"
      ]
     },
     "execution_count": 7,
     "metadata": {},
     "output_type": "execute_result"
    }
   ],
   "source": [
    "S=np.pi/4*D**2 # Sección de la conducción\n",
    "S"
   ]
  },
  {
   "cell_type": "code",
   "execution_count": 8,
   "metadata": {},
   "outputs": [
    {
     "data": {
      "text/plain": [
       "2.0958675633500623"
      ]
     },
     "execution_count": 8,
     "metadata": {},
     "output_type": "execute_result"
    }
   ],
   "source": [
    "V2=Q/S # Velocidad en la conducción en m/s\n",
    "V2"
   ]
  },
  {
   "cell_type": "code",
   "execution_count": 9,
   "metadata": {},
   "outputs": [
    {
     "data": {
      "text/plain": [
       "94314.04035075281"
      ]
     },
     "execution_count": 9,
     "metadata": {},
     "output_type": "execute_result"
    }
   ],
   "source": [
    "mu = 1E-3 # en Pa·s\n",
    "rho = 1E3 # en kg/m3\n",
    "Re=Reynolds(V2,D,mu, rho)\n",
    "Re"
   ]
  },
  {
   "cell_type": "code",
   "execution_count": 10,
   "metadata": {},
   "outputs": [
    {
     "data": {
      "text/plain": [
       "0.005777554147387288"
      ]
     },
     "execution_count": 10,
     "metadata": {},
     "output_type": "execute_result"
    }
   ],
   "source": [
    "epsilon=5E-5 # en m\n",
    "rugosidad_relativa=epsilon/D\n",
    "# Cálculo del factor de rozamiento f\n",
    "f=Moody(Re, epsilon, D)\n",
    "f"
   ]
  },
  {
   "cell_type": "code",
   "execution_count": 11,
   "metadata": {},
   "outputs": [
    {
     "data": {
      "text/plain": [
       "21.65660661088858"
      ]
     },
     "execution_count": 11,
     "metadata": {},
     "output_type": "execute_result"
    }
   ],
   "source": [
    "# Determinación de las pérdidas de carga\n",
    "Leq_codo=1.2\n",
    "L=15+3\n",
    "Perdidas=2*V2**2*f*(L+Leq_codo)/D # en J/kg\n",
    "Perdidas"
   ]
  },
  {
   "cell_type": "code",
   "execution_count": 12,
   "metadata": {},
   "outputs": [],
   "source": [
    "# Determinación de la presión de entrada a la bomba\n",
    "P2=101330-(9.81*3+(V2**2/2)+Perdidas)*1000 # en Pa"
   ]
  },
  {
   "cell_type": "markdown",
   "metadata": {},
   "source": [
    "***Cálculo de la presión de descarga de la bomba***\n",
    "\n",
    "- El término de energía cinética es nulo al ser iguales los diámetros de entrada y salida de la bomba.\n",
    "- El término de potencia de la bomba es despreciable dado que hacemos el balance energético desde la salida de la bomba hasta la válvula.\n",
    "- El valor de Re es constante dado que todos sus términos son iguales al caso anterior.\n",
    "- La presión a la salida de la válcula es la presión atmosférica.\n",
    "\n",
    "$\\frac{1}{\\rho}\\cdot \\left( P_4-P_3 \\right) + g\\cdot  \\left( Z_4-Z_3 \\right)  + \\sum{F} = w%$"
   ]
  },
  {
   "cell_type": "code",
   "execution_count": 13,
   "metadata": {},
   "outputs": [
    {
     "data": {
      "text/plain": [
       "30"
      ]
     },
     "execution_count": 13,
     "metadata": {},
     "output_type": "execute_result"
    }
   ],
   "source": [
    "L=25+5 # longitud del tramo recto de la tubería\n",
    "L"
   ]
  },
  {
   "cell_type": "code",
   "execution_count": 14,
   "metadata": {},
   "outputs": [
    {
     "data": {
      "text/plain": [
       "8"
      ]
     },
     "execution_count": 14,
     "metadata": {},
     "output_type": "execute_result"
    }
   ],
   "source": [
    "Leq_valvulaCompuerta=8\n",
    "Leq_valvulaCompuerta"
   ]
  },
  {
   "cell_type": "code",
   "execution_count": 15,
   "metadata": {},
   "outputs": [
    {
     "data": {
      "text/plain": [
       "44.215571830564194"
      ]
     },
     "execution_count": 15,
     "metadata": {},
     "output_type": "execute_result"
    }
   ],
   "source": [
    "Perdidas2=2*f*V2**2*(L+Leq_codo+Leq_valvulaCompuerta)/D # en J/kg\n",
    "Perdidas2"
   ]
  },
  {
   "cell_type": "code",
   "execution_count": 16,
   "metadata": {},
   "outputs": [
    {
     "data": {
      "text/plain": [
       "392991.90225211566"
      ]
     },
     "execution_count": 16,
     "metadata": {},
     "output_type": "execute_result"
    }
   ],
   "source": [
    "P3=101330+(9.81*25+(V2**2/2)+Perdidas2)*1000 # en Pa\n",
    "P3"
   ]
  },
  {
   "cell_type": "markdown",
   "metadata": {},
   "source": [
    "***Cálculo de la potencia de la bomba***\n",
    "- Aplicamos la Ec. de Bernuilli entre 2 y 3.\n",
    "- Los únicos términos que no son nulos son el de potencia y el de variación de presión.\n",
    "\n",
    "$\\frac{1}{\\rho}\\cdot \\left( P_3- P_2 \\right) = w$\n",
    "$N_t =  w\\cdot m= w\\cdot Q\\cdot \\rho$\n",
    "$N_r=\\frac{N_t}{\\eta}$"
   ]
  },
  {
   "cell_type": "code",
   "execution_count": 17,
   "metadata": {},
   "outputs": [
    {
     "data": {
      "text/plain": [
       "344.9448392845557"
      ]
     },
     "execution_count": 17,
     "metadata": {},
     "output_type": "execute_result"
    }
   ],
   "source": [
    "w=1/rho*(P3-P2) # en J/kg\n",
    "w "
   ]
  },
  {
   "cell_type": "code",
   "execution_count": 18,
   "metadata": {},
   "outputs": [
    {
     "data": {
      "text/plain": [
       "1149.816130948519"
      ]
     },
     "execution_count": 18,
     "metadata": {},
     "output_type": "execute_result"
    }
   ],
   "source": [
    "Nt=w*Q*rho # Potencia teórica en W\n",
    "Nt"
   ]
  },
  {
   "cell_type": "code",
   "execution_count": 19,
   "metadata": {},
   "outputs": [
    {
     "data": {
      "text/plain": [
       "1916.3602182475317"
      ]
     },
     "execution_count": 19,
     "metadata": {},
     "output_type": "execute_result"
    }
   ],
   "source": [
    "rendimiento=0.6 #Rendimiento de la bomba\n",
    "Nr=Nt/rendimiento # Potencia real en W. Aprox. 2 kW\n",
    "Nr"
   ]
  }
 ],
 "metadata": {
  "kernelspec": {
   "display_name": "Python 3",
   "language": "python",
   "name": "python3"
  },
  "language_info": {
   "codemirror_mode": {
    "name": "ipython",
    "version": 3
   },
   "file_extension": ".py",
   "mimetype": "text/x-python",
   "name": "python",
   "nbconvert_exporter": "python",
   "pygments_lexer": "ipython3",
   "version": "3.11.4"
  }
 },
 "nbformat": 4,
 "nbformat_minor": 2
}
