{
 "cells": [
  {
   "cell_type": "markdown",
   "metadata": {},
   "source": [
    "# Cinética Química \n",
    "## Determinación de los parámetros cinéticos de una ecuación potencial:\n",
    "## *Métodos diferencial e integral.*"
   ]
  },
  {
   "cell_type": "code",
   "execution_count": 2,
   "metadata": {},
   "outputs": [
    {
     "data": {
      "text/html": [
       "<script>\n",
       "  function code_toggle() {\n",
       "    if (code_shown){\n",
       "      $('div.input').hide('500');\n",
       "      $('#toggleButton').val('Mostrar código')\n",
       "    } else {\n",
       "      $('div.input').show('500');\n",
       "      $('#toggleButton').val('Esconder código')\n",
       "    }\n",
       "    code_shown = !code_shown\n",
       "  }\n",
       "\n",
       "  $( document ).ready(function(){\n",
       "    code_shown=false;\n",
       "    $('div.input').hide()\n",
       "  });\n",
       "</script>\n",
       "<form action=\"javascript:code_toggle()\"><input type=\"submit\" id=\"toggleButton\" value=\"Mostrar código\"></form>"
      ],
      "text/plain": [
       "<IPython.core.display.HTML object>"
      ]
     },
     "metadata": {},
     "output_type": "display_data"
    },
    {
     "data": {
      "text/html": [
       "<h1 style=\"color:#000000\"><strong>Avanzar para generar datos</strong></h1>"
      ],
      "text/plain": [
       "<IPython.core.display.HTML object>"
      ]
     },
     "metadata": {},
     "output_type": "display_data"
    },
    {
     "data": {
      "text/html": [
       "<p>Recuerda cómo es una ecuación cinética potencial para:</br>  </p>"
      ],
      "text/plain": [
       "<IPython.core.display.HTML object>"
      ]
     },
     "metadata": {},
     "output_type": "display_data"
    },
    {
     "data": {
      "text/latex": [
       "$$A \\rightarrow B$$"
      ],
      "text/plain": [
       "<IPython.core.display.Math object>"
      ]
     },
     "metadata": {},
     "output_type": "display_data"
    },
    {
     "data": {
      "text/latex": [
       "$$r=k\\cdot C_A^n$$"
      ],
      "text/plain": [
       "<IPython.core.display.Math object>"
      ]
     },
     "metadata": {},
     "output_type": "display_data"
    },
    {
     "data": {
      "text/html": [
       "<p>donde $r$ es la velocidad de reacción, $k$ es la constante cinética,                 $C_A$ la concentración del reactivo A,             y $n$ es el orden de reacción.</br>  </p>"
      ],
      "text/plain": [
       "<IPython.core.display.HTML object>"
      ]
     },
     "metadata": {},
     "output_type": "display_data"
    }
   ],
   "source": [
    "\n",
    "#%matplotlib notebook\n",
    "\n",
    "%matplotlib inline\n",
    "import seaborn\n",
    "import numpy as np\n",
    "from scipy import optimize\n",
    "from scipy.integrate import ode\n",
    "import matplotlib.pyplot as mpl\n",
    "import random\n",
    "import math\n",
    "import pandas as pd\n",
    "import IPython.core.display as di\n",
    "pd.set_option('display.notebook_repr_html', True)\n",
    "from ipywidgets import interact\n",
    "import notebook\n",
    "from IPython.display import clear_output, display, HTML, Image,Math, Latex\n",
    "from IPython.external import mathjax\n",
    "FigureSize=(8,6)\n",
    "\n",
    "\n",
    "def tiempo_final(Ca0):\n",
    "    incr_t=0.05\n",
    "\n",
    "    t = []\n",
    "    Ca = []\n",
    "\n",
    "    t.append(0)\n",
    "    Ca.append(Ca0)\n",
    "\n",
    "    r = ode(f).set_integrator('vode', method='bdf', nsteps=1000, atol = 1.0e-05, rtol = 1.0e-05)\n",
    "    r.set_initial_value(Ca0,t[0]).set_f_params(n,k)\n",
    "    #print(t[0], Ca[0])\n",
    "    #print ('r_t: ',r.t,'Ca0: ',r.y)\n",
    "\n",
    "    while r.successful() and Ca[-1]>0.05 and r.y>0:\n",
    "        r.integrate(r.t + incr_t)\n",
    "        #Ca[k1]=r.y\n",
    "        Ca.append(r.y)\n",
    "        t.append(r.t)\n",
    "        #print ('tiempo:', '%.2f' % t[k], 'Ca:','%.4f'%Ca[k])\n",
    "\n",
    "\n",
    "    return t[-1]\n",
    "\n",
    "\n",
    "def polyfit(x, y, degree):\n",
    "    results = {}\n",
    "\n",
    "    coeffs = np.polyfit(x, y, degree)\n",
    "     # Polynomial Coefficients\n",
    "    results['polynomial'] = coeffs.tolist()\n",
    "\n",
    "    correlation = np.corrcoef(x, y)[0,1]\n",
    "\n",
    "\n",
    "    results['correlation'] = correlation\n",
    "    r_squared=correlation**2\n",
    "    results['determination'] = correlation**2\n",
    "\n",
    "    return r_squared,coeffs\n",
    "\n",
    "def generador_parametros(): #generarción de parámetros de la ecuación cinética y Temperatura de trabajo\n",
    "    global k, Ea, Ln_K0, n, T\n",
    "    Ea=random.uniform(40.,80.0)\n",
    "    Ln_K0 = random.uniform(15.,25.)\n",
    "    T= random.uniform(40., 80.) #Temperatura en ºC\n",
    "    T1=T+273.15 #Temperatura en K\n",
    "    k = math.exp(Ln_K0)*math.exp(Ea*(-1000.)/(8.31*(T1)))\n",
    "\n",
    "    n=round(random.uniform(0.5,2.05),2)\n",
    "    return k,Ea,Ln_K0,n,T\n",
    "\n",
    "\n",
    "\n",
    "def f(t,Ca,n,k): #ecuación cinética\n",
    "\n",
    "    r=-1.*k*Ca**n\n",
    "    return r\n",
    "\n",
    "\n",
    "\n",
    "\n",
    "\n",
    "def generador_valores(n_ptos):\n",
    "    global k, Ea, Ln_K0, n, T,incr_t\n",
    "    k, Ea, Ln_K0, n, T = generador_parametros()\n",
    "\n",
    "    #print (k, Ea, Ln_K0, n, T )\n",
    "\n",
    "    Ca0=round(random.uniform(5.,10.),1)\n",
    "    #print (Ca0)\n",
    "    #intervalo de tiempo\n",
    "    t_inicial=0.\n",
    "    \n",
    "    t_final=tiempo_final(Ca0)\n",
    "    #t_final = random.uniform(30.,40.)*3600\n",
    "    \n",
    "    #print ('tiempo final: ',t_final)\n",
    "\n",
    "    incr_t = (t_final - t_inicial) / n_ptos\n",
    "\n",
    "    #print('t0: ', t_inicial, 'tf: ', t_final)\n",
    "    num_pasos =int(np.floor((t_final - t_inicial) / incr_t)+1)\n",
    "\n",
    "    #print ('incr_t: ',incr_t,'n_pasos: ',num_pasos)\n",
    "\n",
    "    #t=np.array([])\n",
    "    #Ca = np.array([])\n",
    "    #crea vectores datos\n",
    "    t = np.zeros(num_pasos)\n",
    "    Ca = np.zeros(num_pasos)\n",
    "\n",
    "    t[0] = t_inicial\n",
    "    Ca[0] = Ca0\n",
    "\n",
    "    r = ode(f).set_integrator('vode', method='bdf', nsteps=1000, atol = 1.0e-05, rtol = 1.0e-05)\n",
    "    r.set_initial_value(Ca0,t_inicial).set_f_params(n,k)\n",
    "    #print(t[0], Ca[0])\n",
    "    #print ('r_t: ',r.t,'Ca0: ',r.y)\n",
    "    k1=1\n",
    "    while r.successful() and k1<num_pasos and r.y>=0:\n",
    "        r.integrate(r.t + incr_t)\n",
    "        #Ca[k1]=r.y\n",
    "        Ca[k1] = r.y+random.uniform(-0.01,0.01)*r.y\n",
    "        t[k1]=r.t\n",
    "        #print ('tiempo:', '%.2f' % t[k], 'Ca:','%.4f'%Ca[k])\n",
    "        k1+=1\n",
    "\n",
    "\n",
    "    # odeint(func, y0, t, args=(), Dfun=None, col_deriv=0, full_output=0,\n",
    "    #        ml=None, mu=None, rtol=None, atol=None, tcrit=None, h0=0.0,\n",
    "    #        hmax=0.0, hmin=0.0, ixpr=0, mxstep=0, mxhnil=0, mxordn=12,\n",
    "    #        mxords=5, printmessg=0)\n",
    "\n",
    "\n",
    "\n",
    "    return t,Ca\n",
    "\n",
    "\n",
    "def orden_1(Ca0,t,k2): #como entrada un valor y un arrays: concentración inicial y vector tiempo\n",
    "    Ca=Ca0*np.exp(-k2*t)\n",
    "    return Ca\n",
    "#función n!=1\n",
    "def orden_n(Ca0,t,n,k2): #como entrada un valor y un arrays: concentración inicial y vector tiempo\n",
    "    #Ca = np.array([Ca0])\n",
    "    Ln_Ca = (1 / (n + 1)) * np.log(-(n + 1) * k2 * t + Ca0 ** (n + 1))\n",
    "    #Ca = np.append(Ca, np.exp(Ln_Ca))\n",
    "\n",
    "    Ca = np.append(Ca0, np.exp(Ln_Ca))\n",
    "    return Ca\n",
    "\n",
    "\n",
    "def integral_1(param,x,y,Ca0): #param es la lista de parámetros a ajustar k:param[0]=Ln k\n",
    "    # x e y son tuplas con los valores experimentales correspondientes. Cao es también una tupla con el valor del parámetro\n",
    "    #Ca0, que se mantiene contante\n",
    "    error_calculado=Ca0 * np.exp(-np.exp(param[0]) * x) - y\n",
    "    return error_calculado\n",
    "\n",
    "\n",
    "def integral_distinto1(param, x, y, Ca0):  # param es la lista de parámetros a ajustar n y k:param[0]=n, param[1]=Ln k\n",
    "    # x e y son tuplas con los valores experimentales correspondientes. Cao es también una tupla con el valor del parámetro\n",
    "    # Ca0, que se mantiene contante\n",
    "    error_calculado = np.exp((1 / (param[0] + 1)) * np.log(-(param[0] + 1) * np.exp(param[1]) * x + Ca0 ** (param[0] + 1))) - y\n",
    "\n",
    "    # error_calculado=1/(param[0]+1)*(np.log(-(param[0]+1)*np.exp(param[1])*x+Ca0**(param[0]+1)))-y\n",
    "    return error_calculado\n",
    "\n",
    "display(HTML('''<script>\n",
    "  function code_toggle() {\n",
    "    if (code_shown){\n",
    "      $('div.input').hide('500');\n",
    "      $('#toggleButton').val('Mostrar código')\n",
    "    } else {\n",
    "      $('div.input').show('500');\n",
    "      $('#toggleButton').val('Esconder código')\n",
    "    }\n",
    "    code_shown = !code_shown\n",
    "  }\n",
    "\n",
    "  $( document ).ready(function(){\n",
    "    code_shown=false;\n",
    "    $('div.input').hide()\n",
    "  });\n",
    "</script>\n",
    "<form action=\"javascript:code_toggle()\"><input type=\"submit\" id=\"toggleButton\" value=\"Mostrar código\"></form>'''))\n",
    "\n",
    "\n",
    "display(HTML('<h1 style=\"color:#000000\"><strong>Avanzar para generar datos</strong></h1>'))\n",
    "display(HTML('<p>Recuerda cómo es una ecuación cinética potencial para:</br>  </p>' ))\n",
    "display(Math(r'A \\rightarrow B'))\n",
    "display(Math(r'r=k\\cdot C_A^n'))\n",
    "display(HTML('<p>donde $r$ es la velocidad de reacción, $k$ es la constante cinética, \\\n",
    "                $C_A$ la concentración del reactivo A,\\\n",
    "             y $n$ es el orden de reacción.</br>  </p>' ))"
   ]
  },
  {
   "cell_type": "code",
   "execution_count": 3,
   "metadata": {},
   "outputs": [
    {
     "name": "stdout",
     "output_type": "stream",
     "text": [
      "Nº de puntos: 10\n"
     ]
    },
    {
     "data": {
      "text/html": [
       "<div>\n",
       "<style scoped>\n",
       "    .dataframe tbody tr th:only-of-type {\n",
       "        vertical-align: middle;\n",
       "    }\n",
       "\n",
       "    .dataframe tbody tr th {\n",
       "        vertical-align: top;\n",
       "    }\n",
       "\n",
       "    .dataframe thead th {\n",
       "        text-align: right;\n",
       "    }\n",
       "</style>\n",
       "<table border=\"1\" class=\"dataframe\">\n",
       "  <thead>\n",
       "    <tr style=\"text-align: right;\">\n",
       "      <th></th>\n",
       "      <th>Concentración (mol/L)</th>\n",
       "    </tr>\n",
       "    <tr>\n",
       "      <th>tiempo (min)</th>\n",
       "      <th></th>\n",
       "    </tr>\n",
       "  </thead>\n",
       "  <tbody>\n",
       "    <tr>\n",
       "      <th>0.0</th>\n",
       "      <td>8.50</td>\n",
       "    </tr>\n",
       "    <tr>\n",
       "      <th>11.0</th>\n",
       "      <td>2.39</td>\n",
       "    </tr>\n",
       "    <tr>\n",
       "      <th>22.0</th>\n",
       "      <td>1.02</td>\n",
       "    </tr>\n",
       "    <tr>\n",
       "      <th>33.0</th>\n",
       "      <td>0.55</td>\n",
       "    </tr>\n",
       "    <tr>\n",
       "      <th>44.0</th>\n",
       "      <td>0.33</td>\n",
       "    </tr>\n",
       "    <tr>\n",
       "      <th>55.0</th>\n",
       "      <td>0.21</td>\n",
       "    </tr>\n",
       "    <tr>\n",
       "      <th>66.0</th>\n",
       "      <td>0.15</td>\n",
       "    </tr>\n",
       "    <tr>\n",
       "      <th>77.0</th>\n",
       "      <td>0.11</td>\n",
       "    </tr>\n",
       "    <tr>\n",
       "      <th>88.0</th>\n",
       "      <td>0.08</td>\n",
       "    </tr>\n",
       "    <tr>\n",
       "      <th>99.0</th>\n",
       "      <td>0.06</td>\n",
       "    </tr>\n",
       "    <tr>\n",
       "      <th>110.0</th>\n",
       "      <td>0.05</td>\n",
       "    </tr>\n",
       "  </tbody>\n",
       "</table>\n",
       "</div>"
      ],
      "text/plain": [
       "              Concentración (mol/L)\n",
       "tiempo (min)                       \n",
       "0.0                            8.50\n",
       "11.0                           2.39\n",
       "22.0                           1.02\n",
       "33.0                           0.55\n",
       "44.0                           0.33\n",
       "55.0                           0.21\n",
       "66.0                           0.15\n",
       "77.0                           0.11\n",
       "88.0                           0.08\n",
       "99.0                           0.06\n",
       "110.0                          0.05"
      ]
     },
     "metadata": {},
     "output_type": "display_data"
    },
    {
     "data": {
      "text/html": [
       "<h1 style=\"color:#000000\"\"><strong>Avanzar para mostrar representación gráfica</strong></h1>"
      ],
      "text/plain": [
       "<IPython.core.display.HTML object>"
      ]
     },
     "metadata": {},
     "output_type": "display_data"
    }
   ],
   "source": [
    "n_ptos=int(input(\"Nº de puntos: \"))\n",
    "\n",
    "while True:\n",
    "    x,y=generador_valores(n_ptos)\n",
    "    if x[-1]>=10 and x[-1]<=500:\n",
    "        break\n",
    "        \n",
    "    \n",
    "\n",
    "\n",
    "x1=np.copy(x)\n",
    "x1= np.round(x1)\n",
    "#x1.astype(np.int64)\n",
    "\n",
    "y1=np.round(y,2)\n",
    "\n",
    "\n",
    "data=dict()\n",
    "data['tiempo (min)']=x1.tolist()\n",
    "data['Concentración (mol/L)']=y1.tolist()\n",
    "\n",
    "\n",
    "values = pd.DataFrame(data,columns=['tiempo (min)', 'Concentración (mol/L)'])\n",
    "values.style.set_properties(**{'text-align': 'right'})\n",
    "values.set_index('tiempo (min)',inplace=True)\n",
    "\n",
    "#values['tiempo (min)'].astype(int)\n",
    "\n",
    "display(values)\n",
    "\n",
    "\n",
    "display(HTML('<h1 style=\"color:#000000\"\"><strong>Avanzar para mostrar representación gráfica</strong></h1>'))"
   ]
  },
  {
   "cell_type": "code",
   "execution_count": 4,
   "metadata": {
    "scrolled": false
   },
   "outputs": [
    {
     "data": {
      "image/png": "[encoded data removed]",
      "text/plain": [
       "<Figure size 432x288 with 1 Axes>"
      ]
     },
     "metadata": {},
     "output_type": "display_data"
    },
    {
     "data": {
      "text/html": [
       "<h1 style=\"color:#000000\"><strong>Avanzar para mostrar resultados            de aplicar el método diferencial</strong></h1>"
      ],
      "text/plain": [
       "<IPython.core.display.HTML object>"
      ]
     },
     "metadata": {},
     "output_type": "display_data"
    }
   ],
   "source": [
    "mpl.figure('figure1')\n",
    "\n",
    "\n",
    "mpl.plot(x,y, 'ro',label = 'Datos Experimentales a T: '+str(round(T,1)))\n",
    "mpl.xlabel('tiempo,  [min]')\n",
    "mpl.ylabel('Concentración de A, [mol/L] ')\n",
    "mpl.legend(loc = 'best')\n",
    "\n",
    "mpl.show()\n",
    "\n",
    "display(HTML('<h1 style=\"color:#000000\"><strong>Avanzar para mostrar resultados\\\n",
    "            de aplicar el método diferencial</strong></h1>'))"
   ]
  },
  {
   "cell_type": "code",
   "execution_count": null,
   "metadata": {},
   "outputs": [],
   "source": [
    "incr_ca=np.array([])\n",
    "ca_med=np.array([])\n",
    "\n",
    "for s, t in zip(y, y[1:]):\n",
    "    if t==0:\n",
    "        break\n",
    "    dif=(t - s)\n",
    "    ca_med=np.append(ca_med,(t+s)/2.)\n",
    "    incr_ca =np.append(incr_ca,dif)\n",
    "\n",
    "\n",
    "\n",
    "r=-(incr_ca/incr_t)\n",
    "\n",
    "\n",
    "#Hay que eliminar los ceros para evitar errores al hacer el logaritmo\n",
    "\n",
    "log_r=np.log(r)\n",
    "log_caM=np.log(ca_med)\n",
    "\n",
    "r_squared,coeffs=polyfit(log_caM, log_r,1)\n",
    "\n",
    "n_diferencial=coeffs[0]\n",
    "k_diferencial=math.exp(coeffs[1])\n",
    "mpl.figure('figure2',figsize=FigureSize)\n",
    "\n",
    "\n",
    "mpl.plot(log_caM,log_r, 'ro',label = 'Datos Experimentales')\n",
    "\n",
    "estYVals = np.polyval(coeffs, log_caM)\n",
    "mpl.plot(log_caM,estYVals, 'k-', linewidth = 1,label = '$\\mathrm{R^2}$ = ' + str(round(r_squared, 3))\n",
    "                                                   + ' Pendiente: ' + str(round(coeffs[0], 3))\n",
    "                                                       + ' Ordenada: ' + str(round(coeffs[1], 3)))\n",
    "mpl.xlabel('ln(Ca Medio),  [ ]')\n",
    "mpl.ylabel('ln(r), [ ] ')\n",
    "mpl.legend(loc = 'best')\n",
    "\n",
    "\n",
    "mpl.show()\n",
    "\n",
    "display(HTML('<h1 style=\"color:#000000\"><strong>Avanzar para mostrar los resultados de aplicar el método integral </br>\\\n",
    "             empleando los parámetros cinéticos obtenidos anteriormente mediante el diferencial </strong></h1>'))"
   ]
  },
  {
   "cell_type": "code",
   "execution_count": null,
   "metadata": {},
   "outputs": [],
   "source": [
    "x1=np.delete(x,[0])\n",
    "if  0.98<=n_diferencial<=1.03:\n",
    "    y1=orden_1(y[0],x,k_diferencial)\n",
    "else:\n",
    "    y1 = orden_n(y[0], x1,-n_diferencial,k_diferencial)\n",
    "\n",
    "#print (x,'\\n \\n',x1, '\\n \\n',y1,'\\n \\n',y)\n",
    "\n",
    "\n",
    "\n",
    "mpl.figure('figure3',figsize=FigureSize)\n",
    "\n",
    "mpl.plot(x,y, 'ro',label = 'Datos Experimentales a T: '+str(round(T,1)))\n",
    "mpl.plot(x,y1, linestyle='solid', linewidth=1, color='black',label = 'Datos predicthos a n=: '+str(round(n_diferencial,2)))\n",
    "mpl.xlabel('tiempo,  [min]')\n",
    "mpl.ylabel('Concentración de A, [mol/L] ')\n",
    "mpl.legend(loc = 'best')\n",
    "mpl.show()\n",
    "\n",
    "\n",
    "\n",
    "mse=sum((y-y1)**2)\n",
    "print ('MSE: ',mse)\n",
    "\n",
    "display(HTML('<h1 style=\"color:#000000\"><strong>Avanzar para ajustar los datos experimentales a una ecuación dependiendo\\\n",
    "de si:</strong></h1>'))\n",
    "display(Math(r'n=1 \\textrm{ o }  n\\neq 1'))\n"
   ]
  },
  {
   "cell_type": "code",
   "execution_count": null,
   "metadata": {
    "scrolled": false
   },
   "outputs": [],
   "source": [
    "orden_reaccion=input(\"¿n=1?(s/n): \")\n",
    "\n",
    "if orden_reaccion==s:\n",
    "    x0 = np.array(np.log(k)) # Valores iniciales de los parámetros\n",
    "    resultados_optimizacion = optimize.least_squares(integral_1, x0, args=(x, y, y[0]))\n",
    "else:\n",
    "    # Valores iniciales de los parámetros\n",
    "    x0 = np.array([np.log(n), np.log(k)])\n",
    "    resultados_optimizacion = optimize.least_squares(integral_distinto1, x0, args=(x, y, y[0]))\n",
    "\n",
    "\n",
    "parametros_cal=resultados_optimizacion.x\n",
    "\n",
    "#print (resultados_optimizacion.status, resultados_optimizacion.success)\n",
    "\n",
    "if orden_reaccion==s:\n",
    "    y1_integral=y[0] * np.exp(-np.exp(parametros_cal[0]) * x)\n",
    "else:\n",
    "    y1_integral = np.exp((1 / (parametros_cal[0] + 1)) * np.log(-(parametros_cal[0] + 1) \\\n",
    "                                            * np.exp(parametros_cal[1]) * x + y[0] ** (parametros_cal[0] + 1)))\n",
    "\n",
    "mpl.figure('figure4',figsize=FigureSize)\n",
    "mpl.plot(x,y, 'ro',label = 'Datos Experimentales a T: '+str(round(T,1)))\n",
    "mpl.plot(x,y1_integral, linestyle='solid', linewidth=1, color='black',label = 'Datos predichos')\n",
    "mpl.xlabel('tiempo,  [min]')\n",
    "mpl.ylabel('Concentración de A, [mol/L] ')\n",
    "mpl.legend(loc = 'best')\n",
    "\n",
    "mpl.show()\n",
    "\n",
    "\n",
    "\n",
    "if orden_reaccion==s:\n",
    "    print ('Resultados optimización: Ln k:','%.3f' % resultados_optimizacion.x[0])\n",
    "else:\n",
    "    n_optimizacion=-resultados_optimizacion.x[0]\n",
    "    print ('Resultados optimización: Ln k:','%.3f' % resultados_optimizacion.x[1],' n: ', '%.2f' % n_optimizacion)                                                              \n",
    "mse=sum(resultados_optimizacion.fun**2)\n",
    "print ('MSE: ',mse)\n"
   ]
  },
  {
   "cell_type": "code",
   "execution_count": null,
   "metadata": {},
   "outputs": [],
   "source": [
    "\n",
    "display(HTML('<h3 style=\"color:#000000\"><strong>Valores empleados para generar los datos: valores \"reales\"</strong></h3>'))\n",
    "print (\"Ln k: \",'%.3f' % math.log(k), \" n: \", '%.2f' % n)"
   ]
  },
  {
   "cell_type": "code",
   "execution_count": null,
   "metadata": {},
   "outputs": [],
   "source": [
    "display(HTML('''\n",
    "\n",
    "<footer id=\"attribution\" style=\"float:right; color:#999; background:#fff;\">\n",
    "Programado con Jupyter Notebook en Python 3.6. </footer>'''))"
   ]
  }
 ],
 "metadata": {
  "anaconda-cloud": {},
  "celltoolbar": "Raw Cell Format",
  "kernelspec": {
   "display_name": "Python 3",
   "language": "python",
   "name": "python3"
  },
  "language_info": {
   "codemirror_mode": {
    "name": "ipython",
    "version": 3
   },
   "file_extension": ".py",
   "mimetype": "text/x-python",
   "name": "python",
   "nbconvert_exporter": "python",
   "pygments_lexer": "ipython3",
   "version": "3.6.5"
  },
  "toc": {
   "colors": {
    "hover_highlight": "#DAA520",
    "navigate_num": "#000000",
    "navigate_text": "#333333",
    "running_highlight": "#FF0000",
    "selected_highlight": "#FFD700",
    "sidebar_border": "#EEEEEE",
    "wrapper_background": "#FFFFFF"
   },
   "moveMenuLeft": true,
   "nav_menu": {
    "height": "81px",
    "width": "252px"
   },
   "navigate_menu": true,
   "number_sections": true,
   "sideBar": true,
   "threshold": 4,
   "toc_cell": false,
   "toc_section_display": "block",
   "toc_window_display": false,
   "widenNotebook": false
  }
 },
 "nbformat": 4,
 "nbformat_minor": 1
}
