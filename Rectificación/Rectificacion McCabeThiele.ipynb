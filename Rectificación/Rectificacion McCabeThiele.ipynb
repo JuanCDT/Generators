{
 "cells": [
  {
   "attachments": {},
   "cell_type": "markdown",
   "metadata": {},
   "source": [
    "# Distillation\n",
    "## Determination of the number of number of equilibrium stages using the McCabe-Thiele method.\n",
    "### A rectification column is to be designed for a flow rate A (kg/h) of a mixture of two compounds, a and b: wa is the mass fraction of a in the feed. The distillate must have a wd content  of compound a, and a residue with a wr content of a. All percentages are by mass. \n",
    "\n",
    "### The students have to determine the number of equilibrium stages necessary to carry out the separation, as well as the number of minimum equilibrium stages with which the separation could be accomplished."
   ]
  },
  {
   "cell_type": "code",
   "execution_count": 1,
   "metadata": {},
   "outputs": [
    {
     "data": {
      "text/html": [
       "<script>\n",
       "  function code_toggle() {\n",
       "    if (code_shown){\n",
       "      $('div.input').hide('500');\n",
       "      $('#toggleButton').val('Show code')\n",
       "    } else {\n",
       "      $('div.input').show('500');\n",
       "      $('#toggleButton').val('Hide code')\n",
       "    }\n",
       "    code_shown = !code_shown\n",
       "  }\n",
       "\n",
       "  $( document ).ready(function(){\n",
       "    code_shown=false;\n",
       "    $('div.input').hide()\n",
       "  });\n",
       "</script>\n",
       "<form action=\"javascript:code_toggle()\"><input type=\"submit\" id=\"toggleButton\" value=\"Show code\"></form>"
      ],
      "text/plain": [
       "<IPython.core.display.HTML object>"
      ]
     },
     "metadata": {},
     "output_type": "display_data"
    },
    {
     "data": {
      "text/html": [
       "<h1 style=\"color:#000000\"><strong>Initial data:</strong></h1>"
      ],
      "text/plain": [
       "<IPython.core.display.HTML object>"
      ]
     },
     "metadata": {},
     "output_type": "display_data"
    },
    {
     "data": {
      "text/html": [
       "<div>\n",
       "<style scoped>\n",
       "    .dataframe tbody tr th:only-of-type {\n",
       "        vertical-align: middle;\n",
       "    }\n",
       "\n",
       "    .dataframe tbody tr th {\n",
       "        vertical-align: top;\n",
       "    }\n",
       "\n",
       "    .dataframe thead th {\n",
       "        text-align: right;\n",
       "    }\n",
       "</style>\n",
       "<table border=\"1\" class=\"dataframe\">\n",
       "  <thead>\n",
       "    <tr style=\"text-align: right;\">\n",
       "      <th></th>\n",
       "      <th>A (kg/h)</th>\n",
       "      <th>Wa</th>\n",
       "      <th>Wd</th>\n",
       "      <th>wr</th>\n",
       "      <th>Reflux ratio</th>\n",
       "      <th>q</th>\n",
       "      <th>Relative volatility</th>\n",
       "      <th>Mw a (g/mol)</th>\n",
       "      <th>Mw b (g/mol)</th>\n",
       "    </tr>\n",
       "  </thead>\n",
       "  <tbody>\n",
       "    <tr>\n",
       "      <th>Datos</th>\n",
       "      <td>485</td>\n",
       "      <td>0.692</td>\n",
       "      <td>0.786</td>\n",
       "      <td>0.08</td>\n",
       "      <td>8.4</td>\n",
       "      <td>0</td>\n",
       "      <td>2.69</td>\n",
       "      <td>90</td>\n",
       "      <td>78</td>\n",
       "    </tr>\n",
       "  </tbody>\n",
       "</table>\n",
       "</div>"
      ],
      "text/plain": [
       "       A (kg/h)    Wa     Wd    wr   Reflux ratio   q   Relative volatility  \\\n",
       "Datos       485  0.692  0.786  0.08           8.4    0                 2.69   \n",
       "\n",
       "       Mw a (g/mol)  Mw b (g/mol)  \n",
       "Datos            90            78  "
      ]
     },
     "metadata": {},
     "output_type": "display_data"
    },
    {
     "data": {
      "text/html": [
       "<p style=\"color:000000\"><strong>Equilibrium curve</strong>: the equilibrium curve of the mixture is given by the relative volatility of the two compounds by the following expression:</p>"
      ],
      "text/plain": [
       "<IPython.core.display.HTML object>"
      ]
     },
     "metadata": {},
     "output_type": "display_data"
    },
    {
     "data": {
      "text/latex": [
       "$\\displaystyle y=\\frac{ \\alpha \\cdot x}{1+x\\cdot \\left( \\alpha -1 \\right)}$"
      ],
      "text/plain": [
       "<IPython.core.display.Math object>"
      ]
     },
     "metadata": {},
     "output_type": "display_data"
    }
   ],
   "source": [
    "\n",
    "#%matplotlib notebook\n",
    "\n",
    "%matplotlib inline\n",
    "import seaborn\n",
    "import numpy as np\n",
    "import matplotlib.pyplot as mpl\n",
    "from scipy import optimize\n",
    "import random\n",
    "import math\n",
    "import pandas as pd\n",
    "import IPython.core.display as di\n",
    "pd.set_option('display.notebook_repr_html', True)\n",
    "import notebook\n",
    "from IPython.display import clear_output, display, HTML, Image,Math, Latex\n",
    "from IPython.external import mathjax\n",
    "FigureSize=(10,10) # Para matplotlib inline\n",
    "#FigureSize=(10.5,4.5) # Para matplotlib notebook\n",
    "\n",
    "\n",
    "def equilib(x,y,alfa):\n",
    "    f=y-alfa*x/(1+(alfa-1)*x)\n",
    "    return f\n",
    "\n",
    "def InterseccionRalimentoCurvaEquilibrio(x,q,xa,alfa):\n",
    "    value=(alfa*x/(1+(alfa-1)*x))- RectaAlimentacion(x,q,xa)\n",
    "    return value\n",
    "    \n",
    "    \n",
    "def RectaAlimentacion(x,q,xa):\n",
    "    y=-q/(1-q)*x+xa/(1-q)\n",
    "    return y\n",
    "\n",
    "def RazonReflujoMinima(q,xa,alfa,xd_a):\n",
    "    # Cálculo de la razón de reflujo mínima para alcanzar los requisitos\n",
    "    if (q!=1 and q!=0):\n",
    "        x_AlEq=optimize.fsolve(InterseccionRalimentoCurvaEquilibrio,\\\n",
    "                               [0.5],args=(q,xa,alfa)) \n",
    "        x_AlEq=round(float(x_AlEq),3)\n",
    "        y_AlEq=RectaAlimentacion(x_AlEq,q,xa)\n",
    "        y_AlEq=round(float(y_AlEq),3)\n",
    "    elif q==0:\n",
    "        y_AlEq=xa\n",
    "        y_AlEq=round(float(y_AlEq),3)\n",
    "        x_AlEq=optimize.fsolve(equilib,[0.5],args=(y_AlEq,alfa))\n",
    "        x_AlEq=round(float(x_AlEq),3)\n",
    "    elif q==1:\n",
    "        x_AlEq=xa\n",
    "        x_AlEq=round(float(x_AlEq),3)\n",
    "        y_AlEq=alfa*x_AlEq/(1+(alfa-1)*x_AlEq)\n",
    "        y_AlEq=round(float(y_AlEq),3)\n",
    "        \n",
    "    AR=(xd_a-y_AlEq)/(xd_a-x_AlEq)\n",
    "    RazonMinima=AR/(1-AR)\n",
    "    \n",
    "    return RazonMinima\n",
    "    \n",
    "\n",
    "def RectaOperativaEnriquecimiento(x,Ln,D,xd):\n",
    "    y=Ln/(Ln+D)*x+(D*xd)/(Ln+D)\n",
    "    return y\n",
    "\n",
    "\n",
    "def RectaOperativaAgotamiento(x,Ln,D,xd,xa,A,q):\n",
    "    y=((Ln+q*A)/(Ln+D-(1-q)*A))*x+(D*xd-A*xa)/(Ln+D-(1-q)*A)\n",
    "    return y\n",
    "    \n",
    "\n",
    "def InterseccionRO(x,Ln,D,xd,xa,A,q):\n",
    "    value=RectaOperativaEnriquecimiento(x,Ln,D,xd)-\\\n",
    "           RectaOperativaAgotamiento(x,Ln,D,xd,xa,A,q)\n",
    "    return value\n",
    "\n",
    "def Balances_Materia(incognitas,A,xa,xd,xr):\n",
    "    D,R=incognitas\n",
    "    \n",
    "    values=[D+R-A]\n",
    "    values.append(D*xd+R*xr-A*xa)\n",
    "    \n",
    "    return values\n",
    "    \n",
    "\n",
    "def generador_valores():  # generación de PM de los compuestos\n",
    "\n",
    "    PM_c1=random.randint(50.,100.)\n",
    "    PM_c2=random.randint(50.,100.)\n",
    "    A=round((random.randint(10000,20000)/24))\n",
    "    q_azar=random.uniform(-2,2)\n",
    "    q=round(random.choice([0,1,q_azar]),2)\n",
    "    wa=round(random.random(),3)\n",
    "    wd=round(random.uniform(0.75,0.95),3)\n",
    "    wr=round(random.uniform(0.02,0.15),3)\n",
    "    alfa = round(random.uniform(1.5,3.5),2)\n",
    "    \n",
    "    return PM_c1, PM_c2,A,q,wa, wd,wr,alfa\n",
    "\n",
    "def composicionesMolaresyCaudal(caudalMasico,wa,PM_c1,PM_c2):\n",
    "    \n",
    "    caudalMolar=round(((caudalMasico*wa)/PM_c1+(caudalMasico*(1-wa))/PM_c2),3)\n",
    "    xa=round(((caudalMasico*wa)/PM_c1/caudalMolar),3)\n",
    "    xb=round((1-xa),3)\n",
    "    \n",
    "    return caudalMolar,xa,xb\n",
    "    \n",
    "def composicionesMolares(wa,PM_c1,PM_c2):\n",
    "\n",
    "    xa=round(((wa/PM_c1)/(wa/PM_c1+(1-wa)/PM_c2)),3)\n",
    "    xb=round((1-xa),3)\n",
    "    \n",
    "    return xa,xb\n",
    "\n",
    "\n",
    "# q Fracción de vapor en la alimentación\n",
    "# PM_c1, PM_c2 Pesos moleculares de los compuestos\n",
    "# A Caudal másico alimentación (kg/día)\n",
    "# wd Fracción  másica del componente ligero en  el destilado\n",
    "# wr Fracción  másica del componente ligero en la corriente residuo\n",
    "# wa Fracción  másica del componente ligero en la alimentación\n",
    "# R Razón de recirculación\n",
    "# Alfa es la volatilidad relativa\n",
    "\n",
    "while True:\n",
    "    PM_c1, PM_c2,A,q,wa, wd,wr, alfa=generador_valores()\n",
    "\n",
    "    caudalMolarA,xa,xb=composicionesMolaresyCaudal(A,wa,PM_c1,PM_c2)               \n",
    "    xd_a,xd_b=composicionesMolares(wd,PM_c1,PM_c2)\n",
    "    xr_a,xr_b=composicionesMolares(wr,PM_c1,PM_c2)\n",
    "\n",
    "    D,R=optimize.fsolve(Balances_Materia,[5,5],args=(caudalMolarA,xa,xd_a,xr_a))\n",
    "    D=round(float(D),3)\n",
    "    R=round(float(R),3)\n",
    "    if (D>0 and R>0):\n",
    "        break\n",
    "        \n",
    "    \n",
    "# Fracción de vapor en la alimentación\n",
    "# q = 1\n",
    "# PM_c1,PM_c2=78,92\n",
    "# A=15000/(24)\n",
    "# wd = 0.97 # Fracción  másica del componente ligero en  el destilado\n",
    "# wr = 0.02 # Fracción  másica del componente ligero en la corriente residuo\n",
    "# wa = 0.4  # Fracción  másica del componente ligero en la alimentación\n",
    "# alfa = 2.45\n",
    "# RazonReflujo = 1.5\n",
    "\n",
    "\n",
    "\n",
    "\n",
    "\n",
    "\n",
    "\n",
    "RazonMinima=RazonReflujoMinima(q,xa,alfa,xd_a)\n",
    "# Razón de reflujo de la columna\n",
    "while True:\n",
    "    RazonReflujo=round(random.gauss(6, 3.5),1)\n",
    "    if RazonReflujo>=1.1*RazonMinima:\n",
    "        break\n",
    "\n",
    "variablesConocidasNombres=['A (kg/h)',' Wa ',' Wd ',' wr ','Reflux ratio',' q ', 'Relative volatility',\\\n",
    "                          'Mw a (g/mol)','Mw b (g/mol)']\n",
    "ValoresMostrados=[A,wa, wd,wr,RazonReflujo, q,alfa,PM_c1, PM_c2]\n",
    "\n",
    "# Determinación de los puntos de la curva de equilibro\n",
    "ye=[]\n",
    "xe=[]\n",
    "for i in range(21):\n",
    "    y = round(0.05 * i,3)\n",
    "    ye.append(y)\n",
    "    xe_i=optimize.fsolve(equilib,[0.5],args=(y,alfa)) \n",
    "    xe.append(round(float(xe_i[0]),3))\n",
    "    \n",
    "    \n",
    "\n",
    "display(HTML('''<script>\n",
    "  function code_toggle() {\n",
    "    if (code_shown){\n",
    "      $('div.input').hide('500');\n",
    "      $('#toggleButton').val('Show code')\n",
    "    } else {\n",
    "      $('div.input').show('500');\n",
    "      $('#toggleButton').val('Hide code')\n",
    "    }\n",
    "    code_shown = !code_shown\n",
    "  }\n",
    "\n",
    "  $( document ).ready(function(){\n",
    "    code_shown=false;\n",
    "    $('div.input').hide()\n",
    "  });\n",
    "</script>\n",
    "<form action=\"javascript:code_toggle()\"><input type=\"submit\" id=\"toggleButton\" value=\"Show code\"></form>'''))\n",
    "\n",
    "\n",
    "\n",
    "\n",
    "#display(Image(filename='./Imagenes/Esquema_Columna.jpg', width=350));\n",
    "\n",
    "display(HTML('<h1 style=\"color:#000000\"><strong>Initial data:</strong></h1>'))\n",
    "\n",
    "data = dict(zip(variablesConocidasNombres, ValoresMostrados))\n",
    "values = pd.DataFrame(data,index=['Datos'], columns=variablesConocidasNombres)\n",
    "display(values)\n",
    "\n",
    "\n",
    "display(HTML('<p style=\"color:000000\"><strong>Equilibrium curve</strong>: the equilibrium curve of the mixture\\\n",
    " is given by the relative volatility of the two compounds by the following expression:</p>'))\n",
    "display(Math(r'y=\\frac{ \\alpha \\cdot x}{1+x\\cdot \\left( \\alpha -1 \\right)}'))\n"
   ]
  },
  {
   "cell_type": "code",
   "execution_count": 2,
   "metadata": {},
   "outputs": [
    {
     "data": {
      "text/html": [
       "<h1 style=\"color:#000000\"><strong>First, the equilibrium curve is drawn:</strong></h1>"
      ],
      "text/plain": [
       "<IPython.core.display.HTML object>"
      ]
     },
     "metadata": {},
     "output_type": "display_data"
    },
    {
     "data": {
      "image/png": "[encoded data removed]",
      "text/plain": [
       "<Figure size 432x288 with 1 Axes>"
      ]
     },
     "metadata": {
      "needs_background": "light"
     },
     "output_type": "display_data"
    },
    {
     "data": {
      "text/html": [
       "<h3  style=\"color:#000000\"><strong>And the molar flow rates of the feed, distillate and bottons are calculated, as well as the molar compositions of the MVC in each of these streams:</strong></h3>"
      ],
      "text/plain": [
       "<IPython.core.display.HTML object>"
      ]
     },
     "metadata": {},
     "output_type": "display_data"
    },
    {
     "data": {
      "text/html": [
       "<div>\n",
       "<style scoped>\n",
       "    .dataframe tbody tr th:only-of-type {\n",
       "        vertical-align: middle;\n",
       "    }\n",
       "\n",
       "    .dataframe tbody tr th {\n",
       "        vertical-align: top;\n",
       "    }\n",
       "\n",
       "    .dataframe thead th {\n",
       "        text-align: right;\n",
       "    }\n",
       "</style>\n",
       "<table border=\"1\" class=\"dataframe\">\n",
       "  <thead>\n",
       "    <tr style=\"text-align: right;\">\n",
       "      <th></th>\n",
       "      <th>A (kmol/h)</th>\n",
       "      <th>D (kmol/h)</th>\n",
       "      <th>R (kmol/h)</th>\n",
       "      <th>xa</th>\n",
       "      <th>xd</th>\n",
       "      <th>xr</th>\n",
       "    </tr>\n",
       "  </thead>\n",
       "  <tbody>\n",
       "    <tr>\n",
       "      <th>Datos</th>\n",
       "      <td>5.644</td>\n",
       "      <td>4.827</td>\n",
       "      <td>0.817</td>\n",
       "      <td>0.661</td>\n",
       "      <td>0.761</td>\n",
       "      <td>0.07</td>\n",
       "    </tr>\n",
       "  </tbody>\n",
       "</table>\n",
       "</div>"
      ],
      "text/plain": [
       "       A (kmol/h)  D (kmol/h)  R (kmol/h)    xa     xd    xr \n",
       "Datos       5.644       4.827       0.817  0.661  0.761  0.07"
      ]
     },
     "metadata": {},
     "output_type": "display_data"
    }
   ],
   "source": [
    "display(HTML('<h1 style=\"color:#000000\"><strong>First, the equilibrium curve is drawn:</strong></h1>'))\n",
    "\n",
    "mpl.plot(xe,ye, 'g-',label = 'Equilibium curve')\n",
    "mpl.plot(ye,ye, 'k-')\n",
    "mpl.xlabel('Mole fraction in the liquid phase (xe)')\n",
    "mpl.ylabel('Mole fraction in the vapor phase (ye)')\n",
    "\n",
    "mpl.grid(b=True, which='both', color='0.65',linestyle='-')\n",
    "mpl.xlim(0,1)\n",
    "mpl.ylim(0,1)\n",
    "\n",
    "    \n",
    "mpl.legend(loc = 'best')\n",
    "mpl.show()\n",
    "\n",
    "display(HTML('<h3  style=\"color:#000000\"><strong>And the molar flow rates of the feed, \\\n",
    "distillate and bottons are calculated, as well as the molar compositions of the MVC\\\n",
    " in each of these streams:</strong></h3>'))\n",
    "\n",
    "CaudalesComposicionesMolaresNombres=['A (kmol/h)','D (kmol/h)','R (kmol/h)', ' xa ',' xd ',' xr ']\n",
    "CaudalesComposicionesMolaresValores=[caudalMolarA,D,R,xa,xd_a,xr_a]\n",
    "\n",
    "data1 = dict(zip(CaudalesComposicionesMolaresNombres, CaudalesComposicionesMolaresValores))\n",
    "values1 = pd.DataFrame(data1,index=['Datos'], columns=CaudalesComposicionesMolaresNombres)\n",
    "display(values1)\n",
    "\n",
    "\n"
   ]
  },
  {
   "cell_type": "code",
   "execution_count": 3,
   "metadata": {},
   "outputs": [
    {
     "data": {
      "text/html": [
       "<h1 style=\"color:#000000\"><strong>The value of the slopes and intercepts correspondingto the rectifying operating line (ROL) and stripping operating line (SOL) are calculated.</strong></h1>"
      ],
      "text/plain": [
       "<IPython.core.display.HTML object>"
      ]
     },
     "metadata": {},
     "output_type": "display_data"
    },
    {
     "data": {
      "text/latex": [
       "$\\displaystyle Slope=\\text{Reflux ratio}\\cdot D$"
      ],
      "text/plain": [
       "<IPython.core.display.Math object>"
      ]
     },
     "metadata": {},
     "output_type": "display_data"
    },
    {
     "data": {
      "text/html": [
       "<h3 style=\"color:#000000\"><strong>Rectifying operating line (ROL):</strong></h3>"
      ],
      "text/plain": [
       "<IPython.core.display.HTML object>"
      ]
     },
     "metadata": {},
     "output_type": "display_data"
    },
    {
     "data": {
      "text/latex": [
       "$\\displaystyle Slope=\\frac{ L_{n}}{L_{n}+D}$"
      ],
      "text/plain": [
       "<IPython.core.display.Math object>"
      ]
     },
     "metadata": {},
     "output_type": "display_data"
    },
    {
     "data": {
      "text/latex": [
       "$\\displaystyle \\text{Intercept}=\\frac{ D \\cdot x_{d} }{L_{n}+D}$"
      ],
      "text/plain": [
       "<IPython.core.display.Math object>"
      ]
     },
     "metadata": {},
     "output_type": "display_data"
    },
    {
     "data": {
      "text/html": [
       "<h3  style=\"color:#000000\"><strong>Stripping operating line (SOL):</strong></h3>"
      ],
      "text/plain": [
       "<IPython.core.display.HTML object>"
      ]
     },
     "metadata": {},
     "output_type": "display_data"
    },
    {
     "data": {
      "text/latex": [
       "$\\displaystyle Slope=\\frac{  L_{n}+q \\cdot A }{L_{n}+D-\\left(1-q\\right) \\cdot A }$"
      ],
      "text/plain": [
       "<IPython.core.display.Math object>"
      ]
     },
     "metadata": {},
     "output_type": "display_data"
    },
    {
     "data": {
      "text/latex": [
       "$\\displaystyle \\text{Intercept}=\\frac{  D\\cdot x_d - A\\cdot x_a}{L_{n}+D-\\left(1-q\\right) \\cdot A }$"
      ],
      "text/plain": [
       "<IPython.core.display.Math object>"
      ]
     },
     "metadata": {},
     "output_type": "display_data"
    },
    {
     "data": {
      "text/html": [
       "<div>\n",
       "<style scoped>\n",
       "    .dataframe tbody tr th:only-of-type {\n",
       "        vertical-align: middle;\n",
       "    }\n",
       "\n",
       "    .dataframe tbody tr th {\n",
       "        vertical-align: top;\n",
       "    }\n",
       "\n",
       "    .dataframe thead th {\n",
       "        text-align: right;\n",
       "    }\n",
       "</style>\n",
       "<table border=\"1\" class=\"dataframe\">\n",
       "  <thead>\n",
       "    <tr style=\"text-align: right;\">\n",
       "      <th></th>\n",
       "      <th>Ln</th>\n",
       "      <th>Slope (ROL)</th>\n",
       "      <th>Intercept (ROL)</th>\n",
       "      <th>Slope (SOL)</th>\n",
       "      <th>Intercept (SOL)</th>\n",
       "    </tr>\n",
       "  </thead>\n",
       "  <tbody>\n",
       "    <tr>\n",
       "      <th>Valores</th>\n",
       "      <td>40.547</td>\n",
       "      <td>0.894</td>\n",
       "      <td>0.081</td>\n",
       "      <td>-0.092</td>\n",
       "      <td>0.721</td>\n",
       "    </tr>\n",
       "  </tbody>\n",
       "</table>\n",
       "</div>"
      ],
      "text/plain": [
       "            Ln   Slope (ROL)  Intercept (ROL)  Slope (SOL)  Intercept (SOL)\n",
       "Valores  40.547        0.894            0.081       -0.092            0.721"
      ]
     },
     "metadata": {},
     "output_type": "display_data"
    },
    {
     "data": {
      "text/html": [
       "<h3 style=\"color:#000000\"><strong>And, finally, both lines and their intersection point are drawn.The point in common of both  lines is also a point of the feed line. The second point requiered to draw the feedline is also known: the molar composition in the feed of the MVC.</strong></h3>"
      ],
      "text/plain": [
       "<IPython.core.display.HTML object>"
      ]
     },
     "metadata": {},
     "output_type": "display_data"
    },
    {
     "data": {
      "image/png": "[encoded data removed]",
      "text/plain": [
       "<Figure size 432x288 with 1 Axes>"
      ]
     },
     "metadata": {
      "needs_background": "light"
     },
     "output_type": "display_data"
    }
   ],
   "source": [
    "display(HTML('<h1 style=\"color:#000000\"><strong>The value of the slopes and intercepts corresponding\\\n",
    "to the rectifying operating line (ROL) and stripping operating line (SOL)\\\n",
    " are calculated.</strong></h1>'))\n",
    "\n",
    "\n",
    "Ln=round(RazonReflujo*D,3)\n",
    "PendienteROE=round((Ln/(Ln+D)),3)\n",
    "OrdenadaROE=round(((D*xd_a)/(Ln+D)),3)\n",
    "PendienteROA=round(((Ln+q*A)/(Ln+D-(1-q)*A)),3)\n",
    "OrdenadaROA=round(((D*xd_a-A*xa)/(Ln+D-(1-q)*A)),3)\n",
    "\n",
    "display(Math(r'Slope=\\text{Reflux ratio}\\cdot D'))\n",
    "\n",
    "display(HTML('<h3 style=\"color:#000000\"><strong>Rectifying operating line (ROL):</strong></h3>'))\n",
    "display(Math(r'Slope=\\frac{ L_{n}}{L_{n}+D}'))\n",
    "display(Math(r'\\text{Intercept}=\\frac{ D \\cdot x_{d} }{L_{n}+D}'))\n",
    "             \n",
    "display(HTML('<h3  style=\"color:#000000\"><strong>Stripping operating line (SOL):</strong></h3>'))\n",
    "display(Math(r'Slope=\\frac{  L_{n}+q \\cdot A }{L_{n}+D-\\left(1-q\\right) \\cdot A }'))\n",
    "display(Math(r'\\text{Intercept}=\\frac{  D\\cdot x_d - A\\cdot x_a}{L_{n}+D-\\left(1-q\\right) \\cdot A }'))\n",
    "\n",
    "\n",
    "RectasNombres=[' Ln ','Slope (ROL)','Intercept (ROL)','Slope (SOL)','Intercept (SOL)']\n",
    "RectasValores=[Ln,PendienteROE,OrdenadaROE,PendienteROA,OrdenadaROA]\n",
    "\n",
    "data2 = dict(zip(RectasNombres, RectasValores))\n",
    "values2 = pd.DataFrame(data2,index=['Valores'], columns=RectasNombres)\n",
    "#values2.set_index('tiempo (min)',inplace=True)\n",
    "display(values2)\n",
    "\n",
    "display(HTML('<h3 style=\"color:#000000\"><strong>And, finally, both lines and their intersection point are drawn.\\\n",
    "The point in common of both  lines is also a point of the feed line. The second point requiered to draw the feed\\\n",
    "line is also known: the molar composition in the feed of the MVC.</strong></h3>'))\n",
    "fig2=mpl.figure()\n",
    "\n",
    "mpl.plot(xe,ye, 'g-',label = 'Vapor-liquid equilibrium curve')\n",
    "mpl.plot(ye,ye, 'k-')\n",
    "mpl.xlabel('Mole fraction in the liquid phase (xe)')\n",
    "mpl.ylabel('Mole fraction in the vapor phase (ye)')\n",
    "\n",
    "mpl.grid(b=True, which='both', color='0.65',linestyle='-')\n",
    "mpl.xlim(0,1)\n",
    "mpl.ylim(0,1)\n",
    "\n",
    "x_interseccion=optimize.fsolve(InterseccionRO,[0.5],args=(Ln,D,xd_a,xa,A,q))\n",
    "\n",
    "x_interseccion=round(float(x_interseccion),3)\n",
    "y_interseccion=round(RectaOperativaEnriquecimiento(x_interseccion,Ln,D,xd_a),3)\n",
    "\n",
    "xAgotamiento=[xr_a,x_interseccion]\n",
    "yAgotamiento=[xr_a,y_interseccion]\n",
    "mpl.plot(xAgotamiento,yAgotamiento, 'r-',label = 'SOL')\n",
    "\n",
    "xEnriquecimiento=[x_interseccion,xd_a]\n",
    "yEnriquecimiento=[y_interseccion,xd_a]\n",
    "mpl.plot(xEnriquecimiento,yEnriquecimiento, 'b-',label = 'ROL')\n",
    "mpl.plot([xa,x_interseccion],[xa,y_interseccion],'k-',label = 'q line')\n",
    "\n",
    "    \n",
    "mpl.legend(loc = 'best')\n",
    "mpl.show()\n"
   ]
  },
  {
   "cell_type": "code",
   "execution_count": 4,
   "metadata": {},
   "outputs": [
    {
     "data": {
      "text/html": [
       "<h1 style=\"color:#000000\"><strong>Finally, the equilibrium stages are drawn.</strong></h1>"
      ],
      "text/plain": [
       "<IPython.core.display.HTML object>"
      ]
     },
     "metadata": {},
     "output_type": "display_data"
    },
    {
     "data": {
      "image/png": "[encoded data removed]",
      "text/plain": [
       "<Figure size 432x288 with 1 Axes>"
      ]
     },
     "metadata": {
      "needs_background": "light"
     },
     "output_type": "display_data"
    },
    {
     "data": {
      "text/html": [
       "<h1 style=\"color:#000000\"><strong>The number of equilibrium stages is:</strong></h1>"
      ],
      "text/plain": [
       "<IPython.core.display.HTML object>"
      ]
     },
     "metadata": {},
     "output_type": "display_data"
    },
    {
     "data": {
      "text/html": [
       "<div>\n",
       "<style scoped>\n",
       "    .dataframe tbody tr th:only-of-type {\n",
       "        vertical-align: middle;\n",
       "    }\n",
       "\n",
       "    .dataframe tbody tr th {\n",
       "        vertical-align: top;\n",
       "    }\n",
       "\n",
       "    .dataframe thead th {\n",
       "        text-align: right;\n",
       "    }\n",
       "</style>\n",
       "<table border=\"1\" class=\"dataframe\">\n",
       "  <thead>\n",
       "    <tr style=\"text-align: right;\">\n",
       "      <th></th>\n",
       "      <th>Rectifying section</th>\n",
       "      <th>Stripping section</th>\n",
       "      <th>Total</th>\n",
       "      <th>Feed tray</th>\n",
       "    </tr>\n",
       "  </thead>\n",
       "  <tbody>\n",
       "    <tr>\n",
       "      <th>Resultados</th>\n",
       "      <td>1</td>\n",
       "      <td>3</td>\n",
       "      <td>4</td>\n",
       "      <td>2</td>\n",
       "    </tr>\n",
       "  </tbody>\n",
       "</table>\n",
       "</div>"
      ],
      "text/plain": [
       "            Rectifying section  Stripping section  Total  Feed tray\n",
       "Resultados                   1                  3      4          2"
      ]
     },
     "metadata": {},
     "output_type": "display_data"
    }
   ],
   "source": [
    "display(HTML('<h1 style=\"color:#000000\"><strong>Finally, the equilibrium stages are drawn.</strong></h1>'))\n",
    "\n",
    "\n",
    "fig3=mpl.figure()\n",
    "\n",
    "mpl.plot(xe,ye, 'g-',label = 'Vapor-liquid equilibrium curve')\n",
    "mpl.plot(ye,ye, 'k-')\n",
    "mpl.xlabel('Mole fraction in the liquid phase (xe)')\n",
    "mpl.ylabel('Mole fraction in the vapor phase (ye)')\n",
    "\n",
    "mpl.grid(b=True, which='both', color='0.65',linestyle='-')\n",
    "mpl.xlim(0,1)\n",
    "mpl.ylim(0,1)\n",
    "\n",
    "\n",
    "mpl.plot(xAgotamiento,yAgotamiento, 'r-',label = 'SOL')\n",
    "mpl.plot(xEnriquecimiento,yEnriquecimiento, 'b-',label = 'ROL')\n",
    "mpl.plot([xa,x_interseccion],[xa,y_interseccion],'k-',label = 'q line')\n",
    "\n",
    "\n",
    "\n",
    "numeroEtapasEnriquecimiento=0\n",
    "numeroEtapasAgotamiento=0\n",
    "xDiagonal,yDiagonal=xd_a,xd_a #Valor inicial en la sección de enriquecimiento\n",
    "\n",
    "\n",
    "\n",
    "while True:\n",
    "    xequilibrio=optimize.fsolve(equilib,[0.5],args=(yDiagonal,alfa))  \n",
    "    xequilibrio=float(xequilibrio)\n",
    "    yequilibrio=yDiagonal\n",
    "    mpl.plot([xDiagonal,xequilibrio],[yDiagonal,yequilibrio], 'c-')\n",
    "    numeroEtapasEnriquecimiento+=1\n",
    "    if xequilibrio>x_interseccion:\n",
    "        xDiagonal=xequilibrio\n",
    "        yDiagonal=RectaOperativaEnriquecimiento(xDiagonal,Ln,D,xd_a)\n",
    "        mpl.plot([xequilibrio,xDiagonal],[yequilibrio,yDiagonal], 'c-')\n",
    "    else:\n",
    "        xDiagonal=xequilibrio\n",
    "        yDiagonal=RectaOperativaAgotamiento(xDiagonal,Ln,D,xd_a,xa,caudalMolarA,q)\n",
    "        mpl.plot([xequilibrio,xDiagonal],[yequilibrio,yDiagonal], 'c-')\n",
    "        break\n",
    "\n",
    "while True:\n",
    "    xequilibrio=optimize.fsolve(equilib,[0.5],args=(yDiagonal,alfa))  \n",
    "    xequilibrio=float(xequilibrio)\n",
    "    yequilibrio=yDiagonal\n",
    "    mpl.plot([xDiagonal,xequilibrio],[yDiagonal,yequilibrio], 'c-')\n",
    "    numeroEtapasAgotamiento+=1\n",
    "    if xequilibrio>=xr_a:\n",
    "        xDiagonal=xequilibrio\n",
    "        yDiagonal=RectaOperativaAgotamiento(xDiagonal,Ln,D,xd_a,xa,caudalMolarA,q)\n",
    "        mpl.plot([xequilibrio,xDiagonal],[yequilibrio,yDiagonal], 'c-')\n",
    "    else:\n",
    "        break\n",
    "    \n",
    "mpl.legend(loc = 'best')\n",
    "mpl.show()\n",
    "\n",
    "display(HTML('<h1 style=\"color:#000000\"><strong>The number of equilibrium stages is:</strong></h1>'))\n",
    "\n",
    "\n",
    "numeroPisosTeoricos=numeroEtapasEnriquecimiento+numeroEtapasAgotamiento\n",
    "PisoAlimentacion=numeroEtapasEnriquecimiento+1\n",
    "\n",
    "\n",
    "ResultadosNombres=['Rectifying section','Stripping section',\\\n",
    "                   'Total','Feed tray']\n",
    "ResultadosValores=[numeroEtapasEnriquecimiento,numeroEtapasAgotamiento,numeroPisosTeoricos,PisoAlimentacion]\n",
    "\n",
    "data3 = dict(zip(ResultadosNombres, ResultadosValores))\n",
    "values3 = pd.DataFrame(data3,index=['Resultados'], columns=ResultadosNombres)\n",
    "#values2.set_index('tiempo (min)',inplace=True)\n",
    "display(values3)\n",
    "\n"
   ]
  },
  {
   "cell_type": "code",
   "execution_count": 5,
   "metadata": {},
   "outputs": [
    {
     "data": {
      "text/html": [
       "<h1 style=\"color:#000000\"><strong>The minimum number of equilibrium stages is calculated when both operating lines overlap on the diagonal:</strong></h1>"
      ],
      "text/plain": [
       "<IPython.core.display.HTML object>"
      ]
     },
     "metadata": {},
     "output_type": "display_data"
    },
    {
     "data": {
      "image/png": "[encoded data removed]",
      "text/plain": [
       "<Figure size 432x288 with 1 Axes>"
      ]
     },
     "metadata": {
      "needs_background": "light"
     },
     "output_type": "display_data"
    },
    {
     "data": {
      "text/html": [
       "<h1 style=\"color:#000000\"><strong>The number of equilibrium stages is:</strong></h1>"
      ],
      "text/plain": [
       "<IPython.core.display.HTML object>"
      ]
     },
     "metadata": {},
     "output_type": "display_data"
    },
    {
     "data": {
      "text/html": [
       "<div>\n",
       "<style scoped>\n",
       "    .dataframe tbody tr th:only-of-type {\n",
       "        vertical-align: middle;\n",
       "    }\n",
       "\n",
       "    .dataframe tbody tr th {\n",
       "        vertical-align: top;\n",
       "    }\n",
       "\n",
       "    .dataframe thead th {\n",
       "        text-align: right;\n",
       "    }\n",
       "</style>\n",
       "<table border=\"1\" class=\"dataframe\">\n",
       "  <thead>\n",
       "    <tr style=\"text-align: right;\">\n",
       "      <th></th>\n",
       "      <th>Rectifying section</th>\n",
       "      <th>Stripping section</th>\n",
       "      <th>Total</th>\n",
       "      <th>Feed tray</th>\n",
       "    </tr>\n",
       "  </thead>\n",
       "  <tbody>\n",
       "    <tr>\n",
       "      <th>Resultados</th>\n",
       "      <td>1</td>\n",
       "      <td>3</td>\n",
       "      <td>4</td>\n",
       "      <td>2</td>\n",
       "    </tr>\n",
       "  </tbody>\n",
       "</table>\n",
       "</div>"
      ],
      "text/plain": [
       "            Rectifying section  Stripping section  Total  Feed tray\n",
       "Resultados                   1                  3      4          2"
      ]
     },
     "metadata": {},
     "output_type": "display_data"
    }
   ],
   "source": [
    "display(HTML('<h1 style=\"color:#000000\"><strong>The minimum number of equilibrium stages is calculated\\\n",
    " when both operating lines overlap on the diagonal:</strong></h1>'))\n",
    "\n",
    "RazonReflujo=1000\n",
    "\n",
    "Ln=round(RazonReflujo*D,3)\n",
    "\n",
    "fig4=mpl.figure()\n",
    "\n",
    "mpl.plot(xe,ye, 'g-',label = 'Vapor-liquid equilibrium curve')\n",
    "mpl.plot(ye,ye, 'k-')\n",
    "mpl.xlabel('Mole fraction in the liquid phase (xe)')\n",
    "mpl.ylabel('Mole fraction in the vapor phase (ye)')\n",
    "\n",
    "mpl.grid(b=True, which='both', color='0.65',linestyle='-')\n",
    "mpl.xlim(0,1)\n",
    "mpl.ylim(0,1)\n",
    "\n",
    "x_interseccion=optimize.fsolve(InterseccionRO,[0.5],args=(Ln,D,xd_a,xa,A,q))\n",
    "\n",
    "x_interseccion=round(float(x_interseccion),3)\n",
    "y_interseccion=round(RectaOperativaEnriquecimiento(x_interseccion,Ln,D,xd_a),3)\n",
    "\n",
    "xAgotamiento=[xr_a,x_interseccion]\n",
    "yAgotamiento=[xr_a,y_interseccion]\n",
    "mpl.plot(xAgotamiento,yAgotamiento, 'r-',label = 'SOL')\n",
    "\n",
    "xEnriquecimiento=[x_interseccion,xd_a]\n",
    "yEnriquecimiento=[y_interseccion,xd_a]\n",
    "mpl.plot(xEnriquecimiento,yEnriquecimiento, 'b-',label = 'ROL')\n",
    "mpl.plot([xa,x_interseccion],[xa,y_interseccion],'k-',label = 'q line')\n",
    "\n",
    "\n",
    "\n",
    "numeroEtapasEnriquecimiento=0\n",
    "numeroEtapasAgotamiento=0\n",
    "xDiagonal,yDiagonal=xd_a,xd_a #Valor inicial en la sección de enriquecimiento\n",
    "\n",
    "\n",
    "\n",
    "while True:\n",
    "    xequilibrio=optimize.fsolve(equilib,[0.5],args=(yDiagonal,alfa))  \n",
    "    xequilibrio=float(xequilibrio)\n",
    "    yequilibrio=yDiagonal\n",
    "    mpl.plot([xDiagonal,xequilibrio],[yDiagonal,yequilibrio], 'c-')\n",
    "    numeroEtapasEnriquecimiento+=1\n",
    "    if xequilibrio>x_interseccion:\n",
    "        xDiagonal=xequilibrio\n",
    "        yDiagonal=RectaOperativaEnriquecimiento(xDiagonal,Ln,D,xd_a)\n",
    "        mpl.plot([xequilibrio,xDiagonal],[yequilibrio,yDiagonal], 'c-')\n",
    "    else:\n",
    "        xDiagonal=xequilibrio\n",
    "        yDiagonal=RectaOperativaAgotamiento(xDiagonal,Ln,D,xd_a,xa,caudalMolarA,q)\n",
    "        mpl.plot([xequilibrio,xDiagonal],[yequilibrio,yDiagonal], 'c-')\n",
    "        break\n",
    "\n",
    "while True:\n",
    "    xequilibrio=optimize.fsolve(equilib,[0.5],args=(yDiagonal,alfa))  \n",
    "    xequilibrio=float(xequilibrio)\n",
    "    yequilibrio=yDiagonal\n",
    "    mpl.plot([xDiagonal,xequilibrio],[yDiagonal,yequilibrio], 'c-')\n",
    "    numeroEtapasAgotamiento+=1\n",
    "    if xequilibrio>=xr_a:\n",
    "        xDiagonal=xequilibrio\n",
    "        yDiagonal=RectaOperativaAgotamiento(xDiagonal,Ln,D,xd_a,xa,caudalMolarA,q)\n",
    "        mpl.plot([xequilibrio,xDiagonal],[yequilibrio,yDiagonal], 'c-')\n",
    "    else:\n",
    "        break\n",
    "    \n",
    "mpl.legend(loc = 'best')\n",
    "mpl.show()\n",
    "\n",
    "display(HTML('<h1 style=\"color:#000000\"><strong>The number of equilibrium stages is:</strong></h1>'))\n",
    "\n",
    "\n",
    "numeroPisosTeoricos=numeroEtapasEnriquecimiento+numeroEtapasAgotamiento\n",
    "PisoAlimentacion=numeroEtapasEnriquecimiento+1\n",
    "\n",
    "\n",
    "ResultadosNombres=['Rectifying section','Stripping section',\\\n",
    "                   'Total','Feed tray']\n",
    "ResultadosValores=[numeroEtapasEnriquecimiento,numeroEtapasAgotamiento,numeroPisosTeoricos,PisoAlimentacion]\n",
    "\n",
    "data3 = dict(zip(ResultadosNombres, ResultadosValores))\n",
    "values3 = pd.DataFrame(data3,index=['Resultados'], columns=ResultadosNombres)\n",
    "#values2.set_index('tiempo (min)',inplace=True)\n",
    "display(values3)\n",
    "\n",
    "\n"
   ]
  },
  {
   "cell_type": "code",
   "execution_count": 6,
   "metadata": {
    "scrolled": false
   },
   "outputs": [
    {
     "data": {
      "text/html": [
       "<h1 style=\"color:#000000\"><strong>The maximum number of equilibrium stages is determined by calculating the minimum reflux ratio: the two operating lines intersect on equilibrium curve:</strong></h1>"
      ],
      "text/plain": [
       "<IPython.core.display.HTML object>"
      ]
     },
     "metadata": {},
     "output_type": "display_data"
    },
    {
     "data": {
      "image/png": "[encoded data removed]",
      "text/plain": [
       "<Figure size 432x288 with 1 Axes>"
      ]
     },
     "metadata": {
      "needs_background": "light"
     },
     "output_type": "display_data"
    },
    {
     "data": {
      "text/html": [
       "<h1 style=\"color:#000000\"><strong>The number of equilibrium stages is:</strong></h1>"
      ],
      "text/plain": [
       "<IPython.core.display.HTML object>"
      ]
     },
     "metadata": {},
     "output_type": "display_data"
    },
    {
     "data": {
      "text/html": [
       "<div>\n",
       "<style scoped>\n",
       "    .dataframe tbody tr th:only-of-type {\n",
       "        vertical-align: middle;\n",
       "    }\n",
       "\n",
       "    .dataframe tbody tr th {\n",
       "        vertical-align: top;\n",
       "    }\n",
       "\n",
       "    .dataframe thead th {\n",
       "        text-align: right;\n",
       "    }\n",
       "</style>\n",
       "<table border=\"1\" class=\"dataframe\">\n",
       "  <thead>\n",
       "    <tr style=\"text-align: right;\">\n",
       "      <th></th>\n",
       "      <th>Minimum reflux rate</th>\n",
       "      <th>Rectifying section</th>\n",
       "      <th>Stripping section</th>\n",
       "      <th>Total</th>\n",
       "      <th>Feed tray</th>\n",
       "    </tr>\n",
       "  </thead>\n",
       "  <tbody>\n",
       "    <tr>\n",
       "      <th>Resultados</th>\n",
       "      <td>0.41</td>\n",
       "      <td>4</td>\n",
       "      <td>9</td>\n",
       "      <td>13</td>\n",
       "      <td>5</td>\n",
       "    </tr>\n",
       "  </tbody>\n",
       "</table>\n",
       "</div>"
      ],
      "text/plain": [
       "            Minimum reflux rate  Rectifying section  Stripping section  Total  \\\n",
       "Resultados                 0.41                   4                  9     13   \n",
       "\n",
       "            Feed tray  \n",
       "Resultados          5  "
      ]
     },
     "metadata": {},
     "output_type": "display_data"
    }
   ],
   "source": [
    "display(HTML('<h1 style=\"color:#000000\"><strong>The maximum number of equilibrium stages is determined\\\n",
    " by calculating the minimum reflux ratio: the two operating lines intersect on equilibrium curve:</strong></h1>'))\n",
    "\n",
    "RazonReflujo=RazonMinima*1.02\n",
    "Ln=round(RazonReflujo*D,3)\n",
    "\n",
    "fig5=mpl.figure()\n",
    "\n",
    "mpl.plot(xe,ye, 'g-',label = 'Vapor-liquid equilibrium curve')\n",
    "mpl.plot(ye,ye, 'k-')\n",
    "mpl.xlabel('Mole fraction in the liquid phase (xe)')\n",
    "mpl.ylabel('Mole fraction in the vapor phase (ye)')\n",
    "\n",
    "mpl.grid(b=True, which='both', color='0.65',linestyle='-')\n",
    "mpl.xlim(0,1)\n",
    "mpl.ylim(0,1)\n",
    "\n",
    "x_interseccion=optimize.fsolve(InterseccionRO,[0.5],args=(Ln,D,xd_a,xa,A,q))\n",
    "\n",
    "x_interseccion=round(float(x_interseccion),3)\n",
    "y_interseccion=round(RectaOperativaEnriquecimiento(x_interseccion,Ln,D,xd_a),3)\n",
    "\n",
    "xAgotamiento=[xr_a,x_interseccion]\n",
    "yAgotamiento=[xr_a,y_interseccion]\n",
    "mpl.plot(xAgotamiento,yAgotamiento, 'r-',label = 'SOL')\n",
    "\n",
    "xEnriquecimiento=[x_interseccion,xd_a]\n",
    "yEnriquecimiento=[y_interseccion,xd_a]\n",
    "mpl.plot(xEnriquecimiento,yEnriquecimiento, 'b-',label = 'ROL')\n",
    "mpl.plot([xa,x_interseccion],[xa,y_interseccion],'k-',label = 'q line')\n",
    "\n",
    "\n",
    "\n",
    "numeroEtapasEnriquecimiento=0\n",
    "numeroEtapasAgotamiento=0\n",
    "xDiagonal,yDiagonal=xd_a,xd_a #Valor inicial en la sección de enriquecimiento\n",
    "\n",
    "\n",
    "\n",
    "while True:\n",
    "    xequilibrio=optimize.fsolve(equilib,[0.5],args=(yDiagonal,alfa))  \n",
    "    xequilibrio=float(xequilibrio)\n",
    "    yequilibrio=yDiagonal\n",
    "    mpl.plot([xDiagonal,xequilibrio],[yDiagonal,yequilibrio], 'c-')\n",
    "    numeroEtapasEnriquecimiento+=1\n",
    "    if xequilibrio>x_interseccion:\n",
    "        xDiagonal=xequilibrio\n",
    "        yDiagonal=RectaOperativaEnriquecimiento(xDiagonal,Ln,D,xd_a)\n",
    "        mpl.plot([xequilibrio,xDiagonal],[yequilibrio,yDiagonal], 'c-')\n",
    "    else:\n",
    "        xDiagonal=xequilibrio\n",
    "        yDiagonal=RectaOperativaAgotamiento(xDiagonal,Ln,D,xd_a,xa,caudalMolarA,q)\n",
    "        mpl.plot([xequilibrio,xDiagonal],[yequilibrio,yDiagonal], 'c-')\n",
    "        break\n",
    "\n",
    "while True:\n",
    "    xequilibrio=optimize.fsolve(equilib,[0.5],args=(yDiagonal,alfa))  \n",
    "    xequilibrio=float(xequilibrio)\n",
    "    yequilibrio=yDiagonal\n",
    "    mpl.plot([xDiagonal,xequilibrio],[yDiagonal,yequilibrio], 'c-')\n",
    "    numeroEtapasAgotamiento+=1\n",
    "    if xequilibrio>=xr_a:\n",
    "        xDiagonal=xequilibrio\n",
    "        yDiagonal=RectaOperativaAgotamiento(xDiagonal,Ln,D,xd_a,xa,caudalMolarA,q)\n",
    "        mpl.plot([xequilibrio,xDiagonal],[yequilibrio,yDiagonal], 'c-')\n",
    "    else:\n",
    "        break\n",
    "    \n",
    "mpl.legend(loc = 'best')\n",
    "mpl.show()\n",
    "\n",
    "display(HTML('<h1 style=\"color:#000000\"><strong>The number of equilibrium stages is:</strong></h1>'))\n",
    "\n",
    "\n",
    "numeroPisosTeoricos=numeroEtapasEnriquecimiento+numeroEtapasAgotamiento\n",
    "PisoAlimentacion=numeroEtapasEnriquecimiento+1\n",
    "\n",
    "\n",
    "ResultadosNombres=['Minimum reflux rate','Rectifying section','Stripping section',\\\n",
    "                   'Total','Feed tray']\n",
    "ResultadosValores=[round(RazonMinima,2),numeroEtapasEnriquecimiento,numeroEtapasAgotamiento,numeroPisosTeoricos,PisoAlimentacion]\n",
    "\n",
    "data4 = dict(zip(ResultadosNombres, ResultadosValores))\n",
    "values4 = pd.DataFrame(data4,index=['Resultados'], columns=ResultadosNombres)\n",
    "#values2.set_index('tiempo (min)',inplace=True)\n",
    "display(values4)"
   ]
  },
  {
   "cell_type": "code",
   "execution_count": 7,
   "metadata": {},
   "outputs": [
    {
     "data": {
      "text/html": [
       "\n",
       "\n",
       "<footer id=\"attribution\" style=\"float:right; color:#999; background:#fff;\">\n",
       "Programado con Jupyter Notebook en Python 3.6. </footer>"
      ],
      "text/plain": [
       "<IPython.core.display.HTML object>"
      ]
     },
     "metadata": {},
     "output_type": "display_data"
    }
   ],
   "source": [
    "display(HTML('''\n",
    "\n",
    "<footer id=\"attribution\" style=\"float:right; color:#999; background:#fff;\">\n",
    "Programado con Jupyter Notebook en Python 3.6. </footer>'''))"
   ]
  }
 ],
 "metadata": {
  "anaconda-cloud": {},
  "celltoolbar": "Raw Cell Format",
  "kernelspec": {
   "display_name": "Python 3",
   "language": "python",
   "name": "python3"
  },
  "language_info": {
   "codemirror_mode": {
    "name": "ipython",
    "version": 3
   },
   "file_extension": ".py",
   "mimetype": "text/x-python",
   "name": "python",
   "nbconvert_exporter": "python",
   "pygments_lexer": "ipython3",
   "version": "3.8.5"
  },
  "toc": {
   "colors": {
    "hover_highlight": "#DAA520",
    "navigate_num": "#000000",
    "navigate_text": "#333333",
    "running_highlight": "#FF0000",
    "selected_highlight": "#FFD700",
    "sidebar_border": "#EEEEEE",
    "wrapper_background": "#FFFFFF"
   },
   "moveMenuLeft": true,
   "nav_menu": {
    "height": "81px",
    "width": "252px"
   },
   "navigate_menu": true,
   "number_sections": true,
   "sideBar": true,
   "threshold": 4,
   "toc_cell": false,
   "toc_section_display": "block",
   "toc_window_display": false,
   "widenNotebook": false
  },
  "varInspector": {
   "cols": {
    "lenName": 16,
    "lenType": 16,
    "lenVar": 40
   },
   "kernels_config": {
    "python": {
     "delete_cmd_postfix": "",
     "delete_cmd_prefix": "del ",
     "library": "var_list.py",
     "varRefreshCmd": "print(var_dic_list())"
    },
    "r": {
     "delete_cmd_postfix": ") ",
     "delete_cmd_prefix": "rm(",
     "library": "var_list.r",
     "varRefreshCmd": "cat(var_dic_list()) "
    }
   },
   "types_to_exclude": [
    "module",
    "function",
    "builtin_function_or_method",
    "instance",
    "_Feature"
   ],
   "window_display": false
  }
 },
 "nbformat": 4,
 "nbformat_minor": 1
}
