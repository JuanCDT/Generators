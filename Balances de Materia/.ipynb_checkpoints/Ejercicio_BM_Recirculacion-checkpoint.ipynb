{
 "cells": [
  {
   "cell_type": "markdown",
   "metadata": {
    "colab_type": "text",
    "id": "E25htrGZuYFc"
   },
   "source": [
    "# *Balances de materia*\n",
    "## Resolución de un balance con reacción y recirculación\n",
    "\n",
    "### El diagrama de bloques del proceso es el siguiente:\n",
    "\n",
    "\n",
    "<img src=\"./Imagenes/Flujo_Recirculacion.jpg\" height=\"400\" width=\"400\"\\>\n",
    "\n"
   ]
  },
  {
   "cell_type": "code",
   "execution_count": 1,
   "metadata": {
    "colab": {
     "autoexec": {
      "startup": false,
      "wait_interval": 0
     },
     "output_extras": [
      {}
     ]
    },
    "colab_type": "code",
    "id": "HF5u79k_uYFF",
    "outputId": "79601b83-f868-4c32-e681-5631bb05e78d"
   },
   "outputs": [
    {
     "data": {
      "text/html": [
       "<script>\n",
       "  function code_toggle() {\n",
       "    if (code_shown){\n",
       "      $('div.input').hide('500');\n",
       "      $('#toggleButton').val('Mostrar código')\n",
       "    } else {\n",
       "      $('div.input').show('500');\n",
       "      $('#toggleButton').val('Esconder código')\n",
       "    }\n",
       "    code_shown = !code_shown\n",
       "  }\n",
       "\n",
       "  $( document ).ready(function(){\n",
       "    code_shown=false;\n",
       "    $('div.input').hide()\n",
       "  });\n",
       "</script>\n",
       "<form action=\"javascript:code_toggle()\"><input type=\"submit\" id=\"toggleButton\" value=\"Mostrar código\"></form>"
      ],
      "text/plain": [
       "<IPython.core.display.HTML object>"
      ]
     },
     "metadata": {},
     "output_type": "display_data"
    }
   ],
   "source": [
    "%matplotlib inline\n",
    "import numpy as np\n",
    "from scipy import optimize\n",
    "from scipy.integrate import ode\n",
    "import matplotlib.pyplot as mpl\n",
    "import matplotlib.patches as patches\n",
    "import random\n",
    "import math\n",
    "import pandas as pd\n",
    "import IPython.core.display as di\n",
    "from ipywidgets import interact\n",
    "import notebook\n",
    "from IPython.display import clear_output, display, HTML, Image,Math, Latex\n",
    "from IPython.external import mathjax\n",
    "\n",
    "#Generador de reaccion aA+bB->cD+dD\n",
    "\n",
    "def generador_estequiometria():  # generación de parámetros del problema\n",
    "\n",
    "    coeficientes={'a': None, 'b': None,'c': None,'d': None,}\n",
    "    Pesos_moleculares={'a': 0, 'b': 0,'c': 0,'d': 0,}\n",
    "\n",
    "    while (Pesos_moleculares['d']<=10 or (coeficientes['a']==0 or coeficientes['b']==0)):\n",
    "\n",
    "        for i in coeficientes.keys():\n",
    "            coeficientes[i]= random.choice([0,1,2,3])\n",
    "            Pesos_moleculares[i]= round(random.uniform(10.,80.),1)\n",
    "\n",
    "        if coeficientes['d']!=0:\n",
    "\n",
    "            Pesos_moleculares['d']=round((Pesos_moleculares['a']*coeficientes['a']+Pesos_moleculares['b']*coeficientes['b']-\\\n",
    "                                Pesos_moleculares['c']*coeficientes['c'])/coeficientes['d'],1)\n",
    "        elif  (coeficientes['d']==0 and (coeficientes['a']!=0 and coeficientes['b']!=0)):\n",
    "            Pesos_moleculares['d']=1\n",
    "            break\n",
    "\n",
    "    return coeficientes,Pesos_moleculares\n",
    "\n",
    "def Reactivo_limitante(C2, W2_a,W2_b,coeficientes,Pesos_moleculares):\n",
    "\n",
    "    a=coeficientes['a']; b=coeficientes['b']\n",
    "    PM_a=Pesos_moleculares['a']; PM_b=Pesos_moleculares['b']\n",
    "\n",
    "    if (C2*W2_a)/(PM_a)<=(C2*W2_b*a/(b*PM_b)):\n",
    "        Limitante='a'\n",
    "    else:\n",
    "        Limitante = 'b'\n",
    "\n",
    "    return Limitante\n",
    "\n",
    "\n",
    "def generador_parametros():  # generación de parámetros del problema\n",
    "    C2,W2_d ,C5=0,0,0\n",
    "\n",
    "    while C2 <= 1.5 * C5:\n",
    "        C2 = random.randint(10., 200.)  # Caudal másico kg/h\n",
    "        C5 = random.randint(10., 200.)  # Caudal másico kg/h\n",
    "\n",
    "    while W2_d <= 0:  # fracciones másicas de la corriente 2\n",
    "        W2_a = random.uniform(0.2, 0.6)\n",
    "        W2_b = random.uniform(0.2, 0.6)\n",
    "        W2_c = random.uniform(0, 0.15)\n",
    "        W2_d = 1-(W2_a + W2_b + W2_c)\n",
    "\n",
    "    return C2, C5, W2_a, W2_b, W2_c,W2_d\n",
    "\n",
    "\n",
    "def generador_conversion(Limitante, W2_a,W2_b,coeficientes,Pesos_moleculares):\n",
    "\n",
    "    a=coeficientes['a'];b=coeficientes['b']\n",
    "    PM_a=Pesos_moleculares['a'];PM_b=Pesos_moleculares['b']\n",
    "\n",
    "    while True:\n",
    "        conversion = random.uniform(0.5, 1.0)\n",
    "\n",
    "        if Limitante=='a':\n",
    "            return conversion\n",
    "        else:\n",
    "            conversion_a=(a/b)*(W2_b*PM_a*conversion)/(W2_a*PM_b)\n",
    "            #print (conversion)\n",
    "            if conversion_a>=0.01 and conversion_a<=1:\n",
    "                return  conversion_a\n",
    "\n",
    "\n",
    "\n",
    "def Sistema_Ecuaciones(incognitas,variables_conocidas,coeficientes,Pesos_moleculares,conversion_A):\n",
    "    #Variables conocidas y desconocidas dependen del caso pero se resuelve siempre para las mismas conocidas\n",
    "    # y generadas.\n",
    "    #Variables del sistema: C1,C2,C3,C4,C5\n",
    "    # W1_a, W1_b, W1_c, W1_d\n",
    "    # W2_a, W2_b, W2_c, W2_d\n",
    "    # W3_a, W3_b, W3_c, W3_d\n",
    "    # W4_a, W4_b, W4_c, W4_d\n",
    "    # W5_a, W5_b, W5_c, W5_d\n",
    "\n",
    "    # W3_a=W4_a=W5_a Por lo que se toma en todas las ecuaciones w3_a\n",
    "    # W3_b=W4_b=W5_b Por lo que se toma en todas las ecuaciones w3_b\n",
    "    # W3_c=W4_c=W5_c Por lo que se toma en todas las ecuaciones w3_c\n",
    "    # W3_d=W4_d=W5_d Por lo que se toma en todas las ecuaciones w3_d\n",
    "\n",
    "    # 14 variables de entrada, 5 de ellas definidas, y 9 ecuaciones y 9 incognitas\n",
    "    # Siempre se general, además de la estequiometría y la conversión, el caudal y 3 composiciones de C2 y C5\n",
    "    # Una vez resuelto, según el caso, se muestran al estudiante unos valores de partida u otros\n",
    "\n",
    "    X=conversion_A\n",
    "\n",
    "    a=coeficientes['a'];b=coeficientes['b'];c=coeficientes['c']\n",
    "    PM_a=Pesos_moleculares['a'];PM_b=Pesos_moleculares['b'];PM_c=Pesos_moleculares['c']\n",
    "\n",
    "    C1,C3,C4,W1_a, W1_b, W1_c,W3_a, W3_b, W3_c =incognitas\n",
    "    C2, C5, W2_a, W2_b, W2_c=variables_conocidas\n",
    "\n",
    "    #Ecuaciones en el mezclador\n",
    "    values=[C1*W1_a+C5*W3_a-C2*W2_a] #Ecuación 1\n",
    "    values.append(C1*W1_b+C5*W3_b-C2*W2_b)#Ecuación 2\n",
    "    values.append(C1*W1_c+C5*W3_c-C2*W2_c) #Ecuación 3\n",
    "    values.append(C1+C5-C2)#Ecuación 4 - balance Global\n",
    "\n",
    "    #Ecuaciones en el divisor\n",
    "    values.append(C3-C4-C5) #Ecuación 5 Balance global\n",
    "\n",
    "\n",
    "    #Ecuaciones en el reactor\n",
    "    values.append(C3*W3_a/PM_a+C2*W2_a*X/PM_a-C2*W2_a/PM_a) #Ecuación 6\n",
    "    values.append(C3*W3_b/PM_b+((b/a)*C2*W2_a*X)/PM_a-C2*W2_b/PM_b) #Ecuación 7\n",
    "    values.append(C3*W3_c/PM_c-((c/a)*C2*W2_a*X)/PM_a-C2*W2_c/PM_c) #Ecuación 8\n",
    "    values.append(C3-C2) #Ecuación 9 Balance global\n",
    "\n",
    "    return values\n",
    "\n",
    "def generador_problema():\n",
    "    \n",
    "    comprobador=False\n",
    "    \n",
    "    while comprobador==False:\n",
    "        C2, C5, W2_a, W2_b, W2_c,W2_d =generador_parametros()\n",
    "        \n",
    "        coeficientes,Pesos_moleculares=generador_estequiometria()\n",
    "        \n",
    "        Limitante=Reactivo_limitante(C2, W2_a,W2_b,coeficientes,Pesos_moleculares)\n",
    "        \n",
    "        conversion=generador_conversion(Limitante, W2_a,W2_b,coeficientes,Pesos_moleculares)\n",
    "        \n",
    "        variables_conocidas = [C2, C5, W2_a, W2_b, W2_c]\n",
    "        \n",
    "        Resultado = optimize.fsolve(Sistema_Ecuaciones, [100, 100, 100, 0.3, 0.3, 0.1,0.3, 0.3, 0.1],\\\n",
    "                                  args=(variables_conocidas,coeficientes,Pesos_moleculares,conversion),\\\n",
    "                                 xtol=1e-06, maxfev=500)\n",
    "        \n",
    "        C1,C3,C4,W1_a, W1_b, W1_c,W3_a, W3_b, W3_c  = Resultado\n",
    "        \n",
    "        W1_d = 1-(W1_a + W1_b + W1_c)\n",
    "        W3_d = 1-(W3_a + W3_b + W3_c)\n",
    "        R=C5/C3\n",
    "        corrientes=[C1,C2, C3,C4,C5]\n",
    "        fracciones=[ W1_a, W1_b, W1_c,W1_d , W2_a, W2_b, W2_c,W2_d ,W3_a, W3_b, W3_c,  W3_d,R ]\n",
    "        corrientes=[int(elem) for elem in corrientes]\n",
    "        fracciones=[round(float(elem), 3) for elem in fracciones]\n",
    "        comprobador=all(i >= 0 for i in fracciones)\n",
    "    \n",
    "    return fracciones,corrientes, coeficientes,Pesos_moleculares,round(conversion,3)\n",
    "\n",
    "fracciones,corrientes,coeficientes,Pesos_moleculares,conversion =generador_problema()\n",
    "\n",
    "W1_a, W1_b, W1_c,W1_d , W2_a, W2_b, W2_c,W2_d ,W3_a, W3_b, W3_c,  W3_d,R=fracciones\n",
    "\n",
    "C1,C2, C3,C4,C5=corrientes\n",
    "\n",
    "#Definir casos: generar variables y sus valores para mostrarlos\n",
    "\n",
    "caso=random.randint(1,4)\n",
    "\n",
    "if caso==1:\n",
    "    variablesConocidasNombres=['C2 (kg/h)','C5 (kg/h)',' W2_a ',' W2_b ',' W2_c ',' XA ']\n",
    "    ValoresMostrados=[C2, C5, W2_a, W2_b, W2_c,conversion]\n",
    "\n",
    "    Pesos_Moleculares_Nombres=['PM_a (g/mol)','PM_b (g/mol)','PM_c (g/mol)','PM_d (g/mol)']\n",
    "    ValoresMostradosPM=[Pesos_moleculares['a'],Pesos_moleculares['b'],Pesos_moleculares['c'],Pesos_moleculares['d']]\n",
    "\n",
    "    coeficientesNombres=['a','b','c','d']\n",
    "    ValoresCoeficientes=[coeficientes['a'],coeficientes['b'],coeficientes['c'],coeficientes['d']]\n",
    "\n",
    "    ResultadosNombres=['C1 (kg/h)','C3 (kg/h)','C4 (kg/h)',' W1_a ',' W1_b ',' W1_c ',' W1_d ',\\\n",
    "                       ' W3_a ',' W3_b ',' W3_c ',' W3_d' ]\n",
    "    ValoresResultados=[C1, C3,C4,W1_a, W1_b, W1_c,W1_d ,W3_a, W3_b, W3_c,  W3_d]\n",
    "\n",
    "elif caso==2:\n",
    "    variablesConocidasNombres=['C1 (kg/h)',' W1_a ',' W1_b ',' W1_c ',' R ',' XA ']\n",
    "    ValoresMostrados=[C1,W1_a, W1_b, W1_c,R,conversion]\n",
    "\n",
    "    Pesos_Moleculares_Nombres=['PM_a (g/mol)','PM_b (g/mol)','PM_c (g/mol)','PM_d (g/mol)']\n",
    "    ValoresMostradosPM=[Pesos_moleculares['a'],Pesos_moleculares['b'],Pesos_moleculares['c'],Pesos_moleculares['d']]\n",
    "\n",
    "    coeficientesNombres=['a','b','c','d']\n",
    "    ValoresCoeficientes=[coeficientes['a'],coeficientes['b'],coeficientes['c'],coeficientes['d']]\n",
    "\n",
    "    ResultadosNombres=['C2 (kg/h)','C3 (kg/h)','C4 (kg/h)','C5 (kg/h)',' W2_a ',' W2_b ',' W2_c ',' W2_d ',\\\n",
    "                       ' W3_a ',' W3_b ',' W3_c ',' W3_d' ]\n",
    "    ValoresResultados=[C2, C3,C4,C5, W2_a, W2_b, W2_c,W2_d ,W3_a, W3_b, W3_c,  W3_d]\n",
    "    \n",
    "elif caso==3:\n",
    "    variablesConocidasNombres=['C3 (kg/h)',' W3_a ',' W3_b ',' W3_c ',' R ',' XA ']\n",
    "    ValoresMostrados=[C3,W3_a, W3_b, W3_c,R,conversion]\n",
    "\n",
    "    Pesos_Moleculares_Nombres=['PM_a (g/mol)','PM_b (g/mol)','PM_c (g/mol)','PM_d (g/mol)']\n",
    "    ValoresMostradosPM=[Pesos_moleculares['a'],Pesos_moleculares['b'],Pesos_moleculares['c'],Pesos_moleculares['d']]\n",
    "\n",
    "    coeficientesNombres=['a','b','c','d']\n",
    "    ValoresCoeficientes=[coeficientes['a'],coeficientes['b'],coeficientes['c'],coeficientes['d']]\n",
    "\n",
    "    ResultadosNombres=['C1 (kg/h)','C2 (kg/h)','C4 (kg/h)','C5 (kg/h)',' W1_a ',' W1_b ',' W1_c ',' W1_d ',\\\n",
    "                       ' W2_a ',' W2_b ',' W2_c ',' W2_d ']\n",
    "    ValoresResultados=[C1, C2,C4,C5, W1_a,W1_b, W1_c,W1_d , W2_a, W2_b, W2_c,W2_d ]\n",
    " \n",
    "elif caso==4:\n",
    "    variablesConocidasNombres=['C5 (kg/h)',' W5_a ',' W5_b ',' W5_c ',' R ',' XA ']\n",
    "    ValoresMostrados=[C5,W3_a, W3_b, W3_c,R,conversion]\n",
    "\n",
    "    Pesos_Moleculares_Nombres=['PM_a (g/mol)','PM_b (g/mol)','PM_c (g/mol)','PM_d (g/mol)']\n",
    "    ValoresMostradosPM=[Pesos_moleculares['a'],Pesos_moleculares['b'],Pesos_moleculares['c'],Pesos_moleculares['d']]\n",
    "\n",
    "    coeficientesNombres=['a','b','c','d']\n",
    "    ValoresCoeficientes=[coeficientes['a'],coeficientes['b'],coeficientes['c'],coeficientes['d']]\n",
    "\n",
    "    ResultadosNombres=['C1 (kg/h)','C2 (kg/h)','C3 (kg/h)','C4 (kg/h)',' W1_a ',' W1_b ',' W1_c ',' W1_d ',\\\n",
    "                       ' W2_a ',' W2_b ',' W2_c ',' W2_d ']\n",
    "    ValoresResultados=[C1, C2,C3,C4, W1_a,W1_b, W1_c,W1_d , W2_a, W2_b, W2_c,W2_d ]\n",
    " \n",
    "\n",
    "    \n",
    "display(HTML('''<script>\n",
    "  function code_toggle() {\n",
    "    if (code_shown){\n",
    "      $('div.input').hide('500');\n",
    "      $('#toggleButton').val('Mostrar código')\n",
    "    } else {\n",
    "      $('div.input').show('500');\n",
    "      $('#toggleButton').val('Esconder código')\n",
    "    }\n",
    "    code_shown = !code_shown\n",
    "  }\n",
    "\n",
    "  $( document ).ready(function(){\n",
    "    code_shown=false;\n",
    "    $('div.input').hide()\n",
    "  });\n",
    "</script>\n",
    "<form action=\"javascript:code_toggle()\"><input type=\"submit\" id=\"toggleButton\" value=\"Mostrar código\"></form>'''))\n",
    "\n"
   ]
  },
  {
   "cell_type": "code",
   "execution_count": 2,
   "metadata": {
    "colab": {
     "autoexec": {
      "startup": false,
      "wait_interval": 0
     },
     "output_extras": [
      {},
      {},
      {},
      {},
      {}
     ]
    },
    "colab_type": "code",
    "id": "wHx56vaLuYFe",
    "outputId": "ef8ea37f-9c51-4b6c-be02-0d57be38fb77"
   },
   "outputs": [
    {
     "data": {
      "text/html": [
       "<h1 style=\"color:#000000\"><strong>La reacción que tiene lugar en el reactor es:</strong></h1>"
      ],
      "text/plain": [
       "<IPython.core.display.HTML object>"
      ]
     },
     "metadata": {},
     "output_type": "display_data"
    },
    {
     "data": {
      "text/latex": [
       "$$a\\cdot A+b\\cdot B \\rightarrow c\\cdot C+d\\cdot D$$"
      ],
      "text/plain": [
       "<IPython.core.display.Math object>"
      ]
     },
     "metadata": {},
     "output_type": "display_data"
    },
    {
     "data": {
      "text/html": [
       "<h1 style=\"color:#000000\"><strong>Los coeficiences estequiométricos de la reacción son:</strong></h1>"
      ],
      "text/plain": [
       "<IPython.core.display.HTML object>"
      ]
     },
     "metadata": {},
     "output_type": "display_data"
    },
    {
     "data": {
      "text/html": [
       "<div>\n",
       "<style scoped>\n",
       "    .dataframe tbody tr th:only-of-type {\n",
       "        vertical-align: middle;\n",
       "    }\n",
       "\n",
       "    .dataframe tbody tr th {\n",
       "        vertical-align: top;\n",
       "    }\n",
       "\n",
       "    .dataframe thead th {\n",
       "        text-align: right;\n",
       "    }\n",
       "</style>\n",
       "<table border=\"1\" class=\"dataframe\">\n",
       "  <thead>\n",
       "    <tr style=\"text-align: right;\">\n",
       "      <th></th>\n",
       "      <th>a</th>\n",
       "      <th>b</th>\n",
       "      <th>c</th>\n",
       "      <th>d</th>\n",
       "    </tr>\n",
       "  </thead>\n",
       "  <tbody>\n",
       "    <tr>\n",
       "      <th>Coef. Estequiométricos</th>\n",
       "      <td>2</td>\n",
       "      <td>1</td>\n",
       "      <td>1</td>\n",
       "      <td>2</td>\n",
       "    </tr>\n",
       "  </tbody>\n",
       "</table>\n",
       "</div>"
      ],
      "text/plain": [
       "                        a  b  c  d\n",
       "Coef. Estequiométricos  2  1  1  2"
      ]
     },
     "metadata": {},
     "output_type": "display_data"
    },
    {
     "data": {
      "text/html": [
       "<p style=\"color:#000000\"><strong>Nomenclatura</strong>: a, b, c y d son los coeficientes estequiométricos de los compuestos A, B, C y D, respectivamente.</p>"
      ],
      "text/plain": [
       "<IPython.core.display.HTML object>"
      ]
     },
     "metadata": {},
     "output_type": "display_data"
    }
   ],
   "source": [
    "display(HTML('<h1 style=\"color:#000000\"><strong>La reacción que tiene lugar en el reactor es:</strong></h1>'))\n",
    "\n",
    "display(Math(r'a\\cdot A+b\\cdot B \\rightarrow c\\cdot C+d\\cdot D'))\n",
    "\n",
    "display(HTML('<h1 style=\"color:#000000\"><strong>Los coeficiences estequiométricos de la reacción son:</strong></h1>'))\n",
    "\n",
    "data2 = dict(zip(coeficientesNombres, ValoresCoeficientes))\n",
    "\n",
    "values2 = pd.DataFrame(data2,index=['Coef. Estequiométricos'], columns=coeficientesNombres)\n",
    "\n",
    "display(values2)\n",
    "\n",
    "\n",
    "display(HTML('<p style=\"color:#000000\"><strong>Nomenclatura</strong>: a, b, c y d son los coeficientes\\\n",
    " estequiométricos de los compuestos A, B, C y D, respectivamente.</p>'))"
   ]
  },
  {
   "cell_type": "code",
   "execution_count": 3,
   "metadata": {
    "colab": {
     "autoexec": {
      "startup": false,
      "wait_interval": 0
     },
     "output_extras": [
      {},
      {},
      {},
      {}
     ]
    },
    "colab_type": "code",
    "id": "xMF786nPuYFq",
    "outputId": "51264ba3-2a7b-43a0-d955-1a7595b285a8"
   },
   "outputs": [
    {
     "data": {
      "text/html": [
       "<h1 style=\"color:#000000\"><strong>Los datos del problema son:</strong></h1>"
      ],
      "text/plain": [
       "<IPython.core.display.HTML object>"
      ]
     },
     "metadata": {},
     "output_type": "display_data"
    },
    {
     "data": {
      "text/html": [
       "<div>\n",
       "<style scoped>\n",
       "    .dataframe tbody tr th:only-of-type {\n",
       "        vertical-align: middle;\n",
       "    }\n",
       "\n",
       "    .dataframe tbody tr th {\n",
       "        vertical-align: top;\n",
       "    }\n",
       "\n",
       "    .dataframe thead th {\n",
       "        text-align: right;\n",
       "    }\n",
       "</style>\n",
       "<table border=\"1\" class=\"dataframe\">\n",
       "  <thead>\n",
       "    <tr style=\"text-align: right;\">\n",
       "      <th></th>\n",
       "      <th>C5 (kg/h)</th>\n",
       "      <th>W5_a</th>\n",
       "      <th>W5_b</th>\n",
       "      <th>W5_c</th>\n",
       "      <th>R</th>\n",
       "      <th>XA</th>\n",
       "    </tr>\n",
       "  </thead>\n",
       "  <tbody>\n",
       "    <tr>\n",
       "      <th>Datos</th>\n",
       "      <td>15</td>\n",
       "      <td>0.026</td>\n",
       "      <td>0.349</td>\n",
       "      <td>0.182</td>\n",
       "      <td>0.124</td>\n",
       "      <td>0.889</td>\n",
       "    </tr>\n",
       "  </tbody>\n",
       "</table>\n",
       "</div>"
      ],
      "text/plain": [
       "       C5 (kg/h)   W5_a    W5_b    W5_c      R     XA \n",
       "Datos         15   0.026   0.349   0.182  0.124  0.889"
      ]
     },
     "metadata": {},
     "output_type": "display_data"
    },
    {
     "data": {
      "text/html": [
       "<div>\n",
       "<style scoped>\n",
       "    .dataframe tbody tr th:only-of-type {\n",
       "        vertical-align: middle;\n",
       "    }\n",
       "\n",
       "    .dataframe tbody tr th {\n",
       "        vertical-align: top;\n",
       "    }\n",
       "\n",
       "    .dataframe thead th {\n",
       "        text-align: right;\n",
       "    }\n",
       "</style>\n",
       "<table border=\"1\" class=\"dataframe\">\n",
       "  <thead>\n",
       "    <tr style=\"text-align: right;\">\n",
       "      <th></th>\n",
       "      <th>PM_a (g/mol)</th>\n",
       "      <th>PM_b (g/mol)</th>\n",
       "      <th>PM_c (g/mol)</th>\n",
       "      <th>PM_d (g/mol)</th>\n",
       "    </tr>\n",
       "  </thead>\n",
       "  <tbody>\n",
       "    <tr>\n",
       "      <th>Pesos Moleculares</th>\n",
       "      <td>66.4</td>\n",
       "      <td>77.4</td>\n",
       "      <td>34.4</td>\n",
       "      <td>87.9</td>\n",
       "    </tr>\n",
       "  </tbody>\n",
       "</table>\n",
       "</div>"
      ],
      "text/plain": [
       "                   PM_a (g/mol)  PM_b (g/mol)  PM_c (g/mol)  PM_d (g/mol)\n",
       "Pesos Moleculares          66.4          77.4          34.4          87.9"
      ]
     },
     "metadata": {},
     "output_type": "display_data"
    },
    {
     "data": {
      "text/html": [
       "<p style=\"color:#000000\"><strong>Nomenclatura</strong>: el prefijo C corresponde a una corriente,W#_letra denota una fracción másica en la corriente # para el compuesto \"letra\", R es la razón de recirculación, XA es la conversión para el compuesto A, PM_letra es el peso molecular del compuesto )</p>"
      ],
      "text/plain": [
       "<IPython.core.display.HTML object>"
      ]
     },
     "metadata": {},
     "output_type": "display_data"
    }
   ],
   "source": [
    "display(HTML('<h1 style=\"color:#000000\"><strong>Los datos del problema son:</strong></h1>'))\n",
    "\n",
    "data = dict(zip(variablesConocidasNombres, ValoresMostrados))\n",
    "\n",
    "values = pd.DataFrame(data,index=['Datos'], columns=variablesConocidasNombres)\n",
    "\n",
    "display(values)\n",
    "\n",
    "\n",
    "data1 = dict(zip(Pesos_Moleculares_Nombres, ValoresMostradosPM))\n",
    "\n",
    "values1 = pd.DataFrame(data1,index=['Pesos Moleculares'], columns=Pesos_Moleculares_Nombres)\n",
    "\n",
    "display(values1)\n",
    "\n",
    "display(HTML('<p style=\"color:#000000\"><strong>Nomenclatura</strong>: el prefijo C corresponde a una corriente,\\\n",
    "W#_letra denota una fracción másica en la corriente # para el compuesto \"letra\", \\\n",
    "R es la razón de recirculación, XA es la conversión para el compuesto A, \\\n",
    "PM_letra es el peso molecular del compuesto )</p>'))\n"
   ]
  },
  {
   "cell_type": "code",
   "execution_count": 4,
   "metadata": {
    "colab": {
     "autoexec": {
      "startup": false,
      "wait_interval": 0
     },
     "output_extras": [
      {},
      {},
      {}
     ]
    },
    "colab_type": "code",
    "id": "x9HFXrvduYF0",
    "outputId": "a5ed0ffc-34e2-4eb8-f923-5f7f214511a9"
   },
   "outputs": [
    {
     "data": {
      "text/html": [
       "<h1 style=\"color:#000000\"><strong>Los resultados son:</strong></h1>"
      ],
      "text/plain": [
       "<IPython.core.display.HTML object>"
      ]
     },
     "metadata": {},
     "output_type": "display_data"
    },
    {
     "data": {
      "text/html": [
       "<div>\n",
       "<style scoped>\n",
       "    .dataframe tbody tr th:only-of-type {\n",
       "        vertical-align: middle;\n",
       "    }\n",
       "\n",
       "    .dataframe tbody tr th {\n",
       "        vertical-align: top;\n",
       "    }\n",
       "\n",
       "    .dataframe thead th {\n",
       "        text-align: right;\n",
       "    }\n",
       "</style>\n",
       "<table border=\"1\" class=\"dataframe\">\n",
       "  <thead>\n",
       "    <tr style=\"text-align: right;\">\n",
       "      <th></th>\n",
       "      <th>C1 (kg/h)</th>\n",
       "      <th>C2 (kg/h)</th>\n",
       "      <th>C3 (kg/h)</th>\n",
       "      <th>C4 (kg/h)</th>\n",
       "      <th>W1_a</th>\n",
       "      <th>W1_b</th>\n",
       "      <th>W1_c</th>\n",
       "      <th>W1_d</th>\n",
       "      <th>W2_a</th>\n",
       "      <th>W2_b</th>\n",
       "      <th>W2_c</th>\n",
       "      <th>W2_d</th>\n",
       "    </tr>\n",
       "  </thead>\n",
       "  <tbody>\n",
       "    <tr>\n",
       "      <th>Resultados</th>\n",
       "      <td>106</td>\n",
       "      <td>121</td>\n",
       "      <td>121</td>\n",
       "      <td>106</td>\n",
       "      <td>0.264</td>\n",
       "      <td>0.488</td>\n",
       "      <td>0.12</td>\n",
       "      <td>0.128</td>\n",
       "      <td>0.234</td>\n",
       "      <td>0.471</td>\n",
       "      <td>0.128</td>\n",
       "      <td>0.167</td>\n",
       "    </tr>\n",
       "  </tbody>\n",
       "</table>\n",
       "</div>"
      ],
      "text/plain": [
       "            C1 (kg/h)  C2 (kg/h)  C3 (kg/h)  C4 (kg/h)   W1_a    W1_b   \\\n",
       "Resultados        106        121        121        106   0.264   0.488   \n",
       "\n",
       "             W1_c    W1_d    W2_a    W2_b    W2_c    W2_d   \n",
       "Resultados    0.12   0.128   0.234   0.471   0.128   0.167  "
      ]
     },
     "metadata": {},
     "output_type": "display_data"
    },
    {
     "data": {
      "text/html": [
       "<p style=\"color:#000000\">Las fracciones másicas en las corrientes 3, 4 y 5 son iguales, dado que se trata de un mezclador.</p>"
      ],
      "text/plain": [
       "<IPython.core.display.HTML object>"
      ]
     },
     "metadata": {},
     "output_type": "display_data"
    }
   ],
   "source": [
    "display(HTML('<h1 style=\"color:#000000\"><strong>Los resultados son:</strong></h1>'))\n",
    "\n",
    "data3 = dict(zip(ResultadosNombres, ValoresResultados))\n",
    "\n",
    "values3 = pd.DataFrame(data3,index=['Resultados'], columns=ResultadosNombres)\n",
    "\n",
    "display(values3)\n",
    "\n",
    "display(HTML('<p style=\"color:#000000\">Las fracciones másicas en las corrientes 3, 4 y 5 son \\\n",
    "iguales, dado que se trata de un mezclador.</p>'))\n",
    "\n"
   ]
  },
  {
   "cell_type": "code",
   "execution_count": 5,
   "metadata": {
    "colab": {
     "autoexec": {
      "startup": false,
      "wait_interval": 0
     },
     "output_extras": [
      {}
     ]
    },
    "colab_type": "code",
    "id": "lLIa_-sWuYF8",
    "outputId": "2effcb7b-b388-4b31-d02a-11d8e04e4730"
   },
   "outputs": [
    {
     "data": {
      "text/html": [
       "\n",
       "\n",
       "<footer id=\"attribution\" style=\"float:right; color:#999; background:#fff;\">\n",
       "Programado con Jupyter Notebook en Python 3.6. </footer>"
      ],
      "text/plain": [
       "<IPython.core.display.HTML object>"
      ]
     },
     "metadata": {},
     "output_type": "display_data"
    }
   ],
   "source": [
    "display(HTML('''\n",
    "\n",
    "<footer id=\"attribution\" style=\"float:right; color:#999; background:#fff;\">\n",
    "Programado con Jupyter Notebook en Python 3.6. </footer>'''))"
   ]
  },
  {
   "cell_type": "code",
   "execution_count": null,
   "metadata": {
    "colab": {
     "autoexec": {
      "startup": false,
      "wait_interval": 0
     }
    },
    "colab_type": "code",
    "id": "ZnZ2tI7iuYGE"
   },
   "outputs": [],
   "source": []
  }
 ],
 "metadata": {
  "colab": {
   "default_view": {},
   "name": "Ejercicio_BM_Recirculacion.ipynb",
   "provenance": [],
   "version": "0.3.2",
   "views": {}
  },
  "kernelspec": {
   "display_name": "Python 3",
   "language": "python",
   "name": "python3"
  },
  "language_info": {
   "codemirror_mode": {
    "name": "ipython",
    "version": 3
   },
   "file_extension": ".py",
   "mimetype": "text/x-python",
   "name": "python",
   "nbconvert_exporter": "python",
   "pygments_lexer": "ipython3",
   "version": "3.6.5"
  }
 },
 "nbformat": 4,
 "nbformat_minor": 1
}
