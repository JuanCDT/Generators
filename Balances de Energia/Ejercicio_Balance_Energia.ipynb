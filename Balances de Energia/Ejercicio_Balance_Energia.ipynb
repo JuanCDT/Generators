{
 "cells": [
  {
   "cell_type": "markdown",
   "metadata": {
    "colab_type": "text",
    "id": "E25htrGZuYFc"
   },
   "source": [
    "# *Balances de energía*\n",
    "## Resolución de un balance de energía empleando vapor \n",
    "\n",
    "Se utiliza vapor de agua para calentar un medio  en un proceso en continuo.  Un vapor saturado con un caudal mV a una temperatura T1 entra en un serpentín en el tanque donde se encuentra el medio (caudal másico mL) y condensa completamente.  El medio líquido entra al tanque a una temperatura T2 y lo abandona a T3.  Las pérdidas de calor de la camisa al exterior se estiman en Qp. \n",
    "\n",
    "### El diagrama del proceso es el siguiente:\n",
    "\n",
    "\n",
    " <img src=\"./Imagenes/Sistema_Balance_Energia.jpg\" height=\"400\" width=\"400\"/>\n",
    "\n",
    "### Nomenclatura:\n",
    "\n",
    "$m_V$: Caudal másico de vapor de calefacción (kg/h)<br>\n",
    "$m_L$: Caudal másico del medio (kg/h)<br>\n",
    "$h_1$: Entalpía del líquido saturado (kJ/kg))<br>\n",
    "$h_2$: Entalpía del vapor saturado (kJ/kg)<br>\n",
    "$h_3$: Entalpía del medio caliente (kJ/kg))<br>\n",
    "$h_4$: Entalpía del medio frío (kJ/kg)<br>\n",
    "$\\lambda$: Calor latente de vaporización del agua (kJ/kg)<br>\n",
    "$C_p$: Calor específico del medio (kJ/kg·K)<br>\n",
    "$T_1$: Temperatura del vapor saturado (ºC)<br>\n",
    "$T_3$: Temperatura del medio caliente (ºC)<br>\n",
    "$T_4$: Temperatura del medio frío (ºC)<br>\n",
    "$Q_p$: Pérdidas de calor (kJ/h)<br>\n",
    "\n",
    "\n",
    "\n",
    "\n",
    "\n",
    "\n",
    "\n"
   ]
  },
  {
   "cell_type": "code",
   "execution_count": null,
   "metadata": {
    "colab": {
     "autoexec": {
      "startup": false,
      "wait_interval": 0
     },
     "output_extras": [
      {}
     ]
    },
    "colab_type": "code",
    "id": "HF5u79k_uYFF",
    "outputId": "79601b83-f868-4c32-e681-5631bb05e78d"
   },
   "outputs": [],
   "source": [
    "%matplotlib inline\n",
    "import numpy as np\n",
    "from scipy import optimize\n",
    "from scipy.integrate import ode\n",
    "from scipy.interpolate import interp1d\n",
    "import matplotlib.pyplot as mpl\n",
    "import matplotlib.patches as patches\n",
    "import random\n",
    "import math\n",
    "import pandas as pd\n",
    "import IPython.core.display as di\n",
    "import notebook\n",
    "from IPython.display import clear_output, display, HTML, Image,Math, Latex\n",
    "from IPython.external import mathjax"
   ]
  },
  {
   "cell_type": "code",
   "execution_count": null,
   "metadata": {
    "colab": {
     "autoexec": {
      "startup": false,
      "wait_interval": 0
     },
     "output_extras": [
      {}
     ]
    },
    "colab_type": "code",
    "id": "HF5u79k_uYFF",
    "outputId": "79601b83-f868-4c32-e681-5631bb05e78d"
   },
   "outputs": [],
   "source": [
    "def P_Saturacion(T):\n",
    "    #Temperatura en ºC y P en bar\n",
    "    T_Kelvin=T + 273.15\n",
    "    if T_Kelvin>=255.9 and T_Kelvin<=373.0:\n",
    "        A=4.6543\n",
    "        B=1435.264\n",
    "        C=-64.848\n",
    "        P = 10 ** (A - (B / (T_Kelvin + C)))\n",
    "\n",
    "    elif  T_Kelvin>=379.0 and  T_Kelvin<=573.0:\n",
    "        A= 3.55959\n",
    "        B=643.748\n",
    "        C=-198.043\n",
    "        P = 10 ** (A - (B / (T_Kelvin + C)))\n",
    "\n",
    "    elif T_Kelvin>373.0 and  T_Kelvin<379.0:\n",
    "        x1=np.linspace(89.85, 99.85, num=21)\n",
    "        x2=np.linspace(105.85, 115.85, num=21)\n",
    "        x = np.append(x1, x2)\n",
    "        vfunc = np.vectorize(P_Saturacion)\n",
    "        y=vfunc(x)\n",
    "        x=x+273.15\n",
    "        f = interp1d(x, y, kind='quadratic')\n",
    "        P=float(f(T_Kelvin))\n",
    "\n",
    "    else:\n",
    "        raise ValueError('Temperatura fuera del intervalo válido')\n",
    "\n",
    "\n",
    "    return P"
   ]
  },
  {
   "cell_type": "code",
   "execution_count": null,
   "metadata": {},
   "outputs": [],
   "source": []
  },
  {
   "cell_type": "code",
   "execution_count": 1,
   "metadata": {
    "colab": {
     "autoexec": {
      "startup": false,
      "wait_interval": 0
     },
     "output_extras": [
      {}
     ]
    },
    "colab_type": "code",
    "id": "HF5u79k_uYFF",
    "outputId": "79601b83-f868-4c32-e681-5631bb05e78d"
   },
   "outputs": [
    {
     "data": {
      "text/html": [
       "<h3 style=\"color:#000000\"><strong>Conocido el caudal másico del medio calentado y los         datos mostrados en la siguiente tabla, determinar el caudal de calor cedido por el vapor y su caudal         másico.</strong></h3>"
      ],
      "text/plain": [
       "<IPython.core.display.HTML object>"
      ]
     },
     "metadata": {},
     "output_type": "display_data"
    },
    {
     "data": {
      "text/html": [
       "<div>\n",
       "<style scoped>\n",
       "    .dataframe tbody tr th:only-of-type {\n",
       "        vertical-align: middle;\n",
       "    }\n",
       "\n",
       "    .dataframe tbody tr th {\n",
       "        vertical-align: top;\n",
       "    }\n",
       "\n",
       "    .dataframe thead th {\n",
       "        text-align: right;\n",
       "    }\n",
       "</style>\n",
       "<table border=\"1\" class=\"dataframe\">\n",
       "  <thead>\n",
       "    <tr style=\"text-align: right;\">\n",
       "      <th></th>\n",
       "      <th>$m_L$ (kg/h)</th>\n",
       "      <th>$h_1$ (kJ/kg)</th>\n",
       "      <th>$h_2$ (kJ/kg)</th>\n",
       "      <th>$h_4$ (kJ/kg)</th>\n",
       "      <th>$h_3$ (kJ/kg)</th>\n",
       "      <th>$Q_p$  (kJ/h)</th>\n",
       "    </tr>\n",
       "  </thead>\n",
       "  <tbody>\n",
       "    <tr>\n",
       "      <th>Datos</th>\n",
       "      <td>10192</td>\n",
       "      <td>146.2</td>\n",
       "      <td>616</td>\n",
       "      <td>2742</td>\n",
       "      <td>275</td>\n",
       "      <td>324</td>\n",
       "    </tr>\n",
       "  </tbody>\n",
       "</table>\n",
       "</div>"
      ],
      "text/plain": [
       "       $m_L$ (kg/h)  $h_1$ (kJ/kg)   $h_2$ (kJ/kg)   $h_4$ (kJ/kg)  \\\n",
       "Datos         10192           146.2             616           2742   \n",
       "\n",
       "       $h_3$ (kJ/kg)  $Q_p$  (kJ/h)  \n",
       "Datos            275            324  "
      ]
     },
     "metadata": {},
     "output_type": "display_data"
    },
    {
     "data": {
      "text/html": [
       "<script>\n",
       "  function code_toggle() {\n",
       "    if (code_shown){\n",
       "      $('div.input').hide('500');\n",
       "      $('#toggleButton').val('Mostrar código')\n",
       "    } else {\n",
       "      $('div.input').show('500');\n",
       "      $('#toggleButton').val('Esconder código')\n",
       "    }\n",
       "    code_shown = !code_shown\n",
       "  }\n",
       "\n",
       "  $( document ).ready(function(){\n",
       "    code_shown=false;\n",
       "    $('div.input').hide()\n",
       "  });\n",
       "</script>\n",
       "<form action=\"javascript:code_toggle()\"><input type=\"submit\" id=\"toggleButton\" value=\"Mostrar código\"></form>"
      ],
      "text/plain": [
       "<IPython.core.display.HTML object>"
      ]
     },
     "metadata": {},
     "output_type": "display_data"
    }
   ],
   "source": [
    "def T_Saturacion(P):\n",
    "    #P en kPa\n",
    "    T_sat=(42.6776-(3892.7/(np.log(P/1000)-9.48654)))-273.15\n",
    "    return T_sat\n",
    "\n",
    "\n",
    "def Entalpia_AguaLiquida(T):\n",
    "    #Correlación válida de 0.01 a 200ºC\n",
    "    H_agua_Saturada=-0.033635409+4.207557011*T-6.200339E-4*T**2+4.459374E-6*T**3 #Entalpia kJ/kg\n",
    "    return H_agua_Saturada\n",
    "\n",
    "def Entalpia_Vapor(T):\n",
    "    # Correlación válida de 0.01 a 200ºC\n",
    "    H_vapor_Saturado=2501.6898445+1.806916015*T+5.087717E-4*T**2-1.1221E-5*T**3\n",
    "    return H_vapor_Saturado\n",
    "\n",
    "\n",
    "\n",
    "def Calor_Latente_Vaporizacion(T):\n",
    "    # Correlación válida de 0.01 a 200ºC\n",
    "    Lamda=2501.897149-2.407064037*T+1.192217E-3*T**2-1.5863E-5*T**3 #kJ/kg\n",
    "    return Lamda\n",
    "\n",
    "def Cp_AguaLiquida(T):\n",
    "    T_Kelvin=(T+273.15)/1000\n",
    "    A = -203.6060\n",
    "    B = 1523.290\n",
    "    C = -3196.413\n",
    "    D = 2474.455\n",
    "    E = 3.855326\n",
    "    Cp = A + B * T_Kelvin + C * T_Kelvin ** 2. + D * T_Kelvin ** 3. + E / (T_Kelvin ** 2.)  # En J/mol·K\n",
    "    Cp_Masa = Cp / 18  # En kJ/kg·K\n",
    "    return Cp_Masa\n",
    "\n",
    "\n",
    "def Cp_AguaVapor(T):\n",
    "    T_Kelvin=(T+273.15)/1000\n",
    "    A = -203.6060\n",
    "    B = 1523.290\n",
    "    C = -3196.413\n",
    "    D = 2474.455\n",
    "    E = 3.855326\n",
    "    Cp = A + B * T_Kelvin + C * T_Kelvin ** 2. + D * T_Kelvin ** 3. + E / (T_Kelvin ** 2.)  # En J/mol·K\n",
    "    Cp_Masa = Cp / 18  # En kJ/kg·K\n",
    "    return Cp_Masa\n",
    "\n",
    "\n",
    "def Cp_vapor(T,P):\n",
    "    # T en ºC y P en Pa\n",
    "    # Correlación válida de 0  a 200 ºC y 200 kPa\n",
    "\n",
    "    if T<50:\n",
    "        AE = 1877.2\n",
    "        BE = -0.49545\n",
    "        CE = 8.1818E-3\n",
    "        AF = 22.537\n",
    "        BF= 0.49321\n",
    "        CF=0.048927\n",
    "    else:\n",
    "        AE = 1856.1\n",
    "        BE = 0.28056\n",
    "        CE = 6.9444E-4\n",
    "        AF = 22.537\n",
    "        BF= 0.49321\n",
    "        CF=0.048927\n",
    "    Ptr=611.657\n",
    "    Cp_Masa =(AE+BE*T +CE*T**2+(1/(AF+BF*T +CF*T**2))*(P-Ptr))/1000\n",
    "     # En kJ/kg·K\n",
    "    return Cp_Masa\n",
    "\n",
    "# mV es el caudal de vapor (kg/h)\n",
    "# mL es el caudal del medio (propiedades agua líquida) (kg/h)\n",
    "# Tv es la temperatura del vapor saturado (ºC)\n",
    "# Pv es la presión del vapor saturado (kPa)\n",
    "# Qp es el caudal de pérdidas de calor (kW)\n",
    "# T1 es la temperatura de entrada del medio (ºC)\n",
    "# T2 es la temperatura de salida del medio (ºC)\n",
    "# lamdaV es el calor latente de vaporización del agua (kJ/kg)\n",
    "# CpV es la capacidad calorífica del vapor  (kJ/kg ºC)\n",
    "# CpL es la capacidad calorífica del agua líquida (kJ/kg ºC)\n",
    "\n",
    "\n",
    "\n",
    "def generador_parametros():  # generación de parámetros del problema\n",
    "\n",
    "    mV=random.randint(100, 300.)\n",
    "    Tv =round(random.uniform(100, 150),1)\n",
    "    Pv=round(P_Saturacion(Tv),3)\n",
    "    lamdaV=round(Calor_Latente_Vaporizacion(Tv))\n",
    "    h2=round(Entalpia_Vapor(Tv))\n",
    "    h1= round(Entalpia_AguaLiquida(Tv))\n",
    "    Qcedido=round((mV*lamdaV))\n",
    "    Qp=round((round(random.uniform(0.05, 0.2),3)*Qcedido))\n",
    "    Qganado=round(Qcedido-Qp)\n",
    "    T4 = round(random.uniform(40, 100), 1)\n",
    "    incrT=round(random.uniform(10, 40), 1)\n",
    "    T3=round(T4-incrT,1)\n",
    "    Tmedia=incrT/2\n",
    "    CpL=round(Cp_AguaLiquida(Tmedia),2)\n",
    "    h3=round(Entalpia_AguaLiquida(T3))\n",
    "    h4=round(Entalpia_AguaLiquida(T4))\n",
    "    mL=round(Qganado/(CpL*incrT))\n",
    "    \n",
    "    return mV,Tv,Pv,lamdaV,h2,h1,Qcedido,Qp,Qganado,T4,incrT,T3,CpL,h3,h4,mL\n",
    "\n",
    "\n",
    "\n",
    "#Definir casos: generar variables y sus valores para mostrarlos\n",
    "\n",
    "mV,Tv,Pv,lamdaV,h2,h1,Qcedido,Qp,Qganado,T4,incrT,T3,CpL,h3,h4,mL=generador_parametros()\n",
    "\n",
    "caso=random.randint(1,2)\n",
    "\n",
    "if caso==1: #determinar un caudal (vapor o medio) conocidas las entalpías del vapor y del medio\n",
    "    subcaso=random.randint(1,2)\n",
    "    \n",
    "    if subcaso==1:\n",
    "        display(HTML('<h3 style=\"color:#000000\"><strong>Conocido el caudal másico de vapor empleado y los \\\n",
    "        datos mostrados en la siguiente tabla, determinar el caudal de calor ganado por el medio y su caudal \\\n",
    "        másico.</strong></h3>'))\n",
    "        \n",
    "        variablesConocidasNombres=[r'$m_V$ (kg/h)',r'$T_1$ (ºC)',r'$h_1$ (kJ/kg) ', \\\n",
    "        r'$h_2$ (kJ/kg) ',r'$h_4$ (kJ/kg)' , r'$h_3$ (kJ/kg)' ,\\\n",
    "        r'$Q_p$  (kJ/h)']        \n",
    "        ValoresMostrados=[mV, Tv, h1, h2, h3, h4, Qp]\n",
    "        \n",
    "        data = dict(zip(variablesConocidasNombres, ValoresMostrados))\n",
    "        values = pd.DataFrame(data, index=['Datos'],columns=variablesConocidasNombres)\n",
    "        display(values)\n",
    "        \n",
    "    if subcaso==2:\n",
    "        display(HTML('<h3 style=\"color:#000000\"><strong>Conocido el caudal másico del medio calentado y los \\\n",
    "        datos mostrados en la siguiente tabla, determinar el caudal de calor cedido por el vapor y su caudal \\\n",
    "        másico.</strong></h3>'))\n",
    "        \n",
    "        variablesConocidasNombres=[r'$m_L$ (kg/h)',r'$h_1$ (kJ/kg) ', \\\n",
    "        r'$h_2$ (kJ/kg) ',r'$h_4$ (kJ/kg)' , r'$h_3$ (kJ/kg)' ,\\\n",
    "        r'$Q_p$  (kJ/h)']        \n",
    "        ValoresMostrados=[mL, Tv, h1, h2, h3, h4, Qp]\n",
    "        \n",
    "        data = dict(zip(variablesConocidasNombres, ValoresMostrados))\n",
    "        values = pd.DataFrame(data, index=['Datos'],columns=variablesConocidasNombres)\n",
    "        display(values)\n",
    "\n",
    "\n",
    "\n",
    "if caso==2: #determinar un caudal (vapor o medio) conocido el calor latente de vapor y el específico del medio\n",
    "    subcaso=random.randint(1,2)\n",
    "    \n",
    "    if subcaso==1:\n",
    "        display(HTML('<h3 style=\"color:#000000\"><strong>Conocido el caudal másico de vapor empleado y los \\\n",
    "        datos mostrados en la siguiente tabla, determinar el caudal de calor ganado por el medio y su caudal \\\n",
    "        másico.</strong></h3>'))\n",
    "        \n",
    "        variablesConocidasNombres=[r'$m_V$ (kg/h)',r'$T_1$ (ºC)',r'$\\lambda$ (kJ/kg) ',\\\n",
    "        r'$C_p$ (kJ/kg·K) ',r'$T_4$ (ºC)', r'$T_3$ (ºC)', r'$Q_p$(kJ/h)']        \n",
    "        ValoresMostrados=[mV, Tv, lamdaV,CpL ,T3 , T4, Qp]\n",
    "        \n",
    "        data = dict(zip(variablesConocidasNombres, ValoresMostrados))\n",
    "        values = pd.DataFrame(data, index=['Datos'],columns=variablesConocidasNombres)\n",
    "        display(values)\n",
    "        \n",
    "    if subcaso==2:\n",
    "        display(HTML('<h3 style=\"color:#000000\"><strong>Conocido el caudal másico del medio calentado y los \\\n",
    "        datos mostrados en la siguiente tabla, determinar el caudal de calor ganado por el medio y su caudal \\\n",
    "        másico.</strong></h3>'))\n",
    "        \n",
    "        \n",
    "        variablesConocidasNombres=[r'$m_L$ (kg/h)',r'$T_1$ (ºC)',r'$\\lambda$ (kJ/kg) ',\\\n",
    "        r'$C_p$ (kJ/kg·K) ',r'$T_4$ (ºC)', r'$T_3$ (ºC)', r'$Q_p$  (kJ/h)']        \n",
    "        ValoresMostrados=[mL, Tv, lamdaV,CpL ,T3 , T4, Qp]\n",
    "        \n",
    "        data = dict(zip(variablesConocidasNombres, ValoresMostrados))\n",
    "        values = pd.DataFrame(data, index=['Datos'],columns=variablesConocidasNombres)\n",
    "        display(values)\n",
    "\n",
    "    \n",
    "display(HTML('''<script>\n",
    "  function code_toggle() {\n",
    "    if (code_shown){\n",
    "      $('div.input').hide('500');\n",
    "      $('#toggleButton').val('Mostrar código')\n",
    "    } else {\n",
    "      $('div.input').show('500');\n",
    "      $('#toggleButton').val('Esconder código')\n",
    "    }\n",
    "    code_shown = !code_shown\n",
    "  }\n",
    "\n",
    "  $( document ).ready(function(){\n",
    "    code_shown=false;\n",
    "    $('div.input').hide()\n",
    "  });\n",
    "</script>\n",
    "<form action=\"javascript:code_toggle()\"><input type=\"submit\" id=\"toggleButton\" value=\"Mostrar código\"></form>'''))"
   ]
  },
  {
   "cell_type": "code",
   "execution_count": 2,
   "metadata": {},
   "outputs": [
    {
     "data": {
      "text/html": [
       "<h3 style=\"color:#000000\"><strong>Los resultados del balance de energía son:</strong></h3>"
      ],
      "text/plain": [
       "<IPython.core.display.HTML object>"
      ]
     },
     "metadata": {},
     "output_type": "display_data"
    },
    {
     "data": {
      "text/html": [
       "<div>\n",
       "<style scoped>\n",
       "    .dataframe tbody tr th:only-of-type {\n",
       "        vertical-align: middle;\n",
       "    }\n",
       "\n",
       "    .dataframe tbody tr th {\n",
       "        vertical-align: top;\n",
       "    }\n",
       "\n",
       "    .dataframe thead th {\n",
       "        text-align: right;\n",
       "    }\n",
       "</style>\n",
       "<table border=\"1\" class=\"dataframe\">\n",
       "  <thead>\n",
       "    <tr style=\"text-align: right;\">\n",
       "      <th></th>\n",
       "      <th>$Q_{cedido}$  (kJ/h)</th>\n",
       "      <th>$m_V$ (kg/h)</th>\n",
       "      <th>$Q_{ganado}$ (kJ/h)</th>\n",
       "    </tr>\n",
       "  </thead>\n",
       "  <tbody>\n",
       "    <tr>\n",
       "      <th>Resultados</th>\n",
       "      <td>542130</td>\n",
       "      <td>255</td>\n",
       "      <td>502012</td>\n",
       "    </tr>\n",
       "  </tbody>\n",
       "</table>\n",
       "</div>"
      ],
      "text/plain": [
       "            $Q_{cedido}$  (kJ/h)  $m_V$ (kg/h)  $Q_{ganado}$ (kJ/h)\n",
       "Resultados                542130           255               502012"
      ]
     },
     "metadata": {},
     "output_type": "display_data"
    }
   ],
   "source": [
    "display(HTML('<h3 style=\"color:#000000\"><strong>Los resultados del balance de energía son:</strong></h3>'))\n",
    "\n",
    "    \n",
    "if subcaso==1:        \n",
    "        \n",
    "    variablesConocidasNombres=[r'$Q_{ganado}$  (kJ/h)',r'$m_L$ (kg/h)', r'$Q_{cedido}$ (kJ/h)']        \n",
    "    ValoresMostrados=[Qganado, mL, Qcedido]\n",
    "        \n",
    "    data1 = dict(zip(variablesConocidasNombres, ValoresMostrados))\n",
    "    values1 = pd.DataFrame(data1, index=['Resultados'],columns=variablesConocidasNombres)\n",
    "    display(values1)\n",
    "        \n",
    "if subcaso==2:                   \n",
    "       \n",
    "    variablesConocidasNombres=[r'$Q_{cedido}$  (kJ/h)',r'$m_V$ (kg/h)', r'$Q_{ganado}$ (kJ/h)']        \n",
    "    ValoresMostrados=[Qcedido, mV, Qganado]\n",
    "\n",
    "    data1 = dict(zip(variablesConocidasNombres, ValoresMostrados))\n",
    "    values1 = pd.DataFrame(data1, index=['Resultados'],columns=variablesConocidasNombres)\n",
    "    display(values1)\n"
   ]
  },
  {
   "cell_type": "code",
   "execution_count": 3,
   "metadata": {
    "colab": {
     "autoexec": {
      "startup": false,
      "wait_interval": 0
     },
     "output_extras": [
      {}
     ]
    },
    "colab_type": "code",
    "id": "lLIa_-sWuYF8",
    "outputId": "2effcb7b-b388-4b31-d02a-11d8e04e4730"
   },
   "outputs": [
    {
     "data": {
      "text/html": [
       "\n",
       "\n",
       "<footer id=\"attribution\" style=\"float:right; color:#999; background:#fff;\">\n",
       "Programado con Jupyter Notebook en Python 3.6. </footer>"
      ],
      "text/plain": [
       "<IPython.core.display.HTML object>"
      ]
     },
     "metadata": {},
     "output_type": "display_data"
    }
   ],
   "source": [
    "display(HTML('''\n",
    "\n",
    "<footer id=\"attribution\" style=\"float:right; color:#999; background:#fff;\">\n",
    "Programado con Jupyter Notebook en Python 3.6. </footer>'''))"
   ]
  }
 ],
 "metadata": {
  "colab": {
   "default_view": {},
   "name": "Ejercicio_BM_Recirculacion.ipynb",
   "provenance": [],
   "version": "0.3.2",
   "views": {}
  },
  "kernelspec": {
   "display_name": "Python 3",
   "language": "python",
   "name": "python3"
  },
  "language_info": {
   "codemirror_mode": {
    "name": "ipython",
    "version": 3
   },
   "file_extension": ".py",
   "mimetype": "text/x-python",
   "name": "python",
   "nbconvert_exporter": "python",
   "pygments_lexer": "ipython3",
   "version": "3.8.5"
  },
  "varInspector": {
   "cols": {
    "lenName": 16,
    "lenType": 16,
    "lenVar": 40
   },
   "kernels_config": {
    "python": {
     "delete_cmd_postfix": "",
     "delete_cmd_prefix": "del ",
     "library": "var_list.py",
     "varRefreshCmd": "print(var_dic_list())"
    },
    "r": {
     "delete_cmd_postfix": ") ",
     "delete_cmd_prefix": "rm(",
     "library": "var_list.r",
     "varRefreshCmd": "cat(var_dic_list()) "
    }
   },
   "types_to_exclude": [
    "module",
    "function",
    "builtin_function_or_method",
    "instance",
    "_Feature"
   ],
   "window_display": false
  }
 },
 "nbformat": 4,
 "nbformat_minor": 1
}
