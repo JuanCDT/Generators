{
 "cells": [
  {
   "cell_type": "markdown",
   "metadata": {},
   "source": [
    "# Problema tipo 3. \n",
    "## Determinación del volumen de un reactor ideal:\n",
    "## *Reactores de Mezcla Perfecta y Flujo Pistón.*"
   ]
  },
  {
   "cell_type": "code",
   "execution_count": 1,
   "metadata": {},
   "outputs": [
    {
     "data": {
      "text/html": [
       "<script>\n",
       "  function code_toggle() {\n",
       "    if (code_shown){\n",
       "      $('div.input').hide('500');\n",
       "      $('#toggleButton').val('Mostrar código')\n",
       "    } else {\n",
       "      $('div.input').show('500');\n",
       "      $('#toggleButton').val('Esconder código')\n",
       "    }\n",
       "    code_shown = !code_shown\n",
       "  }\n",
       "\n",
       "  $( document ).ready(function(){\n",
       "    code_shown=false;\n",
       "    $('div.input').hide()\n",
       "  });\n",
       "</script>\n",
       "<form action=\"javascript:code_toggle()\"><input type=\"submit\" id=\"toggleButton\" value=\"Mostrar código\"></form>"
      ],
      "text/plain": [
       "<IPython.core.display.HTML object>"
      ]
     },
     "metadata": {},
     "output_type": "display_data"
    },
    {
     "data": {
      "text/html": [
       "<h1 style=\"color:#C30\"><strong>Avanzar para generar datos</strong></h1>"
      ],
      "text/plain": [
       "<IPython.core.display.HTML object>"
      ]
     },
     "metadata": {},
     "output_type": "display_data"
    },
    {
     "data": {
      "text/html": [
       "<p>Recuerda que una ecuación cinética de tipo potencial            tiene la forma:</br>  </p>"
      ],
      "text/plain": [
       "<IPython.core.display.HTML object>"
      ]
     },
     "metadata": {},
     "output_type": "display_data"
    },
    {
     "data": {
      "text/latex": [
       "$\\displaystyle r=k\\cdot C_A^n$"
      ],
      "text/plain": [
       "<IPython.core.display.Math object>"
      ]
     },
     "metadata": {},
     "output_type": "display_data"
    }
   ],
   "source": [
    "# %matplotlib inline\n",
    "\n",
    "%matplotlib notebook\n",
    "import numpy as np\n",
    "from scipy import optimize\n",
    "from scipy.integrate import ode\n",
    "import matplotlib.pyplot as mpl\n",
    "import random\n",
    "import math\n",
    "import pandas as pd\n",
    "import IPython.core.display as di\n",
    "pd.set_option('display.notebook_repr_html', True)\n",
    "from ipywidgets import interact\n",
    "import notebook\n",
    "from IPython.display import clear_output, display, HTML, Image,Math, Latex\n",
    "from IPython.external import mathjax\n",
    "FigureSize=(6,5)\n",
    "\n",
    "\n",
    "def generador_parametros(): #generación de parámetros de la ecuación cinética y Temperatura de trabajo\n",
    "    global k, Ea, Ln_K0, n, T,Qv,Ca0,Xas\n",
    "    \n",
    "    Ea=random.uniform(40.,80.0)\n",
    "    Ca0=round(random.uniform(5.,10.),1)\n",
    "    Xas=round(random.uniform(0.5,1.0),2)\n",
    "    Ln_K0 = random.uniform(15.,25.)\n",
    "    T= random.uniform(40., 80.) #Temperatura en ºC\n",
    "    T1=T+273.15 #Temperatura en K\n",
    "    k = math.exp(Ln_K0)*math.exp(Ea*(-1000.)/(8.31*(T1)))\n",
    "    n=random.choice([0.5,1,2])   \n",
    "    Qv=round(random.uniform(50,100),0) #Caudal volumétrico en L/min\n",
    "    \n",
    "    return k,n,T,Qv,Ca0,Xas\n",
    "\n",
    "\n",
    "\n",
    "def Reactor_MP(Qv,n,k,Ca0,Xas): #Cálculo del volumen del rtor MP\n",
    "\n",
    "    Volumen=Qv*(Ca0*Xas/(((Ca0*(1-Xas))**n)*k))\n",
    "    return Volumen\n",
    "\n",
    "\n",
    "\n",
    "def f(Xa,V,n,k,Ca0,Qv): #ecuación cinética\n",
    "\n",
    "    t_residencia=(Qv)/(k*(Ca0**(n-1))*(1-Xa)**n)\n",
    "    return t_residencia\n",
    "\n",
    "\n",
    "\n",
    "\n",
    "def Reactor_FP(Qv,n,k,Ca0,Xas):\n",
    "       \n",
    "    incr_Xa=0.005\n",
    "\n",
    "    V = []\n",
    "    Xa = []\n",
    "\n",
    "    Xa0=0.\n",
    "    V_inicial=0.\n",
    "    \n",
    "    V.append(0.)\n",
    "    Xa.append(0.)\n",
    "\n",
    "    r = ode(f).set_integrator('vode', method='bdf', nsteps=1000, atol = 1.0e-05, rtol = 1.0e-05)\n",
    "    r.set_initial_value(V_inicial,Xa0).set_f_params(n,k,Ca0,Qv)\n",
    "    #print(t[0], Ca[0])\n",
    "    #print ('r_t: ',r.t,'Ca0: ',r.y)\n",
    "\n",
    "    while r.successful() and Xa[-1]<=Xas:\n",
    "        r.integrate(r.t + incr_Xa)\n",
    "        #Ca[k1]=r.y\n",
    "        V.append(r.y)\n",
    "        Xa.append(r.t)\n",
    "        #print ('tiempo:', '%.2f' % t[k], 'Ca:','%.4f'%Ca[k])\n",
    "\n",
    "\n",
    "    return V[-1]\n",
    "\n",
    "\n",
    "display(HTML('''<script>\n",
    "  function code_toggle() {\n",
    "    if (code_shown){\n",
    "      $('div.input').hide('500');\n",
    "      $('#toggleButton').val('Mostrar código')\n",
    "    } else {\n",
    "      $('div.input').show('500');\n",
    "      $('#toggleButton').val('Esconder código')\n",
    "    }\n",
    "    code_shown = !code_shown\n",
    "  }\n",
    "\n",
    "  $( document ).ready(function(){\n",
    "    code_shown=false;\n",
    "    $('div.input').hide()\n",
    "  });\n",
    "</script>\n",
    "<form action=\"javascript:code_toggle()\"><input type=\"submit\" id=\"toggleButton\" value=\"Mostrar código\"></form>'''))\n",
    "\n",
    "display(HTML('<h1 style=\"color:#C30\"><strong>Avanzar para generar datos</strong></h1>'))\n",
    "display(HTML('<p>Recuerda que una ecuación cinética de tipo potencial\\\n",
    "            tiene la forma:</br>  </p>' ))\n",
    "display(Math(r'r=k\\cdot C_A^n'))\n",
    "\n"
   ]
  },
  {
   "cell_type": "code",
   "execution_count": 2,
   "metadata": {},
   "outputs": [
    {
     "data": {
      "text/html": [
       "<h1 style=\"color:#C30\"><strong>Los datos del sistema son:</strong></h1>"
      ],
      "text/plain": [
       "<IPython.core.display.HTML object>"
      ]
     },
     "metadata": {},
     "output_type": "display_data"
    },
    {
     "data": {
      "text/html": [
       "<div>\n",
       "<style scoped>\n",
       "    .dataframe tbody tr th:only-of-type {\n",
       "        vertical-align: middle;\n",
       "    }\n",
       "\n",
       "    .dataframe tbody tr th {\n",
       "        vertical-align: top;\n",
       "    }\n",
       "\n",
       "    .dataframe thead th {\n",
       "        text-align: right;\n",
       "    }\n",
       "</style>\n",
       "<table border=\"1\" class=\"dataframe\">\n",
       "  <thead>\n",
       "    <tr style=\"text-align: right;\">\n",
       "      <th></th>\n",
       "      <th>Ln k:</th>\n",
       "      <th>n</th>\n",
       "      <th>Temperatura (ºC)</th>\n",
       "      <th>Qv (L/min)</th>\n",
       "      <th>Ca0 (mol/L)</th>\n",
       "      <th>Conversión (Xas)</th>\n",
       "    </tr>\n",
       "  </thead>\n",
       "  <tbody>\n",
       "    <tr>\n",
       "      <th>Valores</th>\n",
       "      <td>3.334</td>\n",
       "      <td>2</td>\n",
       "      <td>77.2</td>\n",
       "      <td>72.0</td>\n",
       "      <td>6.1</td>\n",
       "      <td>0.73</td>\n",
       "    </tr>\n",
       "  </tbody>\n",
       "</table>\n",
       "</div>"
      ],
      "text/plain": [
       "         Ln k:  n  Temperatura (ºC)  Qv (L/min)  Ca0 (mol/L)  Conversión (Xas)\n",
       "Valores  3.334  2              77.2        72.0          6.1              0.73"
      ]
     },
     "metadata": {},
     "output_type": "display_data"
    }
   ],
   "source": [
    "display(HTML('<h1 style=\"color:#C30\"><strong>Los datos del sistema son:</strong></h1>'))\n",
    "\n",
    "k,n,T,Qv,Ca0,Xas=generador_parametros()\n",
    "\n",
    "valores=[np.round(math.log(k),3),np.round(n,2),np.round(T,1),np.round(Qv,1),np.round(Ca0,2),np.round(Xas,2)]\n",
    "etiquetas=['Ln k:','n', 'Temperatura (ºC)','Qv (L/min)','Ca0 (mol/L)','Conversión (Xas)']\n",
    "data = dict(zip(etiquetas, valores))\n",
    "\n",
    "values = pd.DataFrame(data,index=['Valores'], columns=etiquetas)\n",
    "\n",
    "\n",
    "display(values)\n",
    "\n",
    "\n",
    "#print (\"Ln k: \",'%.3f' % math.log(k), \"; n: \", '%.2f' % n, '; T (ºC): ','%.1f' % T, '; Qv (L/min): ','%.1f' % Qv,\n",
    "      # '; Ca0 (mol/L): ','%.2f' % Ca0,  '; Xas: ','%.2f' % Xas)"
   ]
  },
  {
   "cell_type": "code",
   "execution_count": 3,
   "metadata": {},
   "outputs": [
    {
     "data": {
      "text/html": [
       "<h1 style=\"color:#C30\"><strong>Reactor Mezcla Perfecta - CSTR (continuous flow stirred-tank reactor) en sus siglas en inglés -. </strong></h1>"
      ],
      "text/plain": [
       "<IPython.core.display.HTML object>"
      ]
     },
     "metadata": {},
     "output_type": "display_data"
    },
    {
     "data": {
      "image/jpeg": "[encoded data removed]",
      "text/plain": [
       "<IPython.core.display.Image object>"
      ]
     },
     "metadata": {},
     "output_type": "display_data"
    }
   ],
   "source": [
    "display(HTML('<h1 style=\"color:#C30\"><strong>Reactor Mezcla Perfecta - CSTR (continuous flow stirred-tank reactor) en sus siglas en inglés -. </strong></h1>' ))\n",
    "display(Image(filename='./Imagenes/Rtor Mezcla Completa.jpeg'));\n",
    "\n"
   ]
  },
  {
   "cell_type": "code",
   "execution_count": 4,
   "metadata": {},
   "outputs": [
    {
     "data": {
      "text/html": [
       "<h1 style=\"color:#C30\"><strong>La ecuación de diseño de un reactor Mezcla Perfecta es:</br> </strong></h1>"
      ],
      "text/plain": [
       "<IPython.core.display.HTML object>"
      ]
     },
     "metadata": {},
     "output_type": "display_data"
    },
    {
     "data": {
      "text/latex": [
       "$\\displaystyle \\frac{V}{Q_V}=\\frac{C_A^{entrada} \\cdot X_A}{(-R_A)}$"
      ],
      "text/plain": [
       "<IPython.core.display.Math object>"
      ]
     },
     "metadata": {},
     "output_type": "display_data"
    }
   ],
   "source": [
    "display(HTML('<h1 style=\"color:#C30\"><strong>La ecuación de diseño de un reactor Mezcla Perfecta es:</br> </strong></h1>' ))\n",
    "display(Math(r'\\frac{V}{Q_V}=\\frac{C_A^{entrada} \\cdot X_A}{(-R_A)}'))"
   ]
  },
  {
   "cell_type": "code",
   "execution_count": 5,
   "metadata": {},
   "outputs": [
    {
     "name": "stdout",
     "output_type": "stream",
     "text": [
      "El volumen del reactor Mezcla Perfecta es:  4.2  L\n"
     ]
    }
   ],
   "source": [
    "print ('El volumen del reactor Mezcla Perfecta es: ','%.1f' % Reactor_MP(Qv,n,k,Ca0,Xas),' L')"
   ]
  },
  {
   "cell_type": "code",
   "execution_count": 6,
   "metadata": {},
   "outputs": [
    {
     "data": {
      "text/html": [
       "<h1 style=\"color:#C30\"><strong>Reactor Flujo Piston - PFR (Plug flow reactor) en sus siglas en inglés -. </strong></h1>"
      ],
      "text/plain": [
       "<IPython.core.display.HTML object>"
      ]
     },
     "metadata": {},
     "output_type": "display_data"
    },
    {
     "data": {
      "image/png": "[encoded data removed]",
      "text/plain": [
       "<IPython.core.display.Image object>"
      ]
     },
     "metadata": {
      "image/png": {
       "width": 500
      }
     },
     "output_type": "display_data"
    }
   ],
   "source": [
    "display(HTML('<h1 style=\"color:#C30\"><strong>Reactor Flujo Piston - PFR (Plug flow reactor) en sus siglas en inglés -. </strong></h1>' ))\n",
    "display(Image(filename='./Imagenes/Rtor flujo piston.png', width=500));"
   ]
  },
  {
   "cell_type": "code",
   "execution_count": 7,
   "metadata": {},
   "outputs": [
    {
     "data": {
      "text/html": [
       "<h1 style=\"color:#C30\"><strong>La ecuación de diseño de un reactor Flujo Pistón es:</br> </strong></h1>"
      ],
      "text/plain": [
       "<IPython.core.display.HTML object>"
      ]
     },
     "metadata": {},
     "output_type": "display_data"
    },
    {
     "data": {
      "text/latex": [
       "$\\displaystyle \\frac{dV}{Q_V}=\\int_{X_A^{entrada}}^{X_A^{salida}}\\frac{C_A^{entrada} \\cdot X_A}{(-R_A)}$"
      ],
      "text/plain": [
       "<IPython.core.display.Math object>"
      ]
     },
     "metadata": {},
     "output_type": "display_data"
    }
   ],
   "source": [
    "display(HTML('<h1 style=\"color:#C30\"><strong>La ecuación de diseño de un reactor Flujo Pistón es:</br> </strong></h1>' ))\n",
    "display(Math(r'\\frac{dV}{Q_V}=\\int_{X_A^{entrada}}^{X_A^{salida}}\\frac{C_A^{entrada} \\cdot X_A}{(-R_A)}'))"
   ]
  },
  {
   "cell_type": "code",
   "execution_count": 8,
   "metadata": {},
   "outputs": [
    {
     "name": "stdout",
     "output_type": "stream",
     "text": [
      "El volumen del reactor Flujo Pistón es:  1.1  L\n"
     ]
    }
   ],
   "source": [
    "print ('El volumen del reactor Flujo Pistón es: ','%.1f' % Reactor_FP(Qv,n,k,Ca0,Xas),' L')"
   ]
  },
  {
   "cell_type": "code",
   "execution_count": 9,
   "metadata": {},
   "outputs": [
    {
     "data": {
      "text/html": [
       "\n",
       "\n",
       "<footer id=\"attribution\" style=\"float:right; color:#999; background:#fff;\">\n",
       "Programado con Jupyter. </footer>"
      ],
      "text/plain": [
       "<IPython.core.display.HTML object>"
      ]
     },
     "metadata": {},
     "output_type": "display_data"
    }
   ],
   "source": [
    "display(HTML('''\n",
    "\n",
    "<footer id=\"attribution\" style=\"float:right; color:#999; background:#fff;\">\n",
    "Programado con Jupyter. </footer>'''))"
   ]
  }
 ],
 "metadata": {
  "anaconda-cloud": {},
  "kernelspec": {
   "display_name": "Python 3",
   "language": "python",
   "name": "python3"
  },
  "language_info": {
   "codemirror_mode": {
    "name": "ipython",
    "version": 3
   },
   "file_extension": ".py",
   "mimetype": "text/x-python",
   "name": "python",
   "nbconvert_exporter": "python",
   "pygments_lexer": "ipython3",
   "version": "3.6.8"
  },
  "toc": {
   "base_numbering": 1,
   "nav_menu": {
    "height": "81px",
    "width": "252px"
   },
   "number_sections": true,
   "sideBar": true,
   "skip_h1_title": false,
   "title_cell": "Table of Contents",
   "title_sidebar": "Contents",
   "toc_cell": false,
   "toc_position": {},
   "toc_section_display": "block",
   "toc_window_display": false
  }
 },
 "nbformat": 4,
 "nbformat_minor": 1
}
