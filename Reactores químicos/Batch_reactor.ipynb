{
 "cells": [
  {
   "cell_type": "markdown",
   "metadata": {},
   "source": [
    "# Chemical kinetics\n",
    "## Series reactions:"
   ]
  },
  {
   "cell_type": "code",
   "execution_count": 4,
   "metadata": {
    "ExecuteTime": {
     "end_time": "2023-09-19T15:13:59.550245400Z",
     "start_time": "2023-09-19T15:13:59.448957800Z"
    }
   },
   "outputs": [
    {
     "data": {
      "text/plain": "<IPython.core.display.HTML object>",
      "text/html": "<script>\n  function code_toggle() {\n    if (code_shown){\n      $('div.input').hide('500');\n      $('#toggleButton').val('Show code')\n    } else {\n      $('div.input').show('500');\n      $('#toggleButton').val('Hide code')\n    }\n    code_shown = !code_shown\n  }\n\n  $( document ).ready(function(){\n    code_shown=false;\n    $('div.input').hide()\n  });\n</script>\n<form action=\"javascript:code_toggle()\"><input type=\"submit\" id=\"toggleButton\" value=\"Show code\"></form>"
     },
     "metadata": {},
     "output_type": "display_data"
    },
    {
     "data": {
      "text/plain": "<IPython.core.display.HTML object>",
      "text/html": "<h1 style=\"color:#000000\"><strong>Basic equations</strong></h1>"
     },
     "metadata": {},
     "output_type": "display_data"
    },
    {
     "data": {
      "text/plain": "<IPython.core.display.HTML object>",
      "text/html": "<h2><br>Power law kinetics:</br>  </h2>"
     },
     "metadata": {},
     "output_type": "display_data"
    },
    {
     "data": {
      "text/plain": "<IPython.core.display.Math object>",
      "text/latex": "$\\displaystyle A \\rightarrow B$"
     },
     "metadata": {},
     "output_type": "display_data"
    },
    {
     "data": {
      "text/plain": "<IPython.core.display.Math object>",
      "text/latex": "$\\displaystyle B \\rightarrow C$"
     },
     "metadata": {},
     "output_type": "display_data"
    },
    {
     "data": {
      "text/plain": "<IPython.core.display.Math object>",
      "text/latex": "$\\displaystyle -r_A=\\frac{dC_A}{dt}=k_1\\cdot C_A^n$"
     },
     "metadata": {},
     "output_type": "display_data"
    },
    {
     "data": {
      "text/plain": "<IPython.core.display.Math object>",
      "text/latex": "$\\displaystyle r_B=\\frac{dC_C}{dt}=k_1\\cdot C_A^n - k_2\\cdot C_B^m$"
     },
     "metadata": {},
     "output_type": "display_data"
    },
    {
     "data": {
      "text/plain": "<IPython.core.display.Math object>",
      "text/latex": "$\\displaystyle r_C=\\frac{dC_B}{dt}=k2\\cdot C_B^m$"
     },
     "metadata": {},
     "output_type": "display_data"
    },
    {
     "data": {
      "text/plain": "<IPython.core.display.HTML object>",
      "text/html": "<h2><br>Arrhenius equations:</br>  </h2>"
     },
     "metadata": {},
     "output_type": "display_data"
    },
    {
     "data": {
      "text/plain": "<IPython.core.display.Math object>",
      "text/latex": "$\\displaystyle k_1=A_1\\cdot exp\\left(\\frac{-E_1}{R\\cdot T}\\right)$"
     },
     "metadata": {},
     "output_type": "display_data"
    },
    {
     "data": {
      "text/plain": "<IPython.core.display.Math object>",
      "text/latex": "$\\displaystyle k_2=A_2\\cdot exp\\left(\\frac{-E_2}{R\\cdot T}\\right)$"
     },
     "metadata": {},
     "output_type": "display_data"
    }
   ],
   "source": [
    "\n",
    "#%matplotlib notebook\n",
    "\n",
    "%matplotlib inline\n",
    "import seaborn\n",
    "import numpy as np\n",
    "from scipy.integrate import odeint\n",
    "import matplotlib.pyplot as mpl\n",
    "import math\n",
    "import pandas as pd\n",
    "import IPython.core.display as di\n",
    "pd.set_option('display.notebook_repr_html', True)\n",
    "import ipywidgets as widgets\n",
    "from ipywidgets import interact, IntSlider, FloatSlider,fixed\n",
    "import notebook\n",
    "from IPython.display import clear_output, display, HTML, Image,Math, Latex\n",
    "import warnings\n",
    "\n",
    "warnings.filterwarnings('ignore')\n",
    "FigureSize=(20,6)\n",
    "\n",
    "# A1 = 1.913 # units depend on the reaction order - same units as rate constant\n",
    "# A2 = 0.547 # units depend on the reaction order - same units as rate constant\n",
    "A1 = 1 # units depend on the reaction order - same units as rate constant\n",
    "A2 = 1 # units depend on the reaction order - same units as rate constant\n",
    "E1 = 800 # cal/mol\n",
    "E2 = 600  # cal/mol\n",
    "R = 1.987 # cal/mol·K\n",
    "\n",
    "def System(Yfun, t, A1, A2, E1, E2, T, n, m):\n",
    "    Ca = Yfun[0] \n",
    "    Cb = Yfun[1] \n",
    "    Cc = Yfun[2]  \n",
    "    # Arrhenius equations\n",
    "    k1=A1*np.exp(-E1/(R*T))\n",
    "    k2=A2*np.exp(-E2/(R*T))\n",
    "    ra=-k1*Ca**n\n",
    "    rb=k1*Ca**n-k2*Cb**m\n",
    "    rc=k2*Cb**m\n",
    "    # Reaction rates\n",
    "    dCadt = ra \n",
    "    dCbdt = rb \n",
    "    dCcdt = rc \n",
    "    return np.array([dCadt, dCbdt, dCcdt]) \n",
    "\n",
    "\n",
    "display(HTML('''<script>\n",
    "  function code_toggle() {\n",
    "    if (code_shown){\n",
    "      $('div.input').hide('500');\n",
    "      $('#toggleButton').val('Show code')\n",
    "    } else {\n",
    "      $('div.input').show('500');\n",
    "      $('#toggleButton').val('Hide code')\n",
    "    }\n",
    "    code_shown = !code_shown\n",
    "  }\n",
    "\n",
    "  $( document ).ready(function(){\n",
    "    code_shown=false;\n",
    "    $('div.input').hide()\n",
    "  });\n",
    "</script>\n",
    "<form action=\"javascript:code_toggle()\"><input type=\"submit\" id=\"toggleButton\" value=\"Show code\"></form>'''))\n",
    "\n",
    "\n",
    "display(HTML('<h1 style=\"color:#000000\"><strong>Basic equations</strong></h1>'))\n",
    "display(HTML('<h2><br>Power law kinetics:</br>  </h2>' ))\n",
    "display(Math(r'A \\rightarrow B'))\n",
    "display(Math(r'B \\rightarrow C'))\n",
    "display(Math(r'-r_A=\\frac{dC_A}{dt}=k_1\\cdot C_A^n'))\n",
    "display(Math(r'r_B=\\frac{dC_C}{dt}=k_1\\cdot C_A^n - k_2\\cdot C_B^m'))\n",
    "display(Math(r'r_C=\\frac{dC_B}{dt}=k2\\cdot C_B^m'))\n",
    "display(HTML('<h2><br>Arrhenius equations:</br>  </h2>' ))\n",
    "display(Math(r'k_1=A_1\\cdot exp\\left(\\frac{-E_1}{R\\cdot T}\\right)'))\n",
    "display(Math(r'k_2=A_2\\cdot exp\\left(\\frac{-E_2}{R\\cdot T}\\right)'))\n"
   ]
  },
  {
   "cell_type": "code",
   "execution_count": 5,
   "metadata": {
    "ExecuteTime": {
     "end_time": "2023-09-19T15:13:59.800042Z",
     "start_time": "2023-09-19T15:13:59.501389600Z"
    }
   },
   "outputs": [
    {
     "data": {
      "text/plain": "<IPython.core.display.HTML object>",
      "text/html": "<h1 style=\"color:#000000\"><strong>Concentration profiles vs. time</strong></h1>"
     },
     "metadata": {},
     "output_type": "display_data"
    },
    {
     "data": {
      "text/plain": "interactive(children=(FloatSlider(value=350.0, continuous_update=False, description='Temperature (K):', max=40…",
      "application/vnd.jupyter.widget-view+json": {
       "version_major": 2,
       "version_minor": 0,
       "model_id": "640ee09636c247a3affeb82cbfc4f4ca"
      }
     },
     "metadata": {},
     "output_type": "display_data"
    }
   ],
   "source": [
    "def Graphic_profiles(T, Ca_0, Cb_0, n, m, ratio, parametros):\n",
    "    \n",
    "    A1, A2, E1, E2, R = parametros \n",
    "    E2 = E1*ratio\n",
    "\n",
    "    t = np.linspace(0, 20, 1000) # Vector de tiempo en horas\n",
    "    y0 = np.array([Ca_0, Cb_0, 0]) # Valores iniciales de las concentraciones de A, B, C\n",
    "    \n",
    "    Temp = T # Temperature in K\n",
    "    \n",
    "    sol = odeint(System, y0, t, (A1,A2, E1, E2, T, n, m))\n",
    "    Ca = sol[:, 0]\n",
    "    Cb = sol[:, 1]\n",
    "    Cc = sol[:, 2]\n",
    "    max_value = max((Ca.max(), Cb.max(), Cc.max()))\n",
    "#     selectivity = np.nan_to_num(Cb/Cc)\n",
    "#     Yield = np.nan_to_num(Cb/(Ca_0 - Ca))\n",
    "#     X = (Ca_0 - Ca)/Ca_0 # Conversion\n",
    "    \n",
    "    fig1 = mpl.figure(figsize=FigureSize);\n",
    "    mpl.clf()\n",
    "    ax1 = fig1.add_subplot(121);\n",
    "    height=[]\n",
    "    \n",
    "    p1,p2,p3  = ax1.plot(t, Ca, t, Cb, t, Cc)\n",
    "    ax1.legend(['$C_A$', '$C_B$', '$C_C$'], loc='center right')\n",
    "    ax1.set_xlabel('time(h)', fontsize='medium', )\n",
    "    ax1.set_ylabel('$Concentration(mol/L)$', fontsize='medium', )\n",
    "    ax1.grid()\n",
    "    ax1.set_xlim(0, 20)\n",
    "    ax1.set_ylim(0, max_value+0.2)\n",
    "    \n",
    "#     ax2 = fig1.add_subplot(122);\n",
    "    \n",
    "#     p4,p5,p6 = ax2.plot(t, X, selectivity, Yield)[0]\n",
    "#     ax2.legend(['X', 'Selectivity o B','Yield of B'], loc='upper left')\n",
    "#     ax2.set_xlabel('time(h)', fontsize='medium', )\n",
    "#     ax2.set_ylabel('[ ]', fontsize='medium', )\n",
    "#     ax2.grid()\n",
    "#     ax2.set_xlim(0, 20)\n",
    "#     ax2.set_ylim(0, 1.05)\n",
    "    \n",
    "    \n",
    "Temp_widget=widgets.FloatSlider(\n",
    "    value=350,\n",
    "    min=300,\n",
    "    max=400,\n",
    "    step=5,\n",
    "    description='Temperature (K):',\n",
    "    disabled=False,\n",
    "    continuous_update=False,\n",
    "    orientation='horizontal',\n",
    "    readout=True,\n",
    "    readout_format='.2f',\n",
    "    slider_color='lightblue')\n",
    "\n",
    "ratio_widget=widgets.FloatSlider(\n",
    "    value=1,\n",
    "    min=0.2,\n",
    "    max=3,\n",
    "    step=0.2,\n",
    "    description='ratio (E2/E1):',\n",
    "    disabled=False,\n",
    "    continuous_update=False,\n",
    "    orientation='horizontal',\n",
    "    readout=True,\n",
    "    readout_format='.2f',\n",
    "    slider_color='lightblue')\n",
    "\n",
    "    \n",
    "C_a0_widget=widgets.FloatSlider(\n",
    "    value=2,\n",
    "    min=1,\n",
    "    max=4,\n",
    "    step=0.1,\n",
    "    description='Initial CA:',\n",
    "    disabled=False,\n",
    "    continuous_update=False,\n",
    "    orientation='horizontal',\n",
    "    readout=True,\n",
    "    readout_format='.2f',\n",
    "    slider_color='lightblue')\n",
    "\n",
    "C_b0_widget=widgets.FloatSlider(\n",
    "    value=0,\n",
    "    min=0,\n",
    "    max=2,\n",
    "    step=0.1,\n",
    "    description='Initial CB:',\n",
    "    disabled=False,\n",
    "    continuous_update=False,\n",
    "    orientation='horizontal',\n",
    "    readout=True,\n",
    "    readout_format='.2f',\n",
    "    slider_color='lightblue')\n",
    "    \n",
    "    \n",
    "n_widget=widgets.IntSlider(\n",
    "    value=1.0,\n",
    "    min=0,\n",
    "    max=3,\n",
    "    step=1,\n",
    "    description='n reaction order:',\n",
    "    disabled=False,\n",
    "    continuous_update=False,\n",
    "    orientation='horizontal',\n",
    "    readout=True,\n",
    "    readout_format='d',\n",
    "    slider_color='lightblue')\n",
    "\n",
    "m_widget=widgets.IntSlider(\n",
    "    value=1.0,\n",
    "    min=0,\n",
    "    max=3,\n",
    "    step=1,\n",
    "    description='m reaction order:',\n",
    "    disabled=False,\n",
    "    continuous_update=False,\n",
    "    orientation='horizontal',\n",
    "    readout=True,\n",
    "    readout_format='d',\n",
    "    slider_color='lightblue')\n",
    "\n",
    "\n",
    "display(HTML('<h1 style=\"color:#000000\"><strong>Concentration profiles vs. time</strong></h1>'))\n",
    "\n",
    "interact(Graphic_profiles,T=Temp_widget, Ca_0 = C_a0_widget, Cb_0= C_b0_widget, n=n_widget, m=m_widget, ratio = ratio_widget, parametros=fixed([A1, A2, E1, E2, R]));\n",
    "    \n",
    "    \n",
    "    "
   ]
  },
  {
   "cell_type": "code",
   "execution_count": 6,
   "metadata": {
    "ExecuteTime": {
     "end_time": "2023-09-19T15:13:59.955356600Z",
     "start_time": "2023-09-19T15:13:59.827538800Z"
    }
   },
   "outputs": [
    {
     "data": {
      "text/plain": "<IPython.core.display.HTML object>",
      "text/html": "\n\n<footer id=\"attribution\" style=\"float:right; color:#999; background:#fff;\">\nPython 3.11. </footer>"
     },
     "metadata": {},
     "output_type": "display_data"
    }
   ],
   "source": [
    "display(HTML('''\n",
    "\n",
    "<footer id=\"attribution\" style=\"float:right; color:#999; background:#fff;\">\n",
    "Python 3.11. </footer>'''))"
   ]
  }
 ],
 "metadata": {
  "anaconda-cloud": {},
  "celltoolbar": "Raw Cell Format",
  "kernelspec": {
   "display_name": "Python 3 (ipykernel)",
   "language": "python",
   "name": "python3"
  },
  "language_info": {
   "codemirror_mode": {
    "name": "ipython",
    "version": 3
   },
   "file_extension": ".py",
   "mimetype": "text/x-python",
   "name": "python",
   "nbconvert_exporter": "python",
   "pygments_lexer": "ipython3",
   "version": "3.7.9"
  },
  "toc": {
   "colors": {
    "hover_highlight": "#DAA520",
    "navigate_num": "#000000",
    "navigate_text": "#333333",
    "running_highlight": "#FF0000",
    "selected_highlight": "#FFD700",
    "sidebar_border": "#EEEEEE",
    "wrapper_background": "#FFFFFF"
   },
   "moveMenuLeft": true,
   "nav_menu": {
    "height": "81px",
    "width": "252px"
   },
   "navigate_menu": true,
   "number_sections": true,
   "sideBar": true,
   "threshold": 4,
   "toc_cell": false,
   "toc_section_display": "block",
   "toc_window_display": false,
   "widenNotebook": false
  }
 },
 "nbformat": 4,
 "nbformat_minor": 1
}
