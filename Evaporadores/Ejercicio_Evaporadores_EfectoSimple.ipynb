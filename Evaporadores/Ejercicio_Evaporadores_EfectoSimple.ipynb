{
 "cells": [
  {
   "cell_type": "markdown",
   "metadata": {},
   "source": [
    "# Evaporadores\n",
    "## Determinación del área de intercambio de calor de un evaporador de efecto simple\n",
    "\n",
    "### Esquema del evaporador de efecto doble:\n",
    "\n",
    "\n",
    "<img src=\"./Imagenes/Esquema_Evaporador_EfectoSimple.jpg\" height=\"300\" width=\"300\"/>\n"
   ]
  },
  {
   "cell_type": "code",
   "execution_count": 1,
   "metadata": {},
   "outputs": [
    {
     "data": {
      "text/html": [
       "<script>\n",
       "  function code_toggle() {\n",
       "    if (code_shown){\n",
       "      $('div.input').hide('500');CaudalAlimento,W_SolutoAlimento,W_SolutoProducto,Temperatura_Alimento,T_SaturacionVapor,           T_SaturacionCondensador,U, Teb=generador_parametros()\n",
       "\n",
       "      $('#toggleButton').val('Mostrar código')\n",
       "    } else {\n",
       "      $('div.input').show('500');\n",
       "      $('#toggleButton').val('Esconder código')\n",
       "    }\n",
       "    code_shown = !code_shown\n",
       "  }\n",
       "\n",
       "  $( document ).ready(function(){\n",
       "    code_shown=false;\n",
       "    $('div.input').hide()\n",
       "  });\n",
       "</script>\n",
       "<form action=\"javascript:code_toggle()\"><input type=\"submit\" id=\"toggleButton\" value=\"Mostrar código\"></form>"
      ],
      "text/plain": [
       "<IPython.core.display.HTML object>"
      ]
     },
     "metadata": {},
     "output_type": "display_data"
    },
    {
     "data": {
      "text/html": [
       "<h1 style=\"color:#000000\"><strong>Avanzar para generar datos</strong></h1>"
      ],
      "text/plain": [
       "<IPython.core.display.HTML object>"
      ]
     },
     "metadata": {},
     "output_type": "display_data"
    }
   ],
   "source": [
    "%matplotlib inline\n",
    "import numpy as np\n",
    "from scipy import optimize\n",
    "from scipy.integrate import ode\n",
    "import matplotlib.pyplot as mpl\n",
    "import matplotlib.patches as patches\n",
    "import random\n",
    "import math\n",
    "import pandas as pd\n",
    "import IPython.core.display as di\n",
    "from ipywidgets import interact\n",
    "import notebook\n",
    "from IPython.display import clear_output, display, HTML, Image,Math, Latex\n",
    "from IPython.external import mathjax\n",
    "\n",
    "\n",
    "Cp_disolucion = 1  # Cp en kcal/kg·ºC\n",
    "\n",
    "\n",
    "def generador_parametros():  # generación de parámetros del problema de un evaporador de doble efecto\n",
    "\n",
    "    CaudalAlimento = round(random.uniform(20000., 35000.))  # Caudal másico alimento\n",
    "    W_SolutoAlimento = round(random.uniform(0.01, 0.05), 3)  # Fracción másica soluto en la alimentación\n",
    "    W_SolutoProducto = round(random.uniform(0.35, 0.55), 3)  # CFracción másica soluto en la salida del segundo elemento\n",
    "    Temperatura_Alimento = round(random.uniform(15., 25.), 1)  # Temperatura del alimento\n",
    "    T_SaturacionVapor = round(random.uniform(110., 125.), 1)  # Temperatura de saturación del vapor de agua\n",
    "    T_SaturacionCondensador = round(random.uniform(45., 75.), 1)  # Temperatura de saturación condensador\n",
    "    U = round(random.uniform(2500, 2900.))  # Coeff. Global Efecto\n",
    "    Teb = round(random.uniform(2, 10.), 1)  # Elevación del punto de ebullición\n",
    "\n",
    "    return CaudalAlimento, W_SolutoAlimento, W_SolutoProducto, Temperatura_Alimento, T_SaturacionVapor, \\\n",
    "           T_SaturacionCondensador, U, Teb\n",
    "\n",
    "\n",
    "def Regnault(T):\n",
    "    value = 606.5 - 0.695 * T  # T en ºC y value en kcal/kg\n",
    "    return value\n",
    "\n",
    "\n",
    "def Balances(incognitas, A, Wa_s, Wl_s, Ta, T1, T3, Cp, U, teb):\n",
    "    L, V, W, T2, Area = incognitas\n",
    "    CalorT1 = Regnault(T1)\n",
    "    CalorT2 = Regnault(T2)\n",
    "\n",
    "    # Balance de materia\n",
    "    values = [A * Wa_s - L * Wl_s]  # Ec. 1\n",
    "    values.append(A - (L + V))  # Ec. 2\n",
    "\n",
    "    # B. Entalpico\n",
    "    values.append(W * CalorT1 + A * Cp * (Ta - T2) - CalorT2* V)  # Ec. 3\n",
    "    # Ec. Trans. Calor\n",
    "    values.append(W * CalorT1 - U * Area * (T1 - T2))  # Ec. 4\n",
    "\n",
    "    # Ec. Inc. Temp. Ebullición\n",
    "    values.append(T3 - (T2 - teb))  # Ec. 5\n",
    "\n",
    "    return values\n",
    "\n",
    "\n",
    "\n",
    "display(HTML('''<script>\n",
    "  function code_toggle() {\n",
    "    if (code_shown){\n",
    "      $('div.input').hide('500');CaudalAlimento,W_SolutoAlimento,W_SolutoProducto,Temperatura_Alimento,T_SaturacionVapor,\\\n",
    "           T_SaturacionCondensador,U, Teb=generador_parametros()\n",
    "\n",
    "      $('#toggleButton').val('Mostrar código')\n",
    "    } else {\n",
    "      $('div.input').show('500');\n",
    "      $('#toggleButton').val('Esconder código')\n",
    "    }\n",
    "    code_shown = !code_shown\n",
    "  }\n",
    "\n",
    "  $( document ).ready(function(){\n",
    "    code_shown=false;\n",
    "    $('div.input').hide()\n",
    "  });\n",
    "</script>\n",
    "<form action=\"javascript:code_toggle()\"><input type=\"submit\" id=\"toggleButton\" value=\"Mostrar código\"></form>'''))\n",
    "\n",
    "display(HTML('<h1 style=\"color:#000000\"><strong>Avanzar para generar datos</strong></h1>'))"
   ]
  },
  {
   "cell_type": "code",
   "execution_count": 2,
   "metadata": {},
   "outputs": [
    {
     "data": {
      "text/html": [
       "<h1 style=\"color:#000000\"><strong>Los datos del sistema son:</strong></h1>"
      ],
      "text/plain": [
       "<IPython.core.display.HTML object>"
      ]
     },
     "metadata": {},
     "output_type": "display_data"
    },
    {
     "data": {
      "text/html": [
       "<div>\n",
       "<style scoped>\n",
       "    .dataframe tbody tr th:only-of-type {\n",
       "        vertical-align: middle;\n",
       "    }\n",
       "\n",
       "    .dataframe tbody tr th {\n",
       "        vertical-align: top;\n",
       "    }\n",
       "\n",
       "    .dataframe thead th {\n",
       "        text-align: right;\n",
       "    }\n",
       "</style>\n",
       "<table border=\"1\" class=\"dataframe\">\n",
       "  <thead>\n",
       "    <tr style=\"text-align: right;\">\n",
       "      <th></th>\n",
       "      <th>A(kg/h)</th>\n",
       "      <th>Soluto_A(%)</th>\n",
       "      <th>Temp. A(ºC)</th>\n",
       "      <th>Soluto_L(%)</th>\n",
       "      <th>T1(ºC)</th>\n",
       "      <th>T3 (Saturación disolvente) (ºC)</th>\n",
       "      <th>Teb(ºC)</th>\n",
       "      <th>U(kcal/h·m2·ºC)</th>\n",
       "    </tr>\n",
       "  </thead>\n",
       "  <tbody>\n",
       "    <tr>\n",
       "      <th>Valores</th>\n",
       "      <td>33928</td>\n",
       "      <td>2.9</td>\n",
       "      <td>15.4</td>\n",
       "      <td>54.8</td>\n",
       "      <td>117.7</td>\n",
       "      <td>55.7</td>\n",
       "      <td>8.4</td>\n",
       "      <td>2635</td>\n",
       "    </tr>\n",
       "  </tbody>\n",
       "</table>\n",
       "</div>"
      ],
      "text/plain": [
       "         A(kg/h)  Soluto_A(%)  Temp. A(ºC)  Soluto_L(%)  T1(ºC)  \\\n",
       "Valores    33928          2.9         15.4         54.8   117.7   \n",
       "\n",
       "         T3 (Saturación disolvente) (ºC)  Teb(ºC)  U(kcal/h·m2·ºC)  \n",
       "Valores                             55.7      8.4             2635  "
      ]
     },
     "metadata": {},
     "output_type": "display_data"
    }
   ],
   "source": [
    "display(HTML('<h1 style=\"color:#000000\"><strong>Los datos del sistema son:</strong></h1>'))\n",
    "\n",
    "CaudalAlimento,W_SolutoAlimento,W_SolutoProducto,Temperatura_Alimento,T_SaturacionVapor,\\\n",
    "           T_SaturacionCondensador,U, Teb=generador_parametros()\n",
    "    \n",
    "valores=[np.round(CaudalAlimento),np.round((W_SolutoAlimento*100),1),np.round(Temperatura_Alimento,1),\n",
    "         np.round((W_SolutoProducto*100),1),np.round(T_SaturacionVapor,1),np.round(T_SaturacionCondensador,1),\n",
    "          np.round(Teb,1),np.round(U) ]\n",
    "\n",
    "\n",
    "etiquetas=['A(kg/h)','Soluto_A(%)', 'Temp. A(ºC)','Soluto_L(%)','T1(ºC)','T3 (Saturación disolvente) (ºC)','Teb(ºC)',\n",
    "          'U(kcal/h·m2·ºC)']\n",
    "\n",
    "data = dict(zip(etiquetas, valores))\n",
    "\n",
    "values = pd.DataFrame(data,index=['Valores'], columns=etiquetas)\n",
    "\n",
    "\n",
    "display(values)\n"
   ]
  },
  {
   "cell_type": "code",
   "execution_count": 3,
   "metadata": {},
   "outputs": [
    {
     "data": {
      "text/html": [
       "<h1 style=\"color:#000000\"><strong>Ecuaciones balance de materia</strong></h1>"
      ],
      "text/plain": [
       "<IPython.core.display.HTML object>"
      ]
     },
     "metadata": {},
     "output_type": "display_data"
    },
    {
     "data": {
      "text/latex": [
       "$\\displaystyle A=L+V$"
      ],
      "text/plain": [
       "<IPython.core.display.Math object>"
      ]
     },
     "metadata": {},
     "output_type": "display_data"
    },
    {
     "data": {
      "text/latex": [
       "$\\displaystyle A\\cdot X_A^s=L\\cdot X_{L}^s$"
      ],
      "text/plain": [
       "<IPython.core.display.Math object>"
      ]
     },
     "metadata": {},
     "output_type": "display_data"
    },
    {
     "data": {
      "text/html": [
       "<h1 style=\"color:#000000\"><strong>Ecuaciones balance de energía</strong></h1>"
      ],
      "text/plain": [
       "<IPython.core.display.HTML object>"
      ]
     },
     "metadata": {},
     "output_type": "display_data"
    },
    {
     "data": {
      "text/latex": [
       "$\\displaystyle W\\cdot \\lambda_{\\left ( T_1 \\right )}+A\\cdot C_p^{disolución}\\cdot \\left ( T_A-T_2 \\right )\\\n",
       "=V\\cdot \\lambda_{\\left ( T_2 \\right )}$"
      ],
      "text/plain": [
       "<IPython.core.display.Math object>"
      ]
     },
     "metadata": {},
     "output_type": "display_data"
    },
    {
     "data": {
      "text/html": [
       "<h1 style=\"color:#000000\"><strong>Caudal de calor intercambiado</strong></h1>"
      ],
      "text/plain": [
       "<IPython.core.display.HTML object>"
      ]
     },
     "metadata": {},
     "output_type": "display_data"
    },
    {
     "data": {
      "text/latex": [
       "$\\displaystyle Q=W\\cdot \\lambda_{\\left ( T_1 \\right )}=U\\cdot Area\\cdot \\left ( T_1-T_2 \\right )$"
      ],
      "text/plain": [
       "<IPython.core.display.Math object>"
      ]
     },
     "metadata": {},
     "output_type": "display_data"
    },
    {
     "data": {
      "text/html": [
       "<h1 style=\"color:#000000\"><strong>Temperatura de sobrecalentamiento</strong></h1>"
      ],
      "text/plain": [
       "<IPython.core.display.HTML object>"
      ]
     },
     "metadata": {},
     "output_type": "display_data"
    },
    {
     "data": {
      "text/latex": [
       "$\\displaystyle T_3=T_2-T_{teb_1}$"
      ],
      "text/plain": [
       "<IPython.core.display.Math object>"
      ]
     },
     "metadata": {},
     "output_type": "display_data"
    }
   ],
   "source": [
    "display(HTML('<h1 style=\"color:#000000\"><strong>Ecuaciones balance de materia</strong></h1>' ))\n",
    "\n",
    "display(Math(r'A=L+V'))\n",
    "display(Math(r'A\\cdot X_A^s=L\\cdot X_{L}^s'))\n",
    "\n",
    "\n",
    "display(HTML('<h1 style=\"color:#000000\"><strong>Ecuaciones balance de energía</strong></h1>' ))\n",
    "\n",
    "display(Math(r'W\\cdot \\lambda_{\\left ( T_1 \\right )}+A\\cdot C_p^{disolución}\\cdot \\left ( T_A-T_2 \\right )\\\n",
    "=V\\cdot \\lambda_{\\left ( T_2 \\right )}'))\n",
    "\n",
    "\n",
    "display(HTML('<h1 style=\"color:#000000\"><strong>Caudal de calor intercambiado</strong></h1>' ))\n",
    "display(Math(r'Q=W\\cdot \\lambda_{\\left ( T_1 \\right )}=U\\cdot Area\\cdot \\left ( T_1-T_2 \\right )'))\n",
    "\n",
    "\n",
    "\n",
    "display(HTML('<h1 style=\"color:#000000\"><strong>Temperatura de sobrecalentamiento</strong></h1>' ))\n",
    "display(Math(r'T_3=T_2-T_{teb_1}'))\n"
   ]
  },
  {
   "cell_type": "code",
   "execution_count": 4,
   "metadata": {},
   "outputs": [
    {
     "data": {
      "text/html": [
       "<h1 style=\"color:#000000\"><strong>El resultado de las corrientes del sistema y del área del intercambiador es:</strong></h1>"
      ],
      "text/plain": [
       "<IPython.core.display.HTML object>"
      ]
     },
     "metadata": {},
     "output_type": "display_data"
    },
    {
     "data": {
      "text/html": [
       "<div>\n",
       "<style scoped>\n",
       "    .dataframe tbody tr th:only-of-type {\n",
       "        vertical-align: middle;\n",
       "    }\n",
       "\n",
       "    .dataframe tbody tr th {\n",
       "        vertical-align: top;\n",
       "    }\n",
       "\n",
       "    .dataframe thead th {\n",
       "        text-align: right;\n",
       "    }\n",
       "</style>\n",
       "<table border=\"1\" class=\"dataframe\">\n",
       "  <thead>\n",
       "    <tr style=\"text-align: right;\">\n",
       "      <th></th>\n",
       "      <th>L(kg/h)</th>\n",
       "      <th>V (kg/h)</th>\n",
       "      <th>W(kg/h)</th>\n",
       "      <th>T2(ºC)</th>\n",
       "      <th>Area(m2)</th>\n",
       "      <th>Calor latente(T1) (kcal/kg)</th>\n",
       "      <th>Calor latente(T2) (kcal/kg)</th>\n",
       "    </tr>\n",
       "  </thead>\n",
       "  <tbody>\n",
       "    <tr>\n",
       "      <th>Valores</th>\n",
       "      <td>1795</td>\n",
       "      <td>32133</td>\n",
       "      <td>37563</td>\n",
       "      <td>64.1</td>\n",
       "      <td>140</td>\n",
       "      <td>525</td>\n",
       "      <td>562</td>\n",
       "    </tr>\n",
       "  </tbody>\n",
       "</table>\n",
       "</div>"
      ],
      "text/plain": [
       "         L(kg/h)  V (kg/h)  W(kg/h)  T2(ºC)  Area(m2)  \\\n",
       "Valores     1795     32133    37563    64.1       140   \n",
       "\n",
       "         Calor latente(T1) (kcal/kg)  Calor latente(T2) (kcal/kg)  \n",
       "Valores                          525                          562  "
      ]
     },
     "metadata": {},
     "output_type": "display_data"
    }
   ],
   "source": [
    "display(HTML('<h1 style=\"color:#000000\"><strong>El resultado de las corrientes del sistema y del área del intercambiador es:</strong></h1>' ))\n",
    "\n",
    "Resultado = optimize.fsolve(Balances, [1000,  1000, 1000, 50,  50],\\\n",
    "                                args=(CaudalAlimento, W_SolutoAlimento ,W_SolutoProducto,Temperatura_Alimento, \\\n",
    "                                T_SaturacionVapor,T_SaturacionCondensador,Cp_disolucion,U, Teb), xtol=1e-06, maxfev=500)\n",
    "\n",
    "\n",
    "L, V,   W, T2, Area=Resultado\n",
    "\n",
    "\n",
    "    \n",
    "valores_resultado=[int(np.round(L)),int(np.round(V)),int(np.round(W)),float(np.round(T2,1)),int(np.round(Area)),\\\n",
    "                  int(np.round(Regnault(T_SaturacionVapor))),int(np.round(Regnault(T2)))]\n",
    "\n",
    "#print (valores_resultado)\n",
    "\n",
    "etiquetas_resultado=['L(kg/h)','V (kg/h)','W(kg/h)','T2(ºC)','Area(m2)','Calor latente(T1) (kcal/kg)',\\\n",
    "                     'Calor latente(T2) (kcal/kg)']\n",
    "\n",
    "data_resultado = dict(zip(etiquetas_resultado,valores_resultado))\n",
    "\n",
    "\n",
    "values_resultado = pd.DataFrame(data_resultado ,index=['Valores'], columns=etiquetas_resultado)\n",
    "\n",
    "\n",
    "display(values_resultado)\n"
   ]
  },
  {
   "cell_type": "code",
   "execution_count": 5,
   "metadata": {},
   "outputs": [
    {
     "data": {
      "text/html": [
       "\n",
       "\n",
       "<footer id=\"attribution\" style=\"float:right; color:#999; background:#fff;\">\n",
       "Programado con Jupyter Notebook en Python 3.6. </footer>"
      ],
      "text/plain": [
       "<IPython.core.display.HTML object>"
      ]
     },
     "metadata": {},
     "output_type": "display_data"
    }
   ],
   "source": [
    "display(HTML('''\n",
    "\n",
    "<footer id=\"attribution\" style=\"float:right; color:#999; background:#fff;\">\n",
    "Programado con Jupyter Notebook en Python 3.6. </footer>'''))"
   ]
  }
 ],
 "metadata": {
  "kernelspec": {
   "display_name": "Python 3",
   "language": "python",
   "name": "python3"
  },
  "language_info": {
   "codemirror_mode": {
    "name": "ipython",
    "version": 3
   },
   "file_extension": ".py",
   "mimetype": "text/x-python",
   "name": "python",
   "nbconvert_exporter": "python",
   "pygments_lexer": "ipython3",
   "version": "3.8.5"
  },
  "toc": {
   "colors": {
    "hover_highlight": "#DAA520",
    "navigate_num": "#000000",
    "navigate_text": "#333333",
    "running_highlight": "#FF0000",
    "selected_highlight": "#FFD700",
    "sidebar_border": "#EEEEEE",
    "wrapper_background": "#FFFFFF"
   },
   "moveMenuLeft": true,
   "nav_menu": {
    "height": "12px",
    "width": "252px"
   },
   "navigate_menu": true,
   "number_sections": true,
   "sideBar": true,
   "threshold": 4,
   "toc_cell": false,
   "toc_section_display": "block",
   "toc_window_display": false,
   "widenNotebook": false
  },
  "varInspector": {
   "cols": {
    "lenName": 16,
    "lenType": 16,
    "lenVar": 40
   },
   "kernels_config": {
    "python": {
     "delete_cmd_postfix": "",
     "delete_cmd_prefix": "del ",
     "library": "var_list.py",
     "varRefreshCmd": "print(var_dic_list())"
    },
    "r": {
     "delete_cmd_postfix": ") ",
     "delete_cmd_prefix": "rm(",
     "library": "var_list.r",
     "varRefreshCmd": "cat(var_dic_list()) "
    }
   },
   "types_to_exclude": [
    "module",
    "function",
    "builtin_function_or_method",
    "instance",
    "_Feature"
   ],
   "window_display": false
  }
 },
 "nbformat": 4,
 "nbformat_minor": 2
}
