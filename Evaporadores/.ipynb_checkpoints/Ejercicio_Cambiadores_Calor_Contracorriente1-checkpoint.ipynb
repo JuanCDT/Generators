{
 "cells": [
  {
   "cell_type": "code",
   "execution_count": 1,
   "metadata": {},
   "outputs": [
    {
     "data": {
      "text/html": [
       "<script>\n",
       "  function code_toggle() {\n",
       "    if (code_shown){\n",
       "      $('div.input').hide('500');\n",
       "      $('#toggleButton').val('Mostrar código')\n",
       "    } else {\n",
       "      $('div.input').show('500');\n",
       "      $('#toggleButton').val('Esconder código')\n",
       "    }\n",
       "    code_shown = !code_shown\n",
       "  }\n",
       "\n",
       "  $( document ).ready(function(){\n",
       "    code_shown=false;\n",
       "    $('div.input').hide()\n",
       "  });\n",
       "</script>\n",
       "<form action=\"javascript:code_toggle()\"><input type=\"submit\" id=\"toggleButton\" value=\"Mostrar código\"></form>"
      ],
      "text/plain": [
       "<IPython.core.display.HTML object>"
      ]
     },
     "metadata": {},
     "output_type": "display_data"
    },
    {
     "data": {
      "text/html": [
       "<h1 style=\"color:#C30\"><strong>Avanzar para generar datos</strong></h1>"
      ],
      "text/plain": [
       "<IPython.core.display.HTML object>"
      ]
     },
     "metadata": {},
     "output_type": "display_data"
    }
   ],
   "source": [
    "%matplotlib inline\n",
    "import numpy as np\n",
    "from scipy import optimize\n",
    "from scipy.integrate import ode\n",
    "import matplotlib.pyplot as mpl\n",
    "import matplotlib.patches as patches\n",
    "import random\n",
    "import math\n",
    "import pandas as pd\n",
    "import IPython.core.display as di\n",
    "from ipywidgets import interact\n",
    "import notebook\n",
    "from IPython.display import clear_output, display, HTML, Image,Math, Latex\n",
    "from IPython.external import mathjax\n",
    "\n",
    "Cp_vapor=0.46,\n",
    "Cp_disolucion=1 #Cp en kcal/kg·ºC\n",
    "\n",
    "\n",
    "\n",
    "def generador_parametros():  # generación de parámetros del problema de un evaporador de doble efecto\n",
    "\n",
    "    CaudalAlimento = round(random.uniform(20000., 35000.)) #Caudal másico alimento\n",
    "    W_SolutoAlimento= round(random.uniform(0.01, 0.05), 3) #Fracción másica soluto en la alimentación\n",
    "    W_SolutoProducto = round(random.uniform(0.35, 0.55), 3) #CFracción másica soluto en la salida del segundo elemento\n",
    "    Temperatura_Alimento = round(random.uniform(85., 95.), 1) #Temperatura del alimento\n",
    "    T_SaturacionVapor= round(random.uniform(110., 125.),1) #Temperatura de saturación del vapor de agua\n",
    "    T_SaturacionCondensadorFinal = round(random.uniform(45., 75.), 1)  # Temperatura de saturación condensador final\n",
    "    U1= round(random.uniform(2500, 2900.)) #Coeff. Global Efecto 1\n",
    "    U2= round(random.uniform(1500., 2200.))  #Coeff. Global Efecto 2\n",
    "    Teb1= round(random.uniform(2, 10.),1) #Elevación del punto de ebullición en el primer efecto\n",
    "    Teb2= round(random.uniform(5., 15.), 1)  #Elevación del punto de ebullición en el segundo efecto\n",
    "\n",
    "    return CaudalAlimento,W_SolutoAlimento,W_SolutoProducto,Temperatura_Alimento,T_SaturacionVapor,\\\n",
    "           T_SaturacionCondensadorFinal,U1,U2, Teb1,Teb2\n",
    "    \n",
    "    \n",
    "\n",
    "def Regnault(T):\n",
    "    value=606.5-0.695*T #T en ºC y value en kcal/kg\n",
    "    return value\n",
    "\n",
    "\n",
    "def Balances(incognitas, A, Wa_s ,Wl2_s,Ta,T1,T5,Cp,U1,U2,teb1,teb2):\n",
    "    L1, L2, V1, V2, Wl1_s, W, T2, T3, T4,  Area =incognitas\n",
    "    CalorT1=Regnault(T1)\n",
    "    CalorT3=Regnault(T3)\n",
    "    CalorT5=Regnault(T5)\n",
    "\n",
    "    # Tutil=T1-T5-(teb1+teb2)\n",
    "    #Total\n",
    "    values=[A*Wa_s-L2*Wl2_s] #Ec. 1\n",
    "    values.append(A-(L2+V1+V2))  #Ec. 2\n",
    "\n",
    "    # Evaporador 1\n",
    "    values.append(A-(L1+V1))  #Ec. 3\n",
    "    values.append(A*Wa_s-(L1*Wl1_s))  #Ec. 4\n",
    "\n",
    "    # Entalpico Evaporador 1\n",
    "    values.append(W*CalorT1+A*Cp*(Ta-T2)-CalorT3*V1)  #Ec. 5\n",
    "    # Entalpico Evaporador 2\n",
    "    values.append(V1*CalorT3+L1*Cp*(T3-T4)-CalorT5*V2)  #Ec. 6\n",
    "\n",
    "\n",
    "    values.append(W*CalorT1 - U1 *Area*(T1-T2))  #Ec. 7\n",
    "    values.append(V1*CalorT3 - U2 * Area * (T3 - T4))  #Ec. 8\n",
    "    values.append(T3-(T2-teb1))  #Ec. 9\n",
    "    values.append(T5-(T4-teb2) ) #Ec. 10\n",
    "\n",
    "\n",
    "    return values\n",
    "\n",
    "\n",
    "display(HTML('''<script>\n",
    "  function code_toggle() {\n",
    "    if (code_shown){\n",
    "      $('div.input').hide('500');\n",
    "      $('#toggleButton').val('Mostrar código')\n",
    "    } else {\n",
    "      $('div.input').show('500');\n",
    "      $('#toggleButton').val('Esconder código')\n",
    "    }\n",
    "    code_shown = !code_shown\n",
    "  }\n",
    "\n",
    "  $( document ).ready(function(){\n",
    "    code_shown=false;\n",
    "    $('div.input').hide()\n",
    "  });\n",
    "</script>\n",
    "<form action=\"javascript:code_toggle()\"><input type=\"submit\" id=\"toggleButton\" value=\"Mostrar código\"></form>'''))\n",
    "\n",
    "display(HTML('<h1 style=\"color:#C30\"><strong>Avanzar para generar datos</strong></h1>'))"
   ]
  },
  {
   "cell_type": "code",
   "execution_count": 2,
   "metadata": {},
   "outputs": [
    {
     "data": {
      "text/html": [
       "<h1 style=\"color:#C30\"><strong>Los datos del sistema son:</strong></h1>"
      ],
      "text/plain": [
       "<IPython.core.display.HTML object>"
      ]
     },
     "metadata": {},
     "output_type": "display_data"
    },
    {
     "data": {
      "text/html": [
       "<div>\n",
       "<style>\n",
       "    .dataframe thead tr:only-child th {\n",
       "        text-align: right;\n",
       "    }\n",
       "\n",
       "    .dataframe thead th {\n",
       "        text-align: left;\n",
       "    }\n",
       "\n",
       "    .dataframe tbody tr th {\n",
       "        vertical-align: top;\n",
       "    }\n",
       "</style>\n",
       "<table border=\"1\" class=\"dataframe\">\n",
       "  <thead>\n",
       "    <tr style=\"text-align: right;\">\n",
       "      <th></th>\n",
       "      <th>A(kg/h)</th>\n",
       "      <th>Soluto_A(%)</th>\n",
       "      <th>Temp. A(ºC)</th>\n",
       "      <th>Soluto_L2(%)</th>\n",
       "      <th>T1(ºC)</th>\n",
       "      <th>T5(ºC)</th>\n",
       "      <th>Teb1(ºC)</th>\n",
       "      <th>Teb2(ºC)</th>\n",
       "      <th>U1(kcal/h·m2·ºC)</th>\n",
       "      <th>U2(kcal/h·m2·ºC)</th>\n",
       "    </tr>\n",
       "  </thead>\n",
       "  <tbody>\n",
       "    <tr>\n",
       "      <th>Valores</th>\n",
       "      <td>28245</td>\n",
       "      <td>1.7</td>\n",
       "      <td>86.8</td>\n",
       "      <td>50.3</td>\n",
       "      <td>110.2</td>\n",
       "      <td>53.2</td>\n",
       "      <td>6.7</td>\n",
       "      <td>13.4</td>\n",
       "      <td>2798</td>\n",
       "      <td>1561</td>\n",
       "    </tr>\n",
       "  </tbody>\n",
       "</table>\n",
       "</div>"
      ],
      "text/plain": [
       "         A(kg/h)  Soluto_A(%)  Temp. A(ºC)  Soluto_L2(%)  T1(ºC)  T5(ºC)  \\\n",
       "Valores    28245          1.7         86.8          50.3   110.2    53.2   \n",
       "\n",
       "         Teb1(ºC)  Teb2(ºC)  U1(kcal/h·m2·ºC)  U2(kcal/h·m2·ºC)  \n",
       "Valores       6.7      13.4              2798              1561  "
      ]
     },
     "metadata": {},
     "output_type": "display_data"
    }
   ],
   "source": [
    "display(HTML('<h1 style=\"color:#C30\"><strong>Los datos del sistema son:</strong></h1>'))\n",
    "\n",
    "CaudalAlimento,W_SolutoAlimento,W_SolutoProducto,Temperatura_Alimento,T_SaturacionVapor,\\\n",
    "           T_SaturacionCondensadorFinal,U1,U2, Teb1,Teb2=generador_parametros()\n",
    "\n",
    "    \n",
    "valores=[np.round(CaudalAlimento),np.round((W_SolutoAlimento*100),1),np.round(Temperatura_Alimento,1),\n",
    "         np.round((W_SolutoProducto*100),1),np.round(T_SaturacionVapor,1),np.round(T_SaturacionCondensadorFinal,1),\n",
    "          np.round(Teb1,1),np.round(Teb2,1),np.round(U1),np.round(U2) ]\n",
    "\n",
    "\n",
    "etiquetas=['A(kg/h)','Soluto_A(%)', 'Temp. A(ºC)','Soluto_L2(%)','T1(ºC)','T5(ºC)','Teb1(ºC)','Teb2(ºC)',\n",
    "          'U1(kcal/h·m2·ºC)','U2(kcal/h·m2·ºC)']\n",
    "\n",
    "data = dict(zip(etiquetas, valores))\n",
    "\n",
    "values = pd.DataFrame(data,index=['Valores'], columns=etiquetas)\n",
    "\n",
    "\n",
    "display(values)\n"
   ]
  },
  {
   "cell_type": "code",
   "execution_count": 3,
   "metadata": {
    "scrolled": false
   },
   "outputs": [
    {
     "data": {
      "text/html": [
       "<h1 style=\"color:#C30\"><strong>Esquema del evaporador de doble efecto.</strong></h1>"
      ],
      "text/plain": [
       "<IPython.core.display.HTML object>"
      ]
     },
     "metadata": {},
     "output_type": "display_data"
    },
    {
     "data": {
      "image/jpeg": "[encoded data removed]",
      "text/plain": [
       "<IPython.core.display.Image object>"
      ]
     },
     "metadata": {},
     "output_type": "display_data"
    }
   ],
   "source": [
    "display(HTML('<h1 style=\"color:#C30\"><strong>Esquema del evaporador de doble efecto.</strong></h1>' ))\n",
    "display(Image(filename='./Imagenes/Esquema_Evaporadores_1.jpg'));"
   ]
  },
  {
   "cell_type": "code",
   "execution_count": 4,
   "metadata": {},
   "outputs": [
    {
     "data": {
      "text/html": [
       "<h1 style=\"color:#3355FF\"><strong>Ecuaciones balance de materia</strong></h1>"
      ],
      "text/plain": [
       "<IPython.core.display.HTML object>"
      ]
     },
     "metadata": {},
     "output_type": "display_data"
    },
    {
     "data": {
      "text/html": [
       "<h2 style=\"color:#3396FF\"><u>Balance Total:</u></h2>"
      ],
      "text/plain": [
       "<IPython.core.display.HTML object>"
      ]
     },
     "metadata": {},
     "output_type": "display_data"
    },
    {
     "data": {
      "text/latex": [
       "$$A=L_2+V_1+V_2$$"
      ],
      "text/plain": [
       "<IPython.core.display.Math object>"
      ]
     },
     "metadata": {},
     "output_type": "display_data"
    },
    {
     "data": {
      "text/latex": [
       "$$A\\cdot X_A^s=L_2\\cdot X_{L_2}^s$$"
      ],
      "text/plain": [
       "<IPython.core.display.Math object>"
      ]
     },
     "metadata": {},
     "output_type": "display_data"
    },
    {
     "data": {
      "text/html": [
       "<h2 style=\"color:#3396FF\"><u>Balance Evaporador 1:</u></h2>"
      ],
      "text/plain": [
       "<IPython.core.display.HTML object>"
      ]
     },
     "metadata": {},
     "output_type": "display_data"
    },
    {
     "data": {
      "text/latex": [
       "$$A=L_1+V_1$$"
      ],
      "text/plain": [
       "<IPython.core.display.Math object>"
      ]
     },
     "metadata": {},
     "output_type": "display_data"
    },
    {
     "data": {
      "text/latex": [
       "$$A\\cdot X_A^s=L_1\\cdot X_{L_1}^s$$"
      ],
      "text/plain": [
       "<IPython.core.display.Math object>"
      ]
     },
     "metadata": {},
     "output_type": "display_data"
    },
    {
     "data": {
      "text/html": [
       "<h1 style=\"color:#3355FF\"><strong>Ecuaciones balance de energía</strong></h1>"
      ],
      "text/plain": [
       "<IPython.core.display.HTML object>"
      ]
     },
     "metadata": {},
     "output_type": "display_data"
    },
    {
     "data": {
      "text/html": [
       "<h2 style=\"color:#3396FF\"><u>Balance Evaporador 1 ($T_{ref}=T_2$):</u></h2>"
      ],
      "text/plain": [
       "<IPython.core.display.HTML object>"
      ]
     },
     "metadata": {},
     "output_type": "display_data"
    },
    {
     "data": {
      "text/latex": [
       "$$W\\cdot \\lambda_{\\left ( T_1 \\right )}+A\\cdot C_p^{soluto}\\cdot \\left ( T_A-T_2 \\right )=V_1\\cdot \\lambda_{\\left ( T_2 \\right )}$$"
      ],
      "text/plain": [
       "<IPython.core.display.Math object>"
      ]
     },
     "metadata": {},
     "output_type": "display_data"
    },
    {
     "data": {
      "text/html": [
       "<h2 style=\"color:#3396FF\"><u>Balance Evaporador 2 ($T_{ref}=T_4$):</u></h2>"
      ],
      "text/plain": [
       "<IPython.core.display.HTML object>"
      ]
     },
     "metadata": {},
     "output_type": "display_data"
    },
    {
     "data": {
      "text/latex": [
       "$$V_1\\cdot \\lambda_{\\left ( T_2 \\right )}+L_1\\cdot C_p^{soluto}\\cdot \\left ( T_3-T_4 \\right )=V_2\\cdot \\lambda_{\\left ( T_4 \\right )}$$"
      ],
      "text/plain": [
       "<IPython.core.display.Math object>"
      ]
     },
     "metadata": {},
     "output_type": "display_data"
    },
    {
     "data": {
      "text/html": [
       "<h1 style=\"color:#3355FF\"><strong>Caudales de calor intercambiados</strong></h1>"
      ],
      "text/plain": [
       "<IPython.core.display.HTML object>"
      ]
     },
     "metadata": {},
     "output_type": "display_data"
    },
    {
     "data": {
      "text/html": [
       "<h2 style=\"color:#3396FF\"><u>Caudal de calor Evaporador 1:</u></h2>"
      ],
      "text/plain": [
       "<IPython.core.display.HTML object>"
      ]
     },
     "metadata": {},
     "output_type": "display_data"
    },
    {
     "data": {
      "text/latex": [
       "$$W\\cdot \\lambda_{\\left ( T_1 \\right )}=U_1\\cdot Area\\cdot \\left ( T_1-T_2 \\right )$$"
      ],
      "text/plain": [
       "<IPython.core.display.Math object>"
      ]
     },
     "metadata": {},
     "output_type": "display_data"
    },
    {
     "data": {
      "text/html": [
       "<h2 style=\"color:#3396FF\"><u>Caudal de calor Evaporador 2:</u></h2>"
      ],
      "text/plain": [
       "<IPython.core.display.HTML object>"
      ]
     },
     "metadata": {},
     "output_type": "display_data"
    },
    {
     "data": {
      "text/latex": [
       "$$V_1\\cdot \\lambda_{\\left ( T_2 \\right )}=U_2\\cdot Area\\cdot \\left ( T_3-T_4 \\right )$$"
      ],
      "text/plain": [
       "<IPython.core.display.Math object>"
      ]
     },
     "metadata": {},
     "output_type": "display_data"
    },
    {
     "data": {
      "text/html": [
       "<h1 style=\"color:#3355FF\"><strong>Temperaturas de sobrecalentamiento</strong></h1>"
      ],
      "text/plain": [
       "<IPython.core.display.HTML object>"
      ]
     },
     "metadata": {},
     "output_type": "display_data"
    },
    {
     "data": {
      "text/html": [
       "<h2 style=\"color:#3396FF\"><u>Vapor Evaporador 1:</u></h2>"
      ],
      "text/plain": [
       "<IPython.core.display.HTML object>"
      ]
     },
     "metadata": {},
     "output_type": "display_data"
    },
    {
     "data": {
      "text/latex": [
       "$$T_3=T_2-T_{teb_1}$$"
      ],
      "text/plain": [
       "<IPython.core.display.Math object>"
      ]
     },
     "metadata": {},
     "output_type": "display_data"
    },
    {
     "data": {
      "text/html": [
       "<h2 style=\"color:#3396FF\"><u>Vapor Evaporador 2:</u></h2>"
      ],
      "text/plain": [
       "<IPython.core.display.HTML object>"
      ]
     },
     "metadata": {},
     "output_type": "display_data"
    },
    {
     "data": {
      "text/latex": [
       "$$T_5=T_4-T_{teb_2}$$"
      ],
      "text/plain": [
       "<IPython.core.display.Math object>"
      ]
     },
     "metadata": {},
     "output_type": "display_data"
    }
   ],
   "source": [
    "display(HTML('<h1 style=\"color:#3355FF\"><strong>Ecuaciones balance de materia</strong></h1>' ))\n",
    "display(HTML('<h2 style=\"color:#3396FF\"><u>Balance Total:</u></h2>' ))\n",
    "display(Math(r'A=L_2+V_1+V_2'))\n",
    "display(Math(r'A\\cdot X_A^s=L_2\\cdot X_{L_2}^s'))\n",
    "\n",
    "display(HTML('<h2 style=\"color:#3396FF\"><u>Balance Evaporador 1:</u></h2>' ))\n",
    "display(Math(r'A=L_1+V_1'))\n",
    "display(Math(r'A\\cdot X_A^s=L_1\\cdot X_{L_1}^s'))\n",
    "\n",
    "\n",
    "display(HTML('<h1 style=\"color:#3355FF\"><strong>Ecuaciones balance de energía</strong></h1>' ))\n",
    "display(HTML('<h2 style=\"color:#3396FF\"><u>Balance Evaporador 1 ($T_{ref}=T_2$):</u></h2>' ))\n",
    "display(Math(r'W\\cdot \\lambda_{\\left ( T_1 \\right )}+A\\cdot C_p^{soluto}\\cdot \\left ( T_A-T_2 \\right )\\\n",
    "=V_1\\cdot \\lambda_{\\left ( T_2 \\right )}'))\n",
    "\n",
    "display(HTML('<h2 style=\"color:#3396FF\"><u>Balance Evaporador 2 ($T_{ref}=T_4$):</u></h2>' ))\n",
    "display(Math(r'V_1\\cdot \\lambda_{\\left ( T_2 \\right )}+L_1\\cdot C_p^{soluto}\\cdot \\left ( T_3-T_4 \\right )\\\n",
    "=V_2\\cdot \\lambda_{\\left ( T_4 \\right )}'))\n",
    "\n",
    "\n",
    "display(HTML('<h1 style=\"color:#3355FF\"><strong>Caudales de calor intercambiados</strong></h1>' ))\n",
    "display(HTML('<h2 style=\"color:#3396FF\"><u>Caudal de calor Evaporador 1:</u></h2>' ))\n",
    "display(Math(r'W\\cdot \\lambda_{\\left ( T_1 \\right )}=U_1\\cdot Area\\cdot \\left ( T_1-T_2 \\right )'))\n",
    "\n",
    "display(HTML('<h2 style=\"color:#3396FF\"><u>Caudal de calor Evaporador 2:</u></h2>' ))\n",
    "display(Math(r'V_1\\cdot \\lambda_{\\left ( T_2 \\right )}=U_2\\cdot Area\\cdot \\left ( T_3-T_4 \\right )'))\n",
    "\n",
    "\n",
    "display(HTML('<h1 style=\"color:#3355FF\"><strong>Temperaturas de sobrecalentamiento</strong></h1>' ))\n",
    "display(HTML('<h2 style=\"color:#3396FF\"><u>Vapor Evaporador 1:</u></h2>' ))\n",
    "display(Math(r'T_3=T_2-T_{teb_1}'))\n",
    "display(HTML('<h2 style=\"color:#3396FF\"><u>Vapor Evaporador 2:</u></h2>' ))\n",
    "display(Math(r'T_5=T_4-T_{teb_2}'))"
   ]
  },
  {
   "cell_type": "code",
   "execution_count": 5,
   "metadata": {},
   "outputs": [
    {
     "data": {
      "text/html": [
       "<h1 style=\"color:#3C9\"><strong>El resultado de las corrientes del sistema y del área del intercambiador es:</strong></h1>"
      ],
      "text/plain": [
       "<IPython.core.display.HTML object>"
      ]
     },
     "metadata": {},
     "output_type": "display_data"
    },
    {
     "data": {
      "text/html": [
       "<div>\n",
       "<style>\n",
       "    .dataframe thead tr:only-child th {\n",
       "        text-align: right;\n",
       "    }\n",
       "\n",
       "    .dataframe thead th {\n",
       "        text-align: left;\n",
       "    }\n",
       "\n",
       "    .dataframe tbody tr th {\n",
       "        vertical-align: top;\n",
       "    }\n",
       "</style>\n",
       "<table border=\"1\" class=\"dataframe\">\n",
       "  <thead>\n",
       "    <tr style=\"text-align: right;\">\n",
       "      <th></th>\n",
       "      <th>L1(kg/h)</th>\n",
       "      <th>L2(kg/h)</th>\n",
       "      <th>V1(kg/h)</th>\n",
       "      <th>V2(kg/h)</th>\n",
       "      <th>Soluto_L1(%)</th>\n",
       "      <th>W(kg/h)</th>\n",
       "      <th>T2(ºC)</th>\n",
       "      <th>T3(ºC)</th>\n",
       "      <th>T4(ºC)</th>\n",
       "      <th>Area(m2)</th>\n",
       "    </tr>\n",
       "  </thead>\n",
       "  <tbody>\n",
       "    <tr>\n",
       "      <th>Valores</th>\n",
       "      <td>14593</td>\n",
       "      <td>955</td>\n",
       "      <td>13652</td>\n",
       "      <td>13638</td>\n",
       "      <td>3.3</td>\n",
       "      <td>14540</td>\n",
       "      <td>96.7</td>\n",
       "      <td>90.0</td>\n",
       "      <td>66.6</td>\n",
       "      <td>204</td>\n",
       "    </tr>\n",
       "  </tbody>\n",
       "</table>\n",
       "</div>"
      ],
      "text/plain": [
       "         L1(kg/h)  L2(kg/h)  V1(kg/h)  V2(kg/h)  Soluto_L1(%)  W(kg/h)  \\\n",
       "Valores     14593       955     13652     13638           3.3    14540   \n",
       "\n",
       "         T2(ºC)  T3(ºC)  T4(ºC)  Area(m2)  \n",
       "Valores    96.7    90.0    66.6       204  "
      ]
     },
     "metadata": {},
     "output_type": "display_data"
    }
   ],
   "source": [
    "display(HTML('<h1 style=\"color:#3C9\"><strong>El resultado de las corrientes del sistema y del área del intercambiador es:</strong></h1>' ))\n",
    "\n",
    "Resultado = optimize.fsolve(Balances, [1000, 1000, 1000, 1000, 0.9, 1000, 50, 50, 50,  50],\\\n",
    "                                args=(CaudalAlimento, W_SolutoAlimento ,W_SolutoProducto,Temperatura_Alimento, \\\n",
    "                                T_SaturacionVapor,T_SaturacionCondensadorFinal,Cp_disolucion,U1,U2, \\\n",
    "                                      Teb1,Teb2), xtol=1e-06, maxfev=500)\n",
    "\n",
    "\n",
    "L1, L2, V1, V2, Wl1_s, W, T2, T3, T4,  Area=Resultado\n",
    "\n",
    "\n",
    "\n",
    "\n",
    "    \n",
    "valores_resultado=[int(np.round(L1)),int(np.round(L2)),int(np.round(V1)),int(np.round(V2)),\n",
    "                   float((np.round(Wl1_s,3)*100)),int(np.round(W)),float(np.round(T2,1)),\n",
    "                    float(np.round(T3,1)),float(np.round(T4,1)),int(np.round(Area))]\n",
    "\n",
    "#print (valores_resultado)\n",
    "\n",
    "etiquetas_resultado=['L1(kg/h)','L2(kg/h)','V1(kg/h)','V2(kg/h)','Soluto_L1(%)','W(kg/h)','T2(ºC)',\n",
    "                    'T3(ºC)','T4(ºC)','Area(m2)']\n",
    "\n",
    "data_resultado = dict(zip(etiquetas_resultado,valores_resultado))\n",
    "\n",
    "\n",
    "values_resultado = pd.DataFrame(data_resultado ,index=['Valores'], columns=etiquetas_resultado)\n",
    "\n",
    "\n",
    "display(values_resultado)\n",
    "\n",
    "\n",
    "'''\n",
    "\n",
    "\n",
    "print (\"\\n L1(kg/h):\", int(round(L1)), \" L2(kg/h):\",int(round(L2)),\" V1(kg/h):\", int(round(V1)),\\\n",
    "       \" V2(kg/h):\", int(round(V2)),\" Soluto_L1(%):\", (round(Wl1_s,3)*100), \"\\n W(kg/h):\", int(round(W)),\\\n",
    "       \" T2(ºC):\", round(T2,1), \" T3(ºC):\", round(T3,1), \" T4(ºC):\", round(T4,1),\" Area(m2):\",round(Area))''';"
   ]
  },
  {
   "cell_type": "code",
   "execution_count": 6,
   "metadata": {},
   "outputs": [
    {
     "data": {
      "text/html": [
       "\n",
       "\n",
       "<footer id=\"attribution\" style=\"float:right; color:#999; background:#fff;\">\n",
       "Programado con Jupyter. </footer>"
      ],
      "text/plain": [
       "<IPython.core.display.HTML object>"
      ]
     },
     "metadata": {},
     "output_type": "display_data"
    }
   ],
   "source": [
    "display(HTML('''\n",
    "\n",
    "<footer id=\"attribution\" style=\"float:right; color:#999; background:#fff;\">\n",
    "Programado con Jupyter. </footer>'''))"
   ]
  }
 ],
 "metadata": {
  "kernelspec": {
   "display_name": "Python 3",
   "language": "python",
   "name": "python3"
  },
  "language_info": {
   "codemirror_mode": {
    "name": "ipython",
    "version": 3
   },
   "file_extension": ".py",
   "mimetype": "text/x-python",
   "name": "python",
   "nbconvert_exporter": "python",
   "pygments_lexer": "ipython3",
   "version": "3.6.1"
  }
 },
 "nbformat": 4,
 "nbformat_minor": 1
}
